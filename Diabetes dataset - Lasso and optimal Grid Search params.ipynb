{
 "cells": [
  {
   "cell_type": "code",
   "execution_count": 19,
   "metadata": {},
   "outputs": [
    {
     "name": "stdout",
     "output_type": "stream",
     "text": [
      "[0.4886495  0.48864636 0.48864212 0.48863634 0.4886284  0.48861737\n",
      " 0.4886019  0.48857987 0.48854795 0.48850092 0.48843016 0.48840489\n",
      " 0.48854581 0.48870827 0.48890104 0.48906527 0.4891853  0.48928753\n",
      " 0.48922733 0.4890759  0.48898913 0.48857927 0.4879268  0.48715213\n",
      " 0.48695554 0.48647804 0.48496762 0.48136779 0.47609155 0.46797417]\n",
      "[0.01640814 0.01638836 0.01636226 0.01632782 0.01628239 0.01622247\n",
      " 0.01614352 0.01603952 0.01590262 0.01572263 0.01548631 0.01527929\n",
      " 0.01525449 0.0152403  0.01525425 0.01535967 0.01556201 0.01581466\n",
      " 0.01624002 0.01686422 0.01749194 0.01814221 0.0191159  0.0206519\n",
      " 0.02146695 0.02276078 0.02427216 0.0260504  0.02509599 0.02131215]\n",
      "Best parameters: {'alpha': 0.011264816923358867}\n",
      "Best score: 0.4892875252660418\n"
     ]
    }
   ],
   "source": [
    "from sklearn import datasets\n",
    "from sklearn.linear_model import LassoCV\n",
    "from sklearn.linear_model import Lasso\n",
    "from sklearn.model_selection import KFold\n",
    "from sklearn.model_selection import GridSearchCV\n",
    "from sklearn.model_selection import cross_val_score\n",
    "import numpy as np\n",
    "import matplotlib.pyplot as plt\n",
    "\n",
    "diabetes = datasets.load_diabetes()\n",
    "\n",
    "X = diabetes.data\n",
    "y = diabetes.target\n",
    "\n",
    "\n",
    "lasso = Lasso(random_state=42)\n",
    "\n",
    "alphas = np.logspace(-4, -0.5, 30)\n",
    "\n",
    "tuned_parameters = [{'alpha': alphas}]\n",
    "n_folds = 3\n",
    "\n",
    "clf = GridSearchCV(lasso, tuned_parameters, cv=n_folds, refit=False)\n",
    "clf.fit(X, y)\n",
    "scores = clf.cv_results_['mean_test_score']\n",
    "scores_std = clf.cv_results_['std_test_score']\n",
    "best_params = clf.best_params_\n",
    "best_score = clf.best_score_\n",
    "print(\"{}\".format(scores))\n",
    "print(\"{}\".format(scores_std))\n",
    "print(\"Best parameters: {}\".format(best_params))\n",
    "print(\"Best score: {}\".format(best_score))\n",
    "\n",
    "\n",
    "#previously done in clf_20newsgroups\n",
    "# parameters = {'vect__ngram_range': [(1, 1), (1, 2)],\n",
    "#               'clf__alpha': (1e-2, 1e-3),\n",
    "# }\n"
   ]
  }
 ],
 "metadata": {
  "kernelspec": {
   "display_name": "Python 3",
   "language": "python",
   "name": "python3"
  },
  "language_info": {
   "codemirror_mode": {
    "name": "ipython",
    "version": 3
   },
   "file_extension": ".py",
   "mimetype": "text/x-python",
   "name": "python",
   "nbconvert_exporter": "python",
   "pygments_lexer": "ipython3",
   "version": "3.5.4"
  }
 },
 "nbformat": 4,
 "nbformat_minor": 2
}
