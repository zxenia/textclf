{
 "cells": [
  {
   "cell_type": "code",
   "execution_count": 1,
   "metadata": {},
   "outputs": [],
   "source": [
    "# playing with The UCI ML News Aggregator Dataset http://archive.ics.uci.edu/ml/datasets/News+Aggregator\n",
    "import numpy as np\n",
    "import pandas as pd\n",
    "import matplotlib\n",
    "import matplotlib.pyplot as plt\n",
    "import scikitplot as skplt"
   ]
  },
  {
   "cell_type": "code",
   "execution_count": 2,
   "metadata": {},
   "outputs": [],
   "source": [
    "#import data and add header row\n",
    "news = pd.read_csv(\"NewsAggregatorDataset/newsCorpora.csv\", sep=\"\\t\",\n",
    "                  names=[\"ID\", \"TITLE\", \"URL\", \"PUBLISHER\", \"CATEGORY\", \"STORY\", \"HOSTNAME\", \"TIMESTAMP\"])"
   ]
  },
  {
   "cell_type": "code",
   "execution_count": 3,
   "metadata": {},
   "outputs": [
    {
     "data": {
      "text/html": [
       "<div>\n",
       "<style scoped>\n",
       "    .dataframe tbody tr th:only-of-type {\n",
       "        vertical-align: middle;\n",
       "    }\n",
       "\n",
       "    .dataframe tbody tr th {\n",
       "        vertical-align: top;\n",
       "    }\n",
       "\n",
       "    .dataframe thead th {\n",
       "        text-align: right;\n",
       "    }\n",
       "</style>\n",
       "<table border=\"1\" class=\"dataframe\">\n",
       "  <thead>\n",
       "    <tr style=\"text-align: right;\">\n",
       "      <th></th>\n",
       "      <th>ID</th>\n",
       "      <th>TITLE</th>\n",
       "      <th>URL</th>\n",
       "      <th>PUBLISHER</th>\n",
       "      <th>CATEGORY</th>\n",
       "      <th>STORY</th>\n",
       "      <th>HOSTNAME</th>\n",
       "      <th>TIMESTAMP</th>\n",
       "    </tr>\n",
       "  </thead>\n",
       "  <tbody>\n",
       "    <tr>\n",
       "      <th>0</th>\n",
       "      <td>1</td>\n",
       "      <td>Fed official says weak data caused by weather,...</td>\n",
       "      <td>http://www.latimes.com/business/money/la-fi-mo...</td>\n",
       "      <td>Los Angeles Times</td>\n",
       "      <td>b</td>\n",
       "      <td>ddUyU0VZz0BRneMioxUPQVP6sIxvM</td>\n",
       "      <td>www.latimes.com</td>\n",
       "      <td>1394470370698</td>\n",
       "    </tr>\n",
       "    <tr>\n",
       "      <th>1</th>\n",
       "      <td>2</td>\n",
       "      <td>Fed's Charles Plosser sees high bar for change...</td>\n",
       "      <td>http://www.livemint.com/Politics/H2EvwJSK2VE6O...</td>\n",
       "      <td>Livemint</td>\n",
       "      <td>b</td>\n",
       "      <td>ddUyU0VZz0BRneMioxUPQVP6sIxvM</td>\n",
       "      <td>www.livemint.com</td>\n",
       "      <td>1394470371207</td>\n",
       "    </tr>\n",
       "    <tr>\n",
       "      <th>2</th>\n",
       "      <td>3</td>\n",
       "      <td>US open: Stocks fall after Fed official hints ...</td>\n",
       "      <td>http://www.ifamagazine.com/news/us-open-stocks...</td>\n",
       "      <td>IFA Magazine</td>\n",
       "      <td>b</td>\n",
       "      <td>ddUyU0VZz0BRneMioxUPQVP6sIxvM</td>\n",
       "      <td>www.ifamagazine.com</td>\n",
       "      <td>1394470371550</td>\n",
       "    </tr>\n",
       "    <tr>\n",
       "      <th>3</th>\n",
       "      <td>4</td>\n",
       "      <td>Fed risks falling 'behind the curve', Charles ...</td>\n",
       "      <td>http://www.ifamagazine.com/news/fed-risks-fall...</td>\n",
       "      <td>IFA Magazine</td>\n",
       "      <td>b</td>\n",
       "      <td>ddUyU0VZz0BRneMioxUPQVP6sIxvM</td>\n",
       "      <td>www.ifamagazine.com</td>\n",
       "      <td>1394470371793</td>\n",
       "    </tr>\n",
       "    <tr>\n",
       "      <th>4</th>\n",
       "      <td>5</td>\n",
       "      <td>Fed's Plosser: Nasty Weather Has Curbed Job Gr...</td>\n",
       "      <td>http://www.moneynews.com/Economy/federal-reser...</td>\n",
       "      <td>Moneynews</td>\n",
       "      <td>b</td>\n",
       "      <td>ddUyU0VZz0BRneMioxUPQVP6sIxvM</td>\n",
       "      <td>www.moneynews.com</td>\n",
       "      <td>1394470372027</td>\n",
       "    </tr>\n",
       "  </tbody>\n",
       "</table>\n",
       "</div>"
      ],
      "text/plain": [
       "   ID                                              TITLE  \\\n",
       "0   1  Fed official says weak data caused by weather,...   \n",
       "1   2  Fed's Charles Plosser sees high bar for change...   \n",
       "2   3  US open: Stocks fall after Fed official hints ...   \n",
       "3   4  Fed risks falling 'behind the curve', Charles ...   \n",
       "4   5  Fed's Plosser: Nasty Weather Has Curbed Job Gr...   \n",
       "\n",
       "                                                 URL          PUBLISHER  \\\n",
       "0  http://www.latimes.com/business/money/la-fi-mo...  Los Angeles Times   \n",
       "1  http://www.livemint.com/Politics/H2EvwJSK2VE6O...           Livemint   \n",
       "2  http://www.ifamagazine.com/news/us-open-stocks...       IFA Magazine   \n",
       "3  http://www.ifamagazine.com/news/fed-risks-fall...       IFA Magazine   \n",
       "4  http://www.moneynews.com/Economy/federal-reser...          Moneynews   \n",
       "\n",
       "  CATEGORY                          STORY             HOSTNAME      TIMESTAMP  \n",
       "0        b  ddUyU0VZz0BRneMioxUPQVP6sIxvM      www.latimes.com  1394470370698  \n",
       "1        b  ddUyU0VZz0BRneMioxUPQVP6sIxvM     www.livemint.com  1394470371207  \n",
       "2        b  ddUyU0VZz0BRneMioxUPQVP6sIxvM  www.ifamagazine.com  1394470371550  \n",
       "3        b  ddUyU0VZz0BRneMioxUPQVP6sIxvM  www.ifamagazine.com  1394470371793  \n",
       "4        b  ddUyU0VZz0BRneMioxUPQVP6sIxvM    www.moneynews.com  1394470372027  "
      ]
     },
     "execution_count": 3,
     "metadata": {},
     "output_type": "execute_result"
    }
   ],
   "source": [
    "#first six rows\n",
    "news.head()"
   ]
  },
  {
   "cell_type": "code",
   "execution_count": 4,
   "metadata": {},
   "outputs": [],
   "source": [
    "#lowercase text and removing punctuation in title to have smaller size of model in future\n",
    "import string\n",
    "\n",
    "def normalize(s):\n",
    "    s = s.lower()\n",
    "    s = s.translate(str.maketrans('','', string.punctuation))\n",
    "    return s\n",
    "\n",
    "news['TITLE'] = [normalize(s) for s in news['TITLE']]\n",
    "    "
   ]
  },
  {
   "cell_type": "code",
   "execution_count": 5,
   "metadata": {},
   "outputs": [
    {
     "data": {
      "text/html": [
       "<div>\n",
       "<style scoped>\n",
       "    .dataframe tbody tr th:only-of-type {\n",
       "        vertical-align: middle;\n",
       "    }\n",
       "\n",
       "    .dataframe tbody tr th {\n",
       "        vertical-align: top;\n",
       "    }\n",
       "\n",
       "    .dataframe thead th {\n",
       "        text-align: right;\n",
       "    }\n",
       "</style>\n",
       "<table border=\"1\" class=\"dataframe\">\n",
       "  <thead>\n",
       "    <tr style=\"text-align: right;\">\n",
       "      <th></th>\n",
       "      <th>ID</th>\n",
       "      <th>TITLE</th>\n",
       "      <th>URL</th>\n",
       "      <th>PUBLISHER</th>\n",
       "      <th>CATEGORY</th>\n",
       "      <th>STORY</th>\n",
       "      <th>HOSTNAME</th>\n",
       "      <th>TIMESTAMP</th>\n",
       "    </tr>\n",
       "  </thead>\n",
       "  <tbody>\n",
       "    <tr>\n",
       "      <th>0</th>\n",
       "      <td>1</td>\n",
       "      <td>fed official says weak data caused by weather ...</td>\n",
       "      <td>http://www.latimes.com/business/money/la-fi-mo...</td>\n",
       "      <td>Los Angeles Times</td>\n",
       "      <td>b</td>\n",
       "      <td>ddUyU0VZz0BRneMioxUPQVP6sIxvM</td>\n",
       "      <td>www.latimes.com</td>\n",
       "      <td>1394470370698</td>\n",
       "    </tr>\n",
       "    <tr>\n",
       "      <th>1</th>\n",
       "      <td>2</td>\n",
       "      <td>feds charles plosser sees high bar for change ...</td>\n",
       "      <td>http://www.livemint.com/Politics/H2EvwJSK2VE6O...</td>\n",
       "      <td>Livemint</td>\n",
       "      <td>b</td>\n",
       "      <td>ddUyU0VZz0BRneMioxUPQVP6sIxvM</td>\n",
       "      <td>www.livemint.com</td>\n",
       "      <td>1394470371207</td>\n",
       "    </tr>\n",
       "    <tr>\n",
       "      <th>2</th>\n",
       "      <td>3</td>\n",
       "      <td>us open stocks fall after fed official hints a...</td>\n",
       "      <td>http://www.ifamagazine.com/news/us-open-stocks...</td>\n",
       "      <td>IFA Magazine</td>\n",
       "      <td>b</td>\n",
       "      <td>ddUyU0VZz0BRneMioxUPQVP6sIxvM</td>\n",
       "      <td>www.ifamagazine.com</td>\n",
       "      <td>1394470371550</td>\n",
       "    </tr>\n",
       "    <tr>\n",
       "      <th>3</th>\n",
       "      <td>4</td>\n",
       "      <td>fed risks falling behind the curve charles plo...</td>\n",
       "      <td>http://www.ifamagazine.com/news/fed-risks-fall...</td>\n",
       "      <td>IFA Magazine</td>\n",
       "      <td>b</td>\n",
       "      <td>ddUyU0VZz0BRneMioxUPQVP6sIxvM</td>\n",
       "      <td>www.ifamagazine.com</td>\n",
       "      <td>1394470371793</td>\n",
       "    </tr>\n",
       "    <tr>\n",
       "      <th>4</th>\n",
       "      <td>5</td>\n",
       "      <td>feds plosser nasty weather has curbed job growth</td>\n",
       "      <td>http://www.moneynews.com/Economy/federal-reser...</td>\n",
       "      <td>Moneynews</td>\n",
       "      <td>b</td>\n",
       "      <td>ddUyU0VZz0BRneMioxUPQVP6sIxvM</td>\n",
       "      <td>www.moneynews.com</td>\n",
       "      <td>1394470372027</td>\n",
       "    </tr>\n",
       "  </tbody>\n",
       "</table>\n",
       "</div>"
      ],
      "text/plain": [
       "   ID                                              TITLE  \\\n",
       "0   1  fed official says weak data caused by weather ...   \n",
       "1   2  feds charles plosser sees high bar for change ...   \n",
       "2   3  us open stocks fall after fed official hints a...   \n",
       "3   4  fed risks falling behind the curve charles plo...   \n",
       "4   5   feds plosser nasty weather has curbed job growth   \n",
       "\n",
       "                                                 URL          PUBLISHER  \\\n",
       "0  http://www.latimes.com/business/money/la-fi-mo...  Los Angeles Times   \n",
       "1  http://www.livemint.com/Politics/H2EvwJSK2VE6O...           Livemint   \n",
       "2  http://www.ifamagazine.com/news/us-open-stocks...       IFA Magazine   \n",
       "3  http://www.ifamagazine.com/news/fed-risks-fall...       IFA Magazine   \n",
       "4  http://www.moneynews.com/Economy/federal-reser...          Moneynews   \n",
       "\n",
       "  CATEGORY                          STORY             HOSTNAME      TIMESTAMP  \n",
       "0        b  ddUyU0VZz0BRneMioxUPQVP6sIxvM      www.latimes.com  1394470370698  \n",
       "1        b  ddUyU0VZz0BRneMioxUPQVP6sIxvM     www.livemint.com  1394470371207  \n",
       "2        b  ddUyU0VZz0BRneMioxUPQVP6sIxvM  www.ifamagazine.com  1394470371550  \n",
       "3        b  ddUyU0VZz0BRneMioxUPQVP6sIxvM  www.ifamagazine.com  1394470371793  \n",
       "4        b  ddUyU0VZz0BRneMioxUPQVP6sIxvM    www.moneynews.com  1394470372027  "
      ]
     },
     "execution_count": 5,
     "metadata": {},
     "output_type": "execute_result"
    }
   ],
   "source": [
    "#first six rows\n",
    "news.head()"
   ]
  },
  {
   "cell_type": "code",
   "execution_count": 6,
   "metadata": {},
   "outputs": [
    {
     "data": {
      "text/plain": [
       "array(['b', 't', 'e', 'm'], dtype=object)"
      ]
     },
     "execution_count": 6,
     "metadata": {},
     "output_type": "execute_result"
    }
   ],
   "source": [
    "news['CATEGORY'].unique()"
   ]
  },
  {
   "cell_type": "code",
   "execution_count": 102,
   "metadata": {},
   "outputs": [
    {
     "data": {
      "text/plain": [
       "<matplotlib.axes._subplots.AxesSubplot at 0x96899d52b0>"
      ]
     },
     "execution_count": 102,
     "metadata": {},
     "output_type": "execute_result"
    },
    {
     "data": {
      "image/png": "[encoded data removed]",
      "text/plain": [
       "<matplotlib.figure.Figure at 0x969c1c6c18>"
      ]
     },
     "metadata": {},
     "output_type": "display_data"
    }
   ],
   "source": [
    "news['CATEGORY'].value_counts().plot(kind='bar')"
   ]
  },
  {
   "cell_type": "code",
   "execution_count": 9,
   "metadata": {},
   "outputs": [],
   "source": [
    "#import vectorizers and transformer\n",
    "#use CountVectorizer + TfidfTransformer | TfidfVectorizer\n",
    "from sklearn.feature_extraction.text import CountVectorizer, TfidfVectorizer, TfidfTransformer\n",
    "\n",
    "###### USE WITHOUT PIPELINE ########\n",
    "#vectorize text in title\n",
    "#vectorizer = CountVectorizer(stop_words = 'english')\n",
    "#x_data = vectorizer.fit_transform(news['TITLE'])"
   ]
  },
  {
   "cell_type": "code",
   "execution_count": 10,
   "metadata": {},
   "outputs": [],
   "source": [
    "# taken from Ritchie Ng post \"Vectorization, Multinomial Naive Bayes Classifier and Evaluation\"\n",
    "# http://www.ritchieng.com/machine-learning-multinomial-naive-bayes-vectorization/\n",
    "\n",
    "# Why are we splitting into training and testing sets before vectorizing?\n",
    "\n",
    "# If we vectorize then we train/test split, our document-term matrix would contain every single feature (word) \n",
    "# in the test and training sets\n",
    "# What we want is to simulate the real world\n",
    "# We would always see words we have not seen before\n",
    "# so this method is not realistic and we cannot properly evaluate our models\n",
    "# Split then vectorize (correct way)\n",
    "\n",
    "# We do the train/test split before the CountVectorizer to properly simulate the real world\n",
    "# where our future data contains words we have not seen before\n",
    "# After you train your data and chose the best model,\n",
    "# you would then train on all of your data before predicting actual future data to maximize learning."
   ]
  },
  {
   "cell_type": "code",
   "execution_count": 11,
   "metadata": {},
   "outputs": [
    {
     "name": "stdout",
     "output_type": "stream",
     "text": [
      "(316814,)\n",
      "(105605,)\n"
     ]
    }
   ],
   "source": [
    "#split data into train and test subsets\n",
    "from sklearn.model_selection import train_test_split\n",
    "\n",
    "#X_train, X_test, y_train, y_test = train_test_split(x_data, news['CATEGORY'], random_state=42)\n",
    "X_train, X_test, y_train, y_test = train_test_split(news['TITLE'], news['CATEGORY'], random_state=42)\n",
    "\n",
    "print(X_train.shape)\n",
    "print(X_test.shape)\n",
    "#(observations - labels(unique word), occurences - number of unique words in all corpus of headlines)"
   ]
  },
  {
   "cell_type": "code",
   "execution_count": 12,
   "metadata": {},
   "outputs": [],
   "source": [
    "#building a classifier\n",
    "from sklearn.naive_bayes import MultinomialNB\n",
    "\n",
    "###### USE WITHOUT PIPELINE ########\n",
    "#clf_mnb = MultinomialNB(alpha=.01).fit(X_train, y_train)"
   ]
  },
  {
   "cell_type": "code",
   "execution_count": 13,
   "metadata": {},
   "outputs": [],
   "source": [
    "###### USE WITHOUT PIPELINE ########\n",
    "#testing on test data\n",
    "#predicted = clf_mnb.predict(X_test)\n",
    "#np.mean(predicted == y_test)"
   ]
  },
  {
   "cell_type": "code",
   "execution_count": 14,
   "metadata": {},
   "outputs": [],
   "source": [
    "###### USE WITHOUT PIPELINE ########\n",
    "#alternative to above & np\n",
    "#clf_mnb.score(X_test, y_test)"
   ]
  },
  {
   "cell_type": "code",
   "execution_count": 15,
   "metadata": {},
   "outputs": [],
   "source": [
    "#predicted"
   ]
  },
  {
   "cell_type": "code",
   "execution_count": 16,
   "metadata": {},
   "outputs": [],
   "source": [
    "#to check all out metricts\n",
    "from sklearn import metrics\n",
    "\n",
    "#metrics.f1_score(y_test, predicted, average='macro')"
   ]
  },
  {
   "cell_type": "code",
   "execution_count": 17,
   "metadata": {},
   "outputs": [],
   "source": [
    "from sklearn.metrics import classification_report\n",
    "#print(classification_report(y_test, predicted))"
   ]
  },
  {
   "cell_type": "code",
   "execution_count": 18,
   "metadata": {
    "scrolled": true
   },
   "outputs": [],
   "source": [
    "#pipeline for Naive Bayse classifier\n",
    "\n",
    "from sklearn.pipeline import Pipeline\n",
    "clf_mnb = Pipeline([\n",
    "        ('vect', CountVectorizer(stop_words='english')),\n",
    "        #('tfidf', TfidfTransformer()),\n",
    "        ('clf', MultinomialNB(alpha=.01)),\n",
    "    ])\n"
   ]
  },
  {
   "cell_type": "code",
   "execution_count": 19,
   "metadata": {},
   "outputs": [],
   "source": [
    "#.fit(train) - learns the vocabulary of the training data\n",
    "clf_mnb = clf_mnb.fit(X_train, y_train)"
   ]
  },
  {
   "cell_type": "code",
   "execution_count": 20,
   "metadata": {},
   "outputs": [
    {
     "data": {
      "text/plain": [
       "0.9295109133090289"
      ]
     },
     "execution_count": 20,
     "metadata": {},
     "output_type": "execute_result"
    }
   ],
   "source": [
    "# apply on text data\n",
    "\n",
    "predicted = clf_mnb.predict(X_test)\n",
    "np.mean(predicted == y_test)"
   ]
  },
  {
   "cell_type": "code",
   "execution_count": 21,
   "metadata": {},
   "outputs": [],
   "source": [
    "#tune params in GridSearchCV\n",
    "\n",
    "from sklearn.model_selection import GridSearchCV\n",
    "\n",
    "parameters = {'vect__ngram_range': [(1, 1), (1, 2)],\n",
    "              #'tfidf__use_idf': (True, False),\n",
    "              'clf__alpha': (1e-2, 1e-3),\n",
    "}\n",
    "gs_clf_mnb = GridSearchCV(clf_mnb, parameters, n_jobs=-1)\n",
    "gs_clf_mnb = gs_clf_mnb.fit(X_train, y_train)"
   ]
  },
  {
   "cell_type": "code",
   "execution_count": 22,
   "metadata": {},
   "outputs": [
    {
     "data": {
      "text/plain": [
       "0.9490142481077225"
      ]
     },
     "execution_count": 22,
     "metadata": {},
     "output_type": "execute_result"
    }
   ],
   "source": [
    "#check out best score with tuned params\n",
    "gs_clf_mnb.best_score_"
   ]
  },
  {
   "cell_type": "code",
   "execution_count": 23,
   "metadata": {},
   "outputs": [
    {
     "data": {
      "text/plain": [
       "{'clf__alpha': 0.01, 'vect__ngram_range': (1, 2)}"
      ]
     },
     "execution_count": 23,
     "metadata": {},
     "output_type": "execute_result"
    }
   ],
   "source": [
    "#best params for clf\n",
    "gs_clf_mnb.best_params_"
   ]
  },
  {
   "cell_type": "code",
   "execution_count": 24,
   "metadata": {},
   "outputs": [
    {
     "data": {
      "text/plain": [
       "0.9521897637422471"
      ]
     },
     "execution_count": 24,
     "metadata": {},
     "output_type": "execute_result"
    }
   ],
   "source": [
    "#apply GridSearch params on test data\n",
    "predicted = gs_clf_mnb.predict(X_test)\n",
    "np.mean(predicted == y_test)"
   ]
  },
  {
   "cell_type": "code",
   "execution_count": 25,
   "metadata": {},
   "outputs": [
    {
     "name": "stdout",
     "output_type": "stream",
     "text": [
      "             precision    recall  f1-score   support\n",
      "\n",
      "          b       0.94      0.93      0.93     29117\n",
      "          e       0.98      0.98      0.98     37988\n",
      "          m       0.95      0.95      0.95     11319\n",
      "          t       0.93      0.94      0.94     27181\n",
      "\n",
      "avg / total       0.95      0.95      0.95    105605\n",
      "\n"
     ]
    }
   ],
   "source": [
    "from sklearn.metrics import classification_report\n",
    "\n",
    "#classification_report(y_true, y_pred, labels=None, target_names=None, sample_weight=None, digits=2)\n",
    "#y_true = Ground truth (correct) target values.\n",
    "#y_pred = Estimated targets as returned by a classifier.\n",
    "print(classification_report(y_test, predicted))"
   ]
  },
  {
   "cell_type": "code",
   "execution_count": 26,
   "metadata": {},
   "outputs": [
    {
     "name": "stdout",
     "output_type": "stream",
     "text": [
      "[[27155   345   298  1319]\n",
      " [  333 37157   129   369]\n",
      " [  279   207 10712   121]\n",
      " [ 1225   309   115 25532]]\n"
     ]
    }
   ],
   "source": [
    "#confusion matrix for gs_clf_mnb\n",
    "from sklearn.metrics import confusion_matrix\n",
    "print(confusion_matrix(y_test, predicted))"
   ]
  },
  {
   "cell_type": "code",
   "execution_count": 27,
   "metadata": {},
   "outputs": [
    {
     "name": "stdout",
     "output_type": "stream",
     "text": [
      "Accuracy score:  0.9521897637422471\n",
      "Recall score:  0.9521897637422471\n",
      "Precision score:  0.9521917994708027\n",
      "F1 score:  0.9521866148926127\n"
     ]
    }
   ],
   "source": [
    "from sklearn.metrics import accuracy_score, recall_score, precision_score, f1_score\n",
    "\n",
    "print(\"Accuracy score: \", accuracy_score(y_test, predicted))\n",
    "print(\"Recall score: \", recall_score(y_test, predicted, average = 'weighted'))\n",
    "print(\"Precision score: \", precision_score(y_test, predicted, average = 'weighted'))\n",
    "print(\"F1 score: \", f1_score(y_test, predicted, average = 'weighted'))"
   ]
  },
  {
   "cell_type": "code",
   "execution_count": 28,
   "metadata": {},
   "outputs": [
    {
     "data": {
      "text/plain": [
       "array([0.36135082, 0.36135082, 0.36135082, ..., 0.36135082, 0.36135082,\n",
       "       0.36135082])"
      ]
     },
     "execution_count": 28,
     "metadata": {},
     "output_type": "execute_result"
    }
   ],
   "source": [
    "# calculate predicted probabilities for predicted (well calibrated)\n",
    "y_pred_prob_mnb = gs_clf_mnb.predict_proba(predicted)[:, 1]\n",
    "y_pred_prob_mnb"
   ]
  },
  {
   "cell_type": "code",
   "execution_count": 29,
   "metadata": {},
   "outputs": [],
   "source": [
    "#check false negatives\n",
    "#false_n = X_test[predicted < y_test]\n",
    "#false_n"
   ]
  },
  {
   "cell_type": "code",
   "execution_count": 92,
   "metadata": {},
   "outputs": [],
   "source": [
    "from sklearn.svm import LinearSVC\n",
    "from sklearn.svm import SVC\n",
    "from sklearn.calibration import CalibratedClassifierCV\n",
    "# Pipeline for SVM Classifier\n",
    "from sklearn.linear_model import SGDClassifier\n",
    "from sklearn.pipeline import Pipeline\n",
    "\n",
    "#using calibrated classifier to predict probabilities for each label\n",
    "clf_svm = Pipeline([\n",
    "        ('vect', CountVectorizer(stop_words='english')),\n",
    "        #('clf', SGDClassifier(loss='hinge', alpha=1e-3, max_iter=5, random_state=42)),\n",
    "        ('clf', CalibratedClassifierCV(LinearSVC(loss='squared_hinge', max_iter=5, random_state=42))),\n",
    "    ])"
   ]
  },
  {
   "cell_type": "code",
   "execution_count": 93,
   "metadata": {},
   "outputs": [
    {
     "name": "stderr",
     "output_type": "stream",
     "text": [
      "c:\\users\\kzaytseva\\appdata\\local\\continuum\\anaconda3_new\\envs\\textclass\\lib\\site-packages\\sklearn\\calibration.py:435: RuntimeWarning: overflow encountered in exp\n",
      "  E = np.exp(AB[0] * F + AB[1])\n",
      "c:\\users\\kzaytseva\\appdata\\local\\continuum\\anaconda3_new\\envs\\textclass\\lib\\site-packages\\sklearn\\calibration.py:445: RuntimeWarning: overflow encountered in exp\n",
      "  E = np.exp(AB[0] * F + AB[1])\n",
      "c:\\users\\kzaytseva\\appdata\\local\\continuum\\anaconda3_new\\envs\\textclass\\lib\\site-packages\\sklearn\\calibration.py:447: RuntimeWarning: invalid value encountered in multiply\n",
      "  TEP_minus_T1P = P * (T * E - T1)\n",
      "c:\\users\\kzaytseva\\appdata\\local\\continuum\\anaconda3_new\\envs\\textclass\\lib\\site-packages\\sklearn\\calibration.py:435: RuntimeWarning: overflow encountered in exp\n",
      "  E = np.exp(AB[0] * F + AB[1])\n",
      "c:\\users\\kzaytseva\\appdata\\local\\continuum\\anaconda3_new\\envs\\textclass\\lib\\site-packages\\sklearn\\calibration.py:445: RuntimeWarning: overflow encountered in exp\n",
      "  E = np.exp(AB[0] * F + AB[1])\n",
      "c:\\users\\kzaytseva\\appdata\\local\\continuum\\anaconda3_new\\envs\\textclass\\lib\\site-packages\\sklearn\\calibration.py:447: RuntimeWarning: invalid value encountered in multiply\n",
      "  TEP_minus_T1P = P * (T * E - T1)\n",
      "c:\\users\\kzaytseva\\appdata\\local\\continuum\\anaconda3_new\\envs\\textclass\\lib\\site-packages\\sklearn\\calibration.py:510: RuntimeWarning: overflow encountered in exp\n",
      "  return 1. / (1. + np.exp(self.a_ * T + self.b_))\n"
     ]
    },
    {
     "data": {
      "text/plain": [
       "0.9437810709720184"
      ]
     },
     "execution_count": 93,
     "metadata": {},
     "output_type": "execute_result"
    }
   ],
   "source": [
    "clf_svm = clf_svm.fit(X_train, y_train)\n",
    "predicted = clf_svm.predict(X_test)\n",
    "np.mean(predicted == y_test)"
   ]
  },
  {
   "cell_type": "code",
   "execution_count": 94,
   "metadata": {},
   "outputs": [
    {
     "name": "stderr",
     "output_type": "stream",
     "text": [
      "c:\\users\\kzaytseva\\appdata\\local\\continuum\\anaconda3_new\\envs\\textclass\\lib\\site-packages\\sklearn\\calibration.py:435: RuntimeWarning: overflow encountered in exp\n",
      "  E = np.exp(AB[0] * F + AB[1])\n",
      "c:\\users\\kzaytseva\\appdata\\local\\continuum\\anaconda3_new\\envs\\textclass\\lib\\site-packages\\sklearn\\calibration.py:445: RuntimeWarning: overflow encountered in exp\n",
      "  E = np.exp(AB[0] * F + AB[1])\n",
      "c:\\users\\kzaytseva\\appdata\\local\\continuum\\anaconda3_new\\envs\\textclass\\lib\\site-packages\\sklearn\\calibration.py:447: RuntimeWarning: invalid value encountered in multiply\n",
      "  TEP_minus_T1P = P * (T * E - T1)\n",
      "c:\\users\\kzaytseva\\appdata\\local\\continuum\\anaconda3_new\\envs\\textclass\\lib\\site-packages\\sklearn\\calibration.py:435: RuntimeWarning: overflow encountered in exp\n",
      "  E = np.exp(AB[0] * F + AB[1])\n",
      "c:\\users\\kzaytseva\\appdata\\local\\continuum\\anaconda3_new\\envs\\textclass\\lib\\site-packages\\sklearn\\calibration.py:445: RuntimeWarning: overflow encountered in exp\n",
      "  E = np.exp(AB[0] * F + AB[1])\n",
      "c:\\users\\kzaytseva\\appdata\\local\\continuum\\anaconda3_new\\envs\\textclass\\lib\\site-packages\\sklearn\\calibration.py:447: RuntimeWarning: invalid value encountered in multiply\n",
      "  TEP_minus_T1P = P * (T * E - T1)\n"
     ]
    },
    {
     "data": {
      "text/plain": [
       "0.9516940539243847"
      ]
     },
     "execution_count": 94,
     "metadata": {},
     "output_type": "execute_result"
    }
   ],
   "source": [
    "# GridSearch for SVM\n",
    "\n",
    "parameters = {'vect__ngram_range': [(1, 1), (1, 2)],\n",
    "              #'clf__C': [1],\n",
    "}\n",
    "gs_clf_svm = GridSearchCV(clf_svm, parameters, n_jobs=-1)\n",
    "gs_clf_svm = gs_clf_svm.fit(X_train, y_train)\n",
    "gs_clf_svm.best_score_"
   ]
  },
  {
   "cell_type": "code",
   "execution_count": 95,
   "metadata": {},
   "outputs": [
    {
     "data": {
      "text/plain": [
       "{'vect__ngram_range': (1, 2)}"
      ]
     },
     "execution_count": 95,
     "metadata": {},
     "output_type": "execute_result"
    }
   ],
   "source": [
    "gs_clf_svm.best_params_"
   ]
  },
  {
   "cell_type": "code",
   "execution_count": 96,
   "metadata": {},
   "outputs": [
    {
     "name": "stderr",
     "output_type": "stream",
     "text": [
      "c:\\users\\kzaytseva\\appdata\\local\\continuum\\anaconda3_new\\envs\\textclass\\lib\\site-packages\\sklearn\\calibration.py:510: RuntimeWarning: overflow encountered in exp\n",
      "  return 1. / (1. + np.exp(self.a_ * T + self.b_))\n"
     ]
    },
    {
     "data": {
      "text/plain": [
       "0.9529094266369964"
      ]
     },
     "execution_count": 96,
     "metadata": {},
     "output_type": "execute_result"
    }
   ],
   "source": [
    "# apply GridSearch params svm on test data\n",
    "predicted = gs_clf_svm.predict(X_test)\n",
    "np.mean(predicted == y_test)"
   ]
  },
  {
   "cell_type": "code",
   "execution_count": 97,
   "metadata": {},
   "outputs": [
    {
     "name": "stdout",
     "output_type": "stream",
     "text": [
      "             precision    recall  f1-score   support\n",
      "\n",
      "          b       0.94      0.93      0.93     29117\n",
      "          e       0.98      0.98      0.98     37988\n",
      "          m       0.96      0.94      0.95     11319\n",
      "          t       0.93      0.95      0.94     27181\n",
      "\n",
      "avg / total       0.95      0.95      0.95    105605\n",
      "\n"
     ]
    }
   ],
   "source": [
    "print(classification_report(y_test, predicted))"
   ]
  },
  {
   "cell_type": "code",
   "execution_count": 98,
   "metadata": {},
   "outputs": [
    {
     "name": "stdout",
     "output_type": "stream",
     "text": [
      "[[26940   350   233  1594]\n",
      " [  390 37283   100   215]\n",
      " [  347   193 10681    98]\n",
      " [ 1015   351    87 25728]]\n"
     ]
    }
   ],
   "source": [
    "# confusion matrix for gs_clf_svm\n",
    "print(confusion_matrix(y_test, predicted))"
   ]
  },
  {
   "cell_type": "code",
   "execution_count": 99,
   "metadata": {},
   "outputs": [
    {
     "name": "stdout",
     "output_type": "stream",
     "text": [
      "Accuracy score:  0.9529094266369964\n",
      "Recall score:  0.9529094266369964\n",
      "Precision score:  0.9529241561236163\n",
      "F1 score:  0.9528745020939905\n"
     ]
    }
   ],
   "source": [
    "print(\"Accuracy score: \", accuracy_score(y_test, predicted))\n",
    "print(\"Recall score: \", recall_score(y_test, predicted, average = 'weighted'))\n",
    "print(\"Precision score: \", precision_score(y_test, predicted, average = 'weighted'))\n",
    "print(\"F1 score: \", f1_score(y_test, predicted, average = 'weighted'))"
   ]
  },
  {
   "cell_type": "code",
   "execution_count": 101,
   "metadata": {},
   "outputs": [
    {
     "data": {
      "text/plain": [
       "array([[0.39107961, 0.38569512, 0.0763487 , 0.14687657],\n",
       "       [0.39107961, 0.38569512, 0.0763487 , 0.14687657],\n",
       "       [0.39107961, 0.38569512, 0.0763487 , 0.14687657],\n",
       "       ...,\n",
       "       [0.39107961, 0.38569512, 0.0763487 , 0.14687657],\n",
       "       [0.39107961, 0.38569512, 0.0763487 , 0.14687657],\n",
       "       [0.39107961, 0.38569512, 0.0763487 , 0.14687657]])"
      ]
     },
     "execution_count": 101,
     "metadata": {},
     "output_type": "execute_result"
    }
   ],
   "source": [
    "# calculate predicted probabilities for predicted (well calibrated)\n",
    "y_pred_prob_svm = gs_clf_svm.predict_proba(predicted)\n",
    "y_pred_prob_svm"
   ]
  },
  {
   "cell_type": "code",
   "execution_count": 104,
   "metadata": {},
   "outputs": [],
   "source": [
    "# Logistic Regression\n",
    "\n",
    "from sklearn.linear_model import LogisticRegression\n",
    "#from sklearn.multiclass import OneVsRestClassifier\n",
    "#clf_logreg = LogisticRegression()"
   ]
  },
  {
   "cell_type": "code",
   "execution_count": 105,
   "metadata": {},
   "outputs": [],
   "source": [
    "# Pipeline for Logistic Regression\n",
    "\n",
    "clf_logreg = Pipeline([\n",
    "        ('vect', CountVectorizer(stop_words='english')),\n",
    "        ('clf', LogisticRegression(solver='newton-cg', multi_class='multinomial')),\n",
    "    ])"
   ]
  },
  {
   "cell_type": "code",
   "execution_count": 106,
   "metadata": {},
   "outputs": [
    {
     "data": {
      "text/plain": [
       "0.9466407840537854"
      ]
     },
     "execution_count": 106,
     "metadata": {},
     "output_type": "execute_result"
    }
   ],
   "source": [
    "clf_logreg = clf_logreg.fit(X_train, y_train)\n",
    "predicted = clf_logreg.predict(X_test)\n",
    "np.mean(predicted == y_test)"
   ]
  },
  {
   "cell_type": "code",
   "execution_count": 107,
   "metadata": {
    "scrolled": true
   },
   "outputs": [
    {
     "data": {
      "text/plain": [
       "0.9495729355394648"
      ]
     },
     "execution_count": 107,
     "metadata": {},
     "output_type": "execute_result"
    }
   ],
   "source": [
    "# GridSearch for Logistic Regression\n",
    "\n",
    "parameters = {'vect__ngram_range': [(1, 1), (1, 2)],\n",
    "}\n",
    "gs_clf_logreg = GridSearchCV(clf_logreg, parameters, n_jobs=-1)\n",
    "gs_clf_logreg = gs_clf_logreg.fit(X_train, y_train)\n",
    "gs_clf_logreg.best_score_"
   ]
  },
  {
   "cell_type": "code",
   "execution_count": 108,
   "metadata": {},
   "outputs": [
    {
     "data": {
      "text/plain": [
       "{'vect__ngram_range': (1, 2)}"
      ]
     },
     "execution_count": 108,
     "metadata": {},
     "output_type": "execute_result"
    }
   ],
   "source": [
    "gs_clf_logreg.best_params_"
   ]
  },
  {
   "cell_type": "code",
   "execution_count": 109,
   "metadata": {},
   "outputs": [
    {
     "data": {
      "text/plain": [
       "0.9531461578523744"
      ]
     },
     "execution_count": 109,
     "metadata": {},
     "output_type": "execute_result"
    }
   ],
   "source": [
    "# apply GridSearch params logreg on test data\n",
    "predicted = gs_clf_logreg.predict(X_test)\n",
    "np.mean(predicted == y_test)"
   ]
  },
  {
   "cell_type": "code",
   "execution_count": 110,
   "metadata": {},
   "outputs": [
    {
     "name": "stdout",
     "output_type": "stream",
     "text": [
      "             precision    recall  f1-score   support\n",
      "\n",
      "          b       0.93      0.94      0.94     29117\n",
      "          e       0.97      0.98      0.98     37988\n",
      "          m       0.97      0.93      0.95     11319\n",
      "          t       0.94      0.94      0.94     27181\n",
      "\n",
      "avg / total       0.95      0.95      0.95    105605\n",
      "\n"
     ]
    }
   ],
   "source": [
    "print(classification_report(y_test, predicted))"
   ]
  },
  {
   "cell_type": "code",
   "execution_count": 111,
   "metadata": {},
   "outputs": [
    {
     "name": "stdout",
     "output_type": "stream",
     "text": [
      "[[27404   387   191  1135]\n",
      " [  379 37267    97   245]\n",
      " [  387   250 10546   136]\n",
      " [ 1273   386    82 25440]]\n"
     ]
    }
   ],
   "source": [
    "# confusion matrix for gs_clf_logreg\n",
    "print(confusion_matrix(y_test, predicted))"
   ]
  },
  {
   "cell_type": "code",
   "execution_count": 112,
   "metadata": {},
   "outputs": [
    {
     "name": "stdout",
     "output_type": "stream",
     "text": [
      "Accuracy score:  0.9531461578523744\n",
      "Recall score:  0.9531461578523744\n",
      "Precision score:  0.9531871706999675\n",
      "F1 score:  0.9531155680256468\n"
     ]
    }
   ],
   "source": [
    "print(\"Accuracy score: \", accuracy_score(y_test, predicted))\n",
    "print(\"Recall score: \", recall_score(y_test, predicted, average = 'weighted'))\n",
    "print(\"Precision score: \", precision_score(y_test, predicted, average = 'weighted'))\n",
    "print(\"F1 score: \", f1_score(y_test, predicted, average = 'weighted'))"
   ]
  },
  {
   "cell_type": "code",
   "execution_count": 113,
   "metadata": {},
   "outputs": [],
   "source": [
    "import matplotlib.pyplot as plt\n",
    "import scikitplot as skplt"
   ]
  },
  {
   "cell_type": "code",
   "execution_count": 114,
   "metadata": {},
   "outputs": [
    {
     "data": {
      "text/plain": [
       "<matplotlib.axes._subplots.AxesSubplot at 0x9695e3b550>"
      ]
     },
     "execution_count": 114,
     "metadata": {},
     "output_type": "execute_result"
    },
    {
     "data": {
      "image/png": "[encoded data removed]",
      "text/plain": [
       "<matplotlib.figure.Figure at 0x9695325b70>"
      ]
     },
     "metadata": {},
     "output_type": "display_data"
    }
   ],
   "source": [
    "skplt.metrics.plot_confusion_matrix(y_test, predicted)"
   ]
  },
  {
   "cell_type": "code",
   "execution_count": 115,
   "metadata": {},
   "outputs": [
    {
     "data": {
      "text/plain": [
       "<matplotlib.axes._subplots.AxesSubplot at 0x968ee246a0>"
      ]
     },
     "execution_count": 115,
     "metadata": {},
     "output_type": "execute_result"
    },
    {
     "data": {
      "image/png": "[encoded data removed]",
      "text/plain": [
       "<matplotlib.figure.Figure at 0x968850ee80>"
      ]
     },
     "metadata": {},
     "output_type": "display_data"
    }
   ],
   "source": [
    "skplt.metrics.plot_confusion_matrix(y_test, predicted, normalize=True)"
   ]
  },
  {
   "cell_type": "code",
   "execution_count": 116,
   "metadata": {},
   "outputs": [
    {
     "data": {
      "text/plain": [
       "array([0.36196559, 0.36196559, 0.36196559, ..., 0.36196559, 0.36196559,\n",
       "       0.36196559])"
      ]
     },
     "execution_count": 116,
     "metadata": {},
     "output_type": "execute_result"
    }
   ],
   "source": [
    "# calculate predicted probabilities for predicted (well calibrated)\n",
    "y_pred_prob_logreg = gs_clf_logreg.predict_proba(predicted)[:, 1]\n",
    "y_pred_prob_logreg"
   ]
  },
  {
   "cell_type": "code",
   "execution_count": 117,
   "metadata": {},
   "outputs": [
    {
     "data": {
      "text/plain": [
       "0.9531461578523744"
      ]
     },
     "execution_count": 117,
     "metadata": {},
     "output_type": "execute_result"
    }
   ],
   "source": [
    "# calculate accuracy\n",
    "metrics.accuracy_score(y_test, predicted)"
   ]
  },
  {
   "cell_type": "code",
   "execution_count": 53,
   "metadata": {},
   "outputs": [
    {
     "ename": "JoblibValueError",
     "evalue": "JoblibValueError\n___________________________________________________________________________\nMultiprocessing exception:\n...........................................................................\nc:\\users\\kzaytseva\\appdata\\local\\continuum\\anaconda3_new\\envs\\textclass\\lib\\runpy.py in _run_module_as_main(mod_name='ipykernel_launcher', alter_argv=1)\n    188         sys.exit(msg)\n    189     main_globals = sys.modules[\"__main__\"].__dict__\n    190     if alter_argv:\n    191         sys.argv[0] = mod_spec.origin\n    192     return _run_code(code, main_globals, None,\n--> 193                      \"__main__\", mod_spec)\n        mod_spec = ModuleSpec(name='ipykernel_launcher', loader=<_f...lass\\\\lib\\\\site-packages\\\\ipykernel_launcher.py')\n    194 \n    195 def run_module(mod_name, init_globals=None,\n    196                run_name=None, alter_sys=False):\n    197     \"\"\"Execute a module's code without importing it\n\n...........................................................................\nc:\\users\\kzaytseva\\appdata\\local\\continuum\\anaconda3_new\\envs\\textclass\\lib\\runpy.py in _run_code(code=<code object <module> at 0x00000096D19B4A50, fil...lib\\site-packages\\ipykernel_launcher.py\", line 5>, run_globals={'__builtins__': <module 'builtins' (built-in)>, '__cached__': r'c:\\users\\kzaytseva\\appdata\\local\\continuum\\anaco...ges\\__pycache__\\ipykernel_launcher.cpython-35.pyc', '__doc__': 'Entry point for launching an IPython kernel.\\n\\nTh...orts until\\nafter removing the cwd from sys.path.\\n', '__file__': r'c:\\users\\kzaytseva\\appdata\\local\\continuum\\anaco...textclass\\lib\\site-packages\\ipykernel_launcher.py', '__loader__': <_frozen_importlib_external.SourceFileLoader object>, '__name__': '__main__', '__package__': '', '__spec__': ModuleSpec(name='ipykernel_launcher', loader=<_f...lass\\\\lib\\\\site-packages\\\\ipykernel_launcher.py'), 'app': <module 'ipykernel.kernelapp' from 'c:\\\\users\\\\k...ss\\\\lib\\\\site-packages\\\\ipykernel\\\\kernelapp.py'>, 'sys': <module 'sys' (built-in)>}, init_globals=None, mod_name='__main__', mod_spec=ModuleSpec(name='ipykernel_launcher', loader=<_f...lass\\\\lib\\\\site-packages\\\\ipykernel_launcher.py'), pkg_name='', script_name=None)\n     80                        __cached__ = cached,\n     81                        __doc__ = None,\n     82                        __loader__ = loader,\n     83                        __package__ = pkg_name,\n     84                        __spec__ = mod_spec)\n---> 85     exec(code, run_globals)\n        code = <code object <module> at 0x00000096D19B4A50, fil...lib\\site-packages\\ipykernel_launcher.py\", line 5>\n        run_globals = {'__builtins__': <module 'builtins' (built-in)>, '__cached__': r'c:\\users\\kzaytseva\\appdata\\local\\continuum\\anaco...ges\\__pycache__\\ipykernel_launcher.cpython-35.pyc', '__doc__': 'Entry point for launching an IPython kernel.\\n\\nTh...orts until\\nafter removing the cwd from sys.path.\\n', '__file__': r'c:\\users\\kzaytseva\\appdata\\local\\continuum\\anaco...textclass\\lib\\site-packages\\ipykernel_launcher.py', '__loader__': <_frozen_importlib_external.SourceFileLoader object>, '__name__': '__main__', '__package__': '', '__spec__': ModuleSpec(name='ipykernel_launcher', loader=<_f...lass\\\\lib\\\\site-packages\\\\ipykernel_launcher.py'), 'app': <module 'ipykernel.kernelapp' from 'c:\\\\users\\\\k...ss\\\\lib\\\\site-packages\\\\ipykernel\\\\kernelapp.py'>, 'sys': <module 'sys' (built-in)>}\n     86     return run_globals\n     87 \n     88 def _run_module_code(code, init_globals=None,\n     89                     mod_name=None, mod_spec=None,\n\n...........................................................................\nc:\\users\\kzaytseva\\appdata\\local\\continuum\\anaconda3_new\\envs\\textclass\\lib\\site-packages\\ipykernel_launcher.py in <module>()\n     11     # This is added back by InteractiveShellApp.init_path()\n     12     if sys.path[0] == '':\n     13         del sys.path[0]\n     14 \n     15     from ipykernel import kernelapp as app\n---> 16     app.launch_new_instance()\n\n...........................................................................\nc:\\users\\kzaytseva\\appdata\\local\\continuum\\anaconda3_new\\envs\\textclass\\lib\\site-packages\\traitlets\\config\\application.py in launch_instance(cls=<class 'ipykernel.kernelapp.IPKernelApp'>, argv=None, **kwargs={})\n    653 \n    654         If a global instance already exists, this reinitializes and starts it\n    655         \"\"\"\n    656         app = cls.instance(**kwargs)\n    657         app.initialize(argv)\n--> 658         app.start()\n        app.start = <bound method IPKernelApp.start of <ipykernel.kernelapp.IPKernelApp object>>\n    659 \n    660 #-----------------------------------------------------------------------------\n    661 # utility functions, for convenience\n    662 #-----------------------------------------------------------------------------\n\n...........................................................................\nc:\\users\\kzaytseva\\appdata\\local\\continuum\\anaconda3_new\\envs\\textclass\\lib\\site-packages\\ipykernel\\kernelapp.py in start(self=<ipykernel.kernelapp.IPKernelApp object>)\n    473         if self.poller is not None:\n    474             self.poller.start()\n    475         self.kernel.start()\n    476         self.io_loop = ioloop.IOLoop.current()\n    477         try:\n--> 478             self.io_loop.start()\n        self.io_loop.start = <bound method ZMQIOLoop.start of <zmq.eventloop.ioloop.ZMQIOLoop object>>\n    479         except KeyboardInterrupt:\n    480             pass\n    481 \n    482 launch_new_instance = IPKernelApp.launch_instance\n\n...........................................................................\nc:\\users\\kzaytseva\\appdata\\local\\continuum\\anaconda3_new\\envs\\textclass\\lib\\site-packages\\zmq\\eventloop\\ioloop.py in start(self=<zmq.eventloop.ioloop.ZMQIOLoop object>)\n    172             )\n    173         return loop\n    174     \n    175     def start(self):\n    176         try:\n--> 177             super(ZMQIOLoop, self).start()\n        self.start = <bound method ZMQIOLoop.start of <zmq.eventloop.ioloop.ZMQIOLoop object>>\n    178         except ZMQError as e:\n    179             if e.errno == ETERM:\n    180                 # quietly return on ETERM\n    181                 pass\n\n...........................................................................\nc:\\users\\kzaytseva\\appdata\\local\\continuum\\anaconda3_new\\envs\\textclass\\lib\\site-packages\\tornado\\ioloop.py in start(self=<zmq.eventloop.ioloop.ZMQIOLoop object>)\n    883                 self._events.update(event_pairs)\n    884                 while self._events:\n    885                     fd, events = self._events.popitem()\n    886                     try:\n    887                         fd_obj, handler_func = self._handlers[fd]\n--> 888                         handler_func(fd_obj, events)\n        handler_func = <function wrap.<locals>.null_wrapper>\n        fd_obj = <zmq.sugar.socket.Socket object>\n        events = 1\n    889                     except (OSError, IOError) as e:\n    890                         if errno_from_exception(e) == errno.EPIPE:\n    891                             # Happens when the client closes the connection\n    892                             pass\n\n...........................................................................\nc:\\users\\kzaytseva\\appdata\\local\\continuum\\anaconda3_new\\envs\\textclass\\lib\\site-packages\\tornado\\stack_context.py in null_wrapper(*args=(<zmq.sugar.socket.Socket object>, 1), **kwargs={})\n    272         # Fast path when there are no active contexts.\n    273         def null_wrapper(*args, **kwargs):\n    274             try:\n    275                 current_state = _state.contexts\n    276                 _state.contexts = cap_contexts[0]\n--> 277                 return fn(*args, **kwargs)\n        args = (<zmq.sugar.socket.Socket object>, 1)\n        kwargs = {}\n    278             finally:\n    279                 _state.contexts = current_state\n    280         null_wrapper._wrapped = True\n    281         return null_wrapper\n\n...........................................................................\nc:\\users\\kzaytseva\\appdata\\local\\continuum\\anaconda3_new\\envs\\textclass\\lib\\site-packages\\zmq\\eventloop\\zmqstream.py in _handle_events(self=<zmq.eventloop.zmqstream.ZMQStream object>, fd=<zmq.sugar.socket.Socket object>, events=1)\n    435             # dispatch events:\n    436             if events & IOLoop.ERROR:\n    437                 gen_log.error(\"got POLLERR event on ZMQStream, which doesn't make sense\")\n    438                 return\n    439             if events & IOLoop.READ:\n--> 440                 self._handle_recv()\n        self._handle_recv = <bound method ZMQStream._handle_recv of <zmq.eventloop.zmqstream.ZMQStream object>>\n    441                 if not self.socket:\n    442                     return\n    443             if events & IOLoop.WRITE:\n    444                 self._handle_send()\n\n...........................................................................\nc:\\users\\kzaytseva\\appdata\\local\\continuum\\anaconda3_new\\envs\\textclass\\lib\\site-packages\\zmq\\eventloop\\zmqstream.py in _handle_recv(self=<zmq.eventloop.zmqstream.ZMQStream object>)\n    467                 gen_log.error(\"RECV Error: %s\"%zmq.strerror(e.errno))\n    468         else:\n    469             if self._recv_callback:\n    470                 callback = self._recv_callback\n    471                 # self._recv_callback = None\n--> 472                 self._run_callback(callback, msg)\n        self._run_callback = <bound method ZMQStream._run_callback of <zmq.eventloop.zmqstream.ZMQStream object>>\n        callback = <function wrap.<locals>.null_wrapper>\n        msg = [<zmq.sugar.frame.Frame object>, <zmq.sugar.frame.Frame object>, <zmq.sugar.frame.Frame object>, <zmq.sugar.frame.Frame object>, <zmq.sugar.frame.Frame object>, <zmq.sugar.frame.Frame object>, <zmq.sugar.frame.Frame object>]\n    473                 \n    474         # self.update_state()\n    475         \n    476 \n\n...........................................................................\nc:\\users\\kzaytseva\\appdata\\local\\continuum\\anaconda3_new\\envs\\textclass\\lib\\site-packages\\zmq\\eventloop\\zmqstream.py in _run_callback(self=<zmq.eventloop.zmqstream.ZMQStream object>, callback=<function wrap.<locals>.null_wrapper>, *args=([<zmq.sugar.frame.Frame object>, <zmq.sugar.frame.Frame object>, <zmq.sugar.frame.Frame object>, <zmq.sugar.frame.Frame object>, <zmq.sugar.frame.Frame object>, <zmq.sugar.frame.Frame object>, <zmq.sugar.frame.Frame object>],), **kwargs={})\n    409         close our socket.\"\"\"\n    410         try:\n    411             # Use a NullContext to ensure that all StackContexts are run\n    412             # inside our blanket exception handler rather than outside.\n    413             with stack_context.NullContext():\n--> 414                 callback(*args, **kwargs)\n        callback = <function wrap.<locals>.null_wrapper>\n        args = ([<zmq.sugar.frame.Frame object>, <zmq.sugar.frame.Frame object>, <zmq.sugar.frame.Frame object>, <zmq.sugar.frame.Frame object>, <zmq.sugar.frame.Frame object>, <zmq.sugar.frame.Frame object>, <zmq.sugar.frame.Frame object>],)\n        kwargs = {}\n    415         except:\n    416             gen_log.error(\"Uncaught exception, closing connection.\",\n    417                           exc_info=True)\n    418             # Close the socket on an uncaught exception from a user callback\n\n...........................................................................\nc:\\users\\kzaytseva\\appdata\\local\\continuum\\anaconda3_new\\envs\\textclass\\lib\\site-packages\\tornado\\stack_context.py in null_wrapper(*args=([<zmq.sugar.frame.Frame object>, <zmq.sugar.frame.Frame object>, <zmq.sugar.frame.Frame object>, <zmq.sugar.frame.Frame object>, <zmq.sugar.frame.Frame object>, <zmq.sugar.frame.Frame object>, <zmq.sugar.frame.Frame object>],), **kwargs={})\n    272         # Fast path when there are no active contexts.\n    273         def null_wrapper(*args, **kwargs):\n    274             try:\n    275                 current_state = _state.contexts\n    276                 _state.contexts = cap_contexts[0]\n--> 277                 return fn(*args, **kwargs)\n        args = ([<zmq.sugar.frame.Frame object>, <zmq.sugar.frame.Frame object>, <zmq.sugar.frame.Frame object>, <zmq.sugar.frame.Frame object>, <zmq.sugar.frame.Frame object>, <zmq.sugar.frame.Frame object>, <zmq.sugar.frame.Frame object>],)\n        kwargs = {}\n    278             finally:\n    279                 _state.contexts = current_state\n    280         null_wrapper._wrapped = True\n    281         return null_wrapper\n\n...........................................................................\nc:\\users\\kzaytseva\\appdata\\local\\continuum\\anaconda3_new\\envs\\textclass\\lib\\site-packages\\ipykernel\\kernelbase.py in dispatcher(msg=[<zmq.sugar.frame.Frame object>, <zmq.sugar.frame.Frame object>, <zmq.sugar.frame.Frame object>, <zmq.sugar.frame.Frame object>, <zmq.sugar.frame.Frame object>, <zmq.sugar.frame.Frame object>, <zmq.sugar.frame.Frame object>])\n    276         if self.control_stream:\n    277             self.control_stream.on_recv(self.dispatch_control, copy=False)\n    278 \n    279         def make_dispatcher(stream):\n    280             def dispatcher(msg):\n--> 281                 return self.dispatch_shell(stream, msg)\n        msg = [<zmq.sugar.frame.Frame object>, <zmq.sugar.frame.Frame object>, <zmq.sugar.frame.Frame object>, <zmq.sugar.frame.Frame object>, <zmq.sugar.frame.Frame object>, <zmq.sugar.frame.Frame object>, <zmq.sugar.frame.Frame object>]\n    282             return dispatcher\n    283 \n    284         for s in self.shell_streams:\n    285             s.on_recv(make_dispatcher(s), copy=False)\n\n...........................................................................\nc:\\users\\kzaytseva\\appdata\\local\\continuum\\anaconda3_new\\envs\\textclass\\lib\\site-packages\\ipykernel\\kernelbase.py in dispatch_shell(self=<ipykernel.ipkernel.IPythonKernel object>, stream=<zmq.eventloop.zmqstream.ZMQStream object>, msg={'buffers': [], 'content': {'allow_stdin': True, 'code': 'from sklearn import model_selection\\nseed = 42\\n# ...ot(results)\\nax.set_xticklabels(names)\\nplt.show()\\n', 'silent': False, 'stop_on_error': True, 'store_history': True, 'user_expressions': {}}, 'header': {'date': datetime.datetime(2018, 1, 24, 11, 3, 2, 168480, tzinfo=tzutc()), 'msg_id': 'AAC911F933D14294936AEAE0D0B45BF8', 'msg_type': 'execute_request', 'session': '57E2290274FF4FB3ADE9AEF7000E3669', 'username': 'username', 'version': '5.2'}, 'metadata': {}, 'msg_id': 'AAC911F933D14294936AEAE0D0B45BF8', 'msg_type': 'execute_request', 'parent_header': {}})\n    227             self.log.warn(\"Unknown message type: %r\", msg_type)\n    228         else:\n    229             self.log.debug(\"%s: %s\", msg_type, msg)\n    230             self.pre_handler_hook()\n    231             try:\n--> 232                 handler(stream, idents, msg)\n        handler = <bound method Kernel.execute_request of <ipykernel.ipkernel.IPythonKernel object>>\n        stream = <zmq.eventloop.zmqstream.ZMQStream object>\n        idents = [b'57E2290274FF4FB3ADE9AEF7000E3669']\n        msg = {'buffers': [], 'content': {'allow_stdin': True, 'code': 'from sklearn import model_selection\\nseed = 42\\n# ...ot(results)\\nax.set_xticklabels(names)\\nplt.show()\\n', 'silent': False, 'stop_on_error': True, 'store_history': True, 'user_expressions': {}}, 'header': {'date': datetime.datetime(2018, 1, 24, 11, 3, 2, 168480, tzinfo=tzutc()), 'msg_id': 'AAC911F933D14294936AEAE0D0B45BF8', 'msg_type': 'execute_request', 'session': '57E2290274FF4FB3ADE9AEF7000E3669', 'username': 'username', 'version': '5.2'}, 'metadata': {}, 'msg_id': 'AAC911F933D14294936AEAE0D0B45BF8', 'msg_type': 'execute_request', 'parent_header': {}}\n    233             except Exception:\n    234                 self.log.error(\"Exception in message handler:\", exc_info=True)\n    235             finally:\n    236                 self.post_handler_hook()\n\n...........................................................................\nc:\\users\\kzaytseva\\appdata\\local\\continuum\\anaconda3_new\\envs\\textclass\\lib\\site-packages\\ipykernel\\kernelbase.py in execute_request(self=<ipykernel.ipkernel.IPythonKernel object>, stream=<zmq.eventloop.zmqstream.ZMQStream object>, ident=[b'57E2290274FF4FB3ADE9AEF7000E3669'], parent={'buffers': [], 'content': {'allow_stdin': True, 'code': 'from sklearn import model_selection\\nseed = 42\\n# ...ot(results)\\nax.set_xticklabels(names)\\nplt.show()\\n', 'silent': False, 'stop_on_error': True, 'store_history': True, 'user_expressions': {}}, 'header': {'date': datetime.datetime(2018, 1, 24, 11, 3, 2, 168480, tzinfo=tzutc()), 'msg_id': 'AAC911F933D14294936AEAE0D0B45BF8', 'msg_type': 'execute_request', 'session': '57E2290274FF4FB3ADE9AEF7000E3669', 'username': 'username', 'version': '5.2'}, 'metadata': {}, 'msg_id': 'AAC911F933D14294936AEAE0D0B45BF8', 'msg_type': 'execute_request', 'parent_header': {}})\n    392         if not silent:\n    393             self.execution_count += 1\n    394             self._publish_execute_input(code, parent, self.execution_count)\n    395 \n    396         reply_content = self.do_execute(code, silent, store_history,\n--> 397                                         user_expressions, allow_stdin)\n        user_expressions = {}\n        allow_stdin = True\n    398 \n    399         # Flush output before sending the reply.\n    400         sys.stdout.flush()\n    401         sys.stderr.flush()\n\n...........................................................................\nc:\\users\\kzaytseva\\appdata\\local\\continuum\\anaconda3_new\\envs\\textclass\\lib\\site-packages\\ipykernel\\ipkernel.py in do_execute(self=<ipykernel.ipkernel.IPythonKernel object>, code='from sklearn import model_selection\\nseed = 42\\n# ...ot(results)\\nax.set_xticklabels(names)\\nplt.show()\\n', silent=False, store_history=True, user_expressions={}, allow_stdin=True)\n    203 \n    204         self._forward_input(allow_stdin)\n    205 \n    206         reply_content = {}\n    207         try:\n--> 208             res = shell.run_cell(code, store_history=store_history, silent=silent)\n        res = undefined\n        shell.run_cell = <bound method ZMQInteractiveShell.run_cell of <ipykernel.zmqshell.ZMQInteractiveShell object>>\n        code = 'from sklearn import model_selection\\nseed = 42\\n# ...ot(results)\\nax.set_xticklabels(names)\\nplt.show()\\n'\n        store_history = True\n        silent = False\n    209         finally:\n    210             self._restore_input()\n    211 \n    212         if res.error_before_exec is not None:\n\n...........................................................................\nc:\\users\\kzaytseva\\appdata\\local\\continuum\\anaconda3_new\\envs\\textclass\\lib\\site-packages\\ipykernel\\zmqshell.py in run_cell(self=<ipykernel.zmqshell.ZMQInteractiveShell object>, *args=('from sklearn import model_selection\\nseed = 42\\n# ...ot(results)\\nax.set_xticklabels(names)\\nplt.show()\\n',), **kwargs={'silent': False, 'store_history': True})\n    528             )\n    529         self.payload_manager.write_payload(payload)\n    530 \n    531     def run_cell(self, *args, **kwargs):\n    532         self._last_traceback = None\n--> 533         return super(ZMQInteractiveShell, self).run_cell(*args, **kwargs)\n        self.run_cell = <bound method ZMQInteractiveShell.run_cell of <ipykernel.zmqshell.ZMQInteractiveShell object>>\n        args = ('from sklearn import model_selection\\nseed = 42\\n# ...ot(results)\\nax.set_xticklabels(names)\\nplt.show()\\n',)\n        kwargs = {'silent': False, 'store_history': True}\n    534 \n    535     def _showtraceback(self, etype, evalue, stb):\n    536         # try to preserve ordering of tracebacks and print statements\n    537         sys.stdout.flush()\n\n...........................................................................\nc:\\users\\kzaytseva\\appdata\\local\\continuum\\anaconda3_new\\envs\\textclass\\lib\\site-packages\\IPython\\core\\interactiveshell.py in run_cell(self=<ipykernel.zmqshell.ZMQInteractiveShell object>, raw_cell='from sklearn import model_selection\\nseed = 42\\n# ...ot(results)\\nax.set_xticklabels(names)\\nplt.show()\\n', store_history=True, silent=False, shell_futures=True)\n   2723                 self.displayhook.exec_result = result\n   2724 \n   2725                 # Execute the user code\n   2726                 interactivity = \"none\" if silent else self.ast_node_interactivity\n   2727                 has_raised = self.run_ast_nodes(code_ast.body, cell_name,\n-> 2728                    interactivity=interactivity, compiler=compiler, result=result)\n        interactivity = 'last_expr'\n        compiler = <IPython.core.compilerop.CachingCompiler object>\n   2729                 \n   2730                 self.last_execution_succeeded = not has_raised\n   2731                 self.last_execution_result = result\n   2732 \n\n...........................................................................\nc:\\users\\kzaytseva\\appdata\\local\\continuum\\anaconda3_new\\envs\\textclass\\lib\\site-packages\\IPython\\core\\interactiveshell.py in run_ast_nodes(self=<ipykernel.zmqshell.ZMQInteractiveShell object>, nodelist=[<_ast.ImportFrom object>, <_ast.Assign object>, <_ast.Assign object>, <_ast.Expr object>, <_ast.Expr object>, <_ast.Expr object>, <_ast.Assign object>, <_ast.Assign object>, <_ast.Assign object>, <_ast.For object>, <_ast.Assign object>, <_ast.Expr object>, <_ast.Assign object>, <_ast.Expr object>, <_ast.Expr object>, <_ast.Expr object>], cell_name='<ipython-input-53-fc8bf5b4c86e>', interactivity='last', compiler=<IPython.core.compilerop.CachingCompiler object>, result=<ExecutionResult object at 96e9be9128, execution..._before_exec=None error_in_exec=None result=None>)\n   2845 \n   2846         try:\n   2847             for i, node in enumerate(to_run_exec):\n   2848                 mod = ast.Module([node])\n   2849                 code = compiler(mod, cell_name, \"exec\")\n-> 2850                 if self.run_code(code, result):\n        self.run_code = <bound method InteractiveShell.run_code of <ipykernel.zmqshell.ZMQInteractiveShell object>>\n        code = <code object <module> at 0x00000096F2271420, file \"<ipython-input-53-fc8bf5b4c86e>\", line 13>\n        result = <ExecutionResult object at 96e9be9128, execution..._before_exec=None error_in_exec=None result=None>\n   2851                     return True\n   2852 \n   2853             for i, node in enumerate(to_run_interactive):\n   2854                 mod = ast.Interactive([node])\n\n...........................................................................\nc:\\users\\kzaytseva\\appdata\\local\\continuum\\anaconda3_new\\envs\\textclass\\lib\\site-packages\\IPython\\core\\interactiveshell.py in run_code(self=<ipykernel.zmqshell.ZMQInteractiveShell object>, code_obj=<code object <module> at 0x00000096F2271420, file \"<ipython-input-53-fc8bf5b4c86e>\", line 13>, result=<ExecutionResult object at 96e9be9128, execution..._before_exec=None error_in_exec=None result=None>)\n   2905         outflag = True  # happens in more places, so it's easier as default\n   2906         try:\n   2907             try:\n   2908                 self.hooks.pre_run_code_hook()\n   2909                 #rprint('Running code', repr(code_obj)) # dbg\n-> 2910                 exec(code_obj, self.user_global_ns, self.user_ns)\n        code_obj = <code object <module> at 0x00000096F2271420, file \"<ipython-input-53-fc8bf5b4c86e>\", line 13>\n        self.user_global_ns = {'CountVectorizer': <class 'sklearn.feature_extraction.text.CountVectorizer'>, 'GridSearchCV': <class 'sklearn.model_selection._search.GridSearchCV'>, 'In': ['', '# playing with The UCI ML News Aggregator Datase...tplotlib.pyplot as plt\\nimport scikitplot as skplt', '#import data and add header row\\nnews = pd.read_c...\", \"CATEGORY\", \"STORY\", \"HOSTNAME\", \"TIMESTAMP\"])', '#first six rows\\nnews.head()', \"#lowercase text and removing punctuation in titl...LE'] = [normalize(s) for s in news['TITLE']]\\n    \", '#first six rows\\nnews.head()', \"news['CATEGORY'].unique()\", \"news['CATEGORY'].value_counts()[:20].plot(kind='barh')\", \"news['CATEGORY'].value_counts().plot(kind='barh')\", \"#import vectorizers and transformer\\n#use CountVe...#x_data = vectorizer.fit_transform(news['TITLE'])\", '# taken from Ritchie Ng post \"Vectorization, Mul...edicting actual future data to maximize learning.', '#split data into train and test subsets\\nfrom skl...umber of unique words in all corpus of headlines)', '#building a classifier\\nfrom sklearn.naive_bayes ... = MultinomialNB(alpha=.01).fit(X_train, y_train)', '###### USE WITHOUT PIPELINE ########\\n#testing on...mnb.predict(X_test)\\n#np.mean(predicted == y_test)', '###### USE WITHOUT PIPELINE ########\\n#alternative to above & np\\n#clf_mnb.score(X_test, y_test)', '#predicted', \"#to check all out metricts\\nfrom sklearn import m...rics.f1_score(y_test, predicted, average='macro')\", 'from sklearn.metrics import classification_report\\n#print(classification_report(y_test, predicted))', \"#pipeline for Naive Bayse classifier\\n\\nfrom sklea...        ('clf', MultinomialNB(alpha=.01)),\\n    ])\", '#.fit(train) - learns the vocabulary of the training data\\nclf_mnb = clf_mnb.fit(X_train, y_train)', ...], 'LogisticRegression': <class 'sklearn.linear_model.logistic.LogisticRegression'>, 'MultinomialNB': <class 'sklearn.naive_bayes.MultinomialNB'>, 'Out': {3:    ID                                           ...UPQVP6sIxvM    www.moneynews.com  1394470372027  , 5:    ID                                           ...UPQVP6sIxvM    www.moneynews.com  1394470372027  , 6: array(['b', 't', 'e', 'm'], dtype=object), 7: <matplotlib.axes._subplots.AxesSubplot object>, 8: <matplotlib.axes._subplots.AxesSubplot object>, 20: 0.9295109133090289, 22: 0.9490142481077225, 23: {'clf__alpha': 0.01, 'vect__ngram_range': (1, 2)}, 24: 0.9521897637422471, 28: array([0.36135082, 0.36135082, 0.36135082, ..., 0.36135082, 0.36135082,\n       0.36135082]), ...}, 'Pipeline': <class 'sklearn.pipeline.Pipeline'>, 'SGDClassifier': <class 'sklearn.linear_model.stochastic_gradient.SGDClassifier'>, 'TfidfTransformer': <class 'sklearn.feature_extraction.text.TfidfTransformer'>, 'TfidfVectorizer': <class 'sklearn.feature_extraction.text.TfidfVectorizer'>, ...}\n        self.user_ns = {'CountVectorizer': <class 'sklearn.feature_extraction.text.CountVectorizer'>, 'GridSearchCV': <class 'sklearn.model_selection._search.GridSearchCV'>, 'In': ['', '# playing with The UCI ML News Aggregator Datase...tplotlib.pyplot as plt\\nimport scikitplot as skplt', '#import data and add header row\\nnews = pd.read_c...\", \"CATEGORY\", \"STORY\", \"HOSTNAME\", \"TIMESTAMP\"])', '#first six rows\\nnews.head()', \"#lowercase text and removing punctuation in titl...LE'] = [normalize(s) for s in news['TITLE']]\\n    \", '#first six rows\\nnews.head()', \"news['CATEGORY'].unique()\", \"news['CATEGORY'].value_counts()[:20].plot(kind='barh')\", \"news['CATEGORY'].value_counts().plot(kind='barh')\", \"#import vectorizers and transformer\\n#use CountVe...#x_data = vectorizer.fit_transform(news['TITLE'])\", '# taken from Ritchie Ng post \"Vectorization, Mul...edicting actual future data to maximize learning.', '#split data into train and test subsets\\nfrom skl...umber of unique words in all corpus of headlines)', '#building a classifier\\nfrom sklearn.naive_bayes ... = MultinomialNB(alpha=.01).fit(X_train, y_train)', '###### USE WITHOUT PIPELINE ########\\n#testing on...mnb.predict(X_test)\\n#np.mean(predicted == y_test)', '###### USE WITHOUT PIPELINE ########\\n#alternative to above & np\\n#clf_mnb.score(X_test, y_test)', '#predicted', \"#to check all out metricts\\nfrom sklearn import m...rics.f1_score(y_test, predicted, average='macro')\", 'from sklearn.metrics import classification_report\\n#print(classification_report(y_test, predicted))', \"#pipeline for Naive Bayse classifier\\n\\nfrom sklea...        ('clf', MultinomialNB(alpha=.01)),\\n    ])\", '#.fit(train) - learns the vocabulary of the training data\\nclf_mnb = clf_mnb.fit(X_train, y_train)', ...], 'LogisticRegression': <class 'sklearn.linear_model.logistic.LogisticRegression'>, 'MultinomialNB': <class 'sklearn.naive_bayes.MultinomialNB'>, 'Out': {3:    ID                                           ...UPQVP6sIxvM    www.moneynews.com  1394470372027  , 5:    ID                                           ...UPQVP6sIxvM    www.moneynews.com  1394470372027  , 6: array(['b', 't', 'e', 'm'], dtype=object), 7: <matplotlib.axes._subplots.AxesSubplot object>, 8: <matplotlib.axes._subplots.AxesSubplot object>, 20: 0.9295109133090289, 22: 0.9490142481077225, 23: {'clf__alpha': 0.01, 'vect__ngram_range': (1, 2)}, 24: 0.9521897637422471, 28: array([0.36135082, 0.36135082, 0.36135082, ..., 0.36135082, 0.36135082,\n       0.36135082]), ...}, 'Pipeline': <class 'sklearn.pipeline.Pipeline'>, 'SGDClassifier': <class 'sklearn.linear_model.stochastic_gradient.SGDClassifier'>, 'TfidfTransformer': <class 'sklearn.feature_extraction.text.TfidfTransformer'>, 'TfidfVectorizer': <class 'sklearn.feature_extraction.text.TfidfVectorizer'>, ...}\n   2911             finally:\n   2912                 # Reset our crash handler in place\n   2913                 sys.excepthook = old_excepthook\n   2914         except SystemExit as e:\n\n...........................................................................\nC:\\Users\\kzaytseva\\PycharmProjects\\TextClass\\<ipython-input-53-fc8bf5b4c86e> in <module>()\n     10 results = []\n     11 names = []\n     12 scoring = 'accuracy'\n     13 for name, model in models:\n     14     kfold = model_selection.KFold(n_splits=10, random_state=seed)\n---> 15     cv_results = model_selection.cross_val_score(model, y_test, predicted, cv=kfold, scoring=scoring)\n     16     results.append(cv_results)\n     17     names.append(name)\n     18     msg = \"%s: %f (%f)\" % (name, cv_results.mean(), cv_results.std())\n     19     print(msg)\n\n...........................................................................\nc:\\users\\kzaytseva\\appdata\\local\\continuum\\anaconda3_new\\envs\\textclass\\lib\\site-packages\\sklearn\\model_selection\\_validation.py in cross_val_score(estimator=GridSearchCV(cv=None, error_score='raise',\n     ...ain_score='warn',\n       scoring=None, verbose=0), X=280241    e\n96315     b\n280410    e\n284975    e\n...  b\nName: CATEGORY, Length: 105605, dtype: object, y=array(['e', 'b', 'e', ..., 'e', 'e', 't'], dtype=object), groups=None, scoring='accuracy', cv=KFold(n_splits=10, random_state=42, shuffle=False), n_jobs=1, verbose=0, fit_params=None, pre_dispatch='2*n_jobs')\n    337     cv_results = cross_validate(estimator=estimator, X=X, y=y, groups=groups,\n    338                                 scoring={'score': scorer}, cv=cv,\n    339                                 return_train_score=False,\n    340                                 n_jobs=n_jobs, verbose=verbose,\n    341                                 fit_params=fit_params,\n--> 342                                 pre_dispatch=pre_dispatch)\n        pre_dispatch = '2*n_jobs'\n    343     return cv_results['test_score']\n    344 \n    345 \n    346 def _fit_and_score(estimator, X, y, scorer, train, test, verbose,\n\n...........................................................................\nc:\\users\\kzaytseva\\appdata\\local\\continuum\\anaconda3_new\\envs\\textclass\\lib\\site-packages\\sklearn\\model_selection\\_validation.py in cross_validate(estimator=GridSearchCV(cv=None, error_score='raise',\n     ...ain_score='warn',\n       scoring=None, verbose=0), X=280241    e\n96315     b\n280410    e\n284975    e\n...  b\nName: CATEGORY, Length: 105605, dtype: object, y=array(['e', 'b', 'e', ..., 'e', 'e', 't'], dtype=object), groups=None, scoring={'score': make_scorer(accuracy_score)}, cv=KFold(n_splits=10, random_state=42, shuffle=False), n_jobs=1, verbose=0, fit_params=None, pre_dispatch='2*n_jobs', return_train_score=False)\n    201     scores = parallel(\n    202         delayed(_fit_and_score)(\n    203             clone(estimator), X, y, scorers, train, test, verbose, None,\n    204             fit_params, return_train_score=return_train_score,\n    205             return_times=True)\n--> 206         for train, test in cv.split(X, y, groups))\n        cv.split = <bound method _BaseKFold.split of KFold(n_splits=10, random_state=42, shuffle=False)>\n        X = 280241    e\n96315     b\n280410    e\n284975    e\n...  b\nName: CATEGORY, Length: 105605, dtype: object\n        y = array(['e', 'b', 'e', ..., 'e', 'e', 't'], dtype=object)\n        groups = None\n    207 \n    208     if return_train_score:\n    209         train_scores, test_scores, fit_times, score_times = zip(*scores)\n    210         train_scores = _aggregate_score_dicts(train_scores)\n\n...........................................................................\nc:\\users\\kzaytseva\\appdata\\local\\continuum\\anaconda3_new\\envs\\textclass\\lib\\site-packages\\sklearn\\externals\\joblib\\parallel.py in __call__(self=Parallel(n_jobs=1), iterable=<generator object cross_validate.<locals>.<genexpr>>)\n    774         self.n_completed_tasks = 0\n    775         try:\n    776             # Only set self._iterating to True if at least a batch\n    777             # was dispatched. In particular this covers the edge\n    778             # case of Parallel used with an exhausted iterator.\n--> 779             while self.dispatch_one_batch(iterator):\n        self.dispatch_one_batch = <bound method Parallel.dispatch_one_batch of Parallel(n_jobs=1)>\n        iterator = <generator object cross_validate.<locals>.<genexpr>>\n    780                 self._iterating = True\n    781             else:\n    782                 self._iterating = False\n    783 \n\n...........................................................................\nc:\\users\\kzaytseva\\appdata\\local\\continuum\\anaconda3_new\\envs\\textclass\\lib\\site-packages\\sklearn\\externals\\joblib\\parallel.py in dispatch_one_batch(self=Parallel(n_jobs=1), iterator=<generator object cross_validate.<locals>.<genexpr>>)\n    620             tasks = BatchedCalls(itertools.islice(iterator, batch_size))\n    621             if len(tasks) == 0:\n    622                 # No more tasks available in the iterator: tell caller to stop.\n    623                 return False\n    624             else:\n--> 625                 self._dispatch(tasks)\n        self._dispatch = <bound method Parallel._dispatch of Parallel(n_jobs=1)>\n        tasks = <sklearn.externals.joblib.parallel.BatchedCalls object>\n    626                 return True\n    627 \n    628     def _print(self, msg, msg_args):\n    629         \"\"\"Display the message on stout or stderr depending on verbosity\"\"\"\n\n...........................................................................\nc:\\users\\kzaytseva\\appdata\\local\\continuum\\anaconda3_new\\envs\\textclass\\lib\\site-packages\\sklearn\\externals\\joblib\\parallel.py in _dispatch(self=Parallel(n_jobs=1), batch=<sklearn.externals.joblib.parallel.BatchedCalls object>)\n    583         self.n_dispatched_tasks += len(batch)\n    584         self.n_dispatched_batches += 1\n    585 \n    586         dispatch_timestamp = time.time()\n    587         cb = BatchCompletionCallBack(dispatch_timestamp, len(batch), self)\n--> 588         job = self._backend.apply_async(batch, callback=cb)\n        job = undefined\n        self._backend.apply_async = <bound method SequentialBackend.apply_async of <...lib._parallel_backends.SequentialBackend object>>\n        batch = <sklearn.externals.joblib.parallel.BatchedCalls object>\n        cb = <sklearn.externals.joblib.parallel.BatchCompletionCallBack object>\n    589         self._jobs.append(job)\n    590 \n    591     def dispatch_next(self):\n    592         \"\"\"Dispatch more data for parallel processing\n\n...........................................................................\nc:\\users\\kzaytseva\\appdata\\local\\continuum\\anaconda3_new\\envs\\textclass\\lib\\site-packages\\sklearn\\externals\\joblib\\_parallel_backends.py in apply_async(self=<sklearn.externals.joblib._parallel_backends.SequentialBackend object>, func=<sklearn.externals.joblib.parallel.BatchedCalls object>, callback=<sklearn.externals.joblib.parallel.BatchCompletionCallBack object>)\n    106             raise ValueError('n_jobs == 0 in Parallel has no meaning')\n    107         return 1\n    108 \n    109     def apply_async(self, func, callback=None):\n    110         \"\"\"Schedule a func to be run\"\"\"\n--> 111         result = ImmediateResult(func)\n        result = undefined\n        func = <sklearn.externals.joblib.parallel.BatchedCalls object>\n    112         if callback:\n    113             callback(result)\n    114         return result\n    115 \n\n...........................................................................\nc:\\users\\kzaytseva\\appdata\\local\\continuum\\anaconda3_new\\envs\\textclass\\lib\\site-packages\\sklearn\\externals\\joblib\\_parallel_backends.py in __init__(self=<sklearn.externals.joblib._parallel_backends.ImmediateResult object>, batch=<sklearn.externals.joblib.parallel.BatchedCalls object>)\n    327 \n    328 class ImmediateResult(object):\n    329     def __init__(self, batch):\n    330         # Don't delay the application, to avoid keeping the input\n    331         # arguments in memory\n--> 332         self.results = batch()\n        self.results = undefined\n        batch = <sklearn.externals.joblib.parallel.BatchedCalls object>\n    333 \n    334     def get(self):\n    335         return self.results\n    336 \n\n...........................................................................\nc:\\users\\kzaytseva\\appdata\\local\\continuum\\anaconda3_new\\envs\\textclass\\lib\\site-packages\\sklearn\\externals\\joblib\\parallel.py in __call__(self=<sklearn.externals.joblib.parallel.BatchedCalls object>)\n    126     def __init__(self, iterator_slice):\n    127         self.items = list(iterator_slice)\n    128         self._size = len(self.items)\n    129 \n    130     def __call__(self):\n--> 131         return [func(*args, **kwargs) for func, args, kwargs in self.items]\n        self.items = [(<function _fit_and_score>, (GridSearchCV(cv=None, error_score='raise',\n     ...ain_score='warn',\n       scoring=None, verbose=0), 280241    e\n96315     b\n280410    e\n284975    e\n...  b\nName: CATEGORY, Length: 105605, dtype: object, array(['e', 'b', 'e', ..., 'e', 'e', 't'], dtype=object), {'score': make_scorer(accuracy_score)}, array([ 10561,  10562,  10563, ..., 105602, 105603, 105604]), array([    0,     1,     2, ..., 10558, 10559, 10560]), 0, None, None), {'return_times': True, 'return_train_score': False})]\n    132 \n    133     def __len__(self):\n    134         return self._size\n    135 \n\n...........................................................................\nc:\\users\\kzaytseva\\appdata\\local\\continuum\\anaconda3_new\\envs\\textclass\\lib\\site-packages\\sklearn\\externals\\joblib\\parallel.py in <listcomp>(.0=<list_iterator object>)\n    126     def __init__(self, iterator_slice):\n    127         self.items = list(iterator_slice)\n    128         self._size = len(self.items)\n    129 \n    130     def __call__(self):\n--> 131         return [func(*args, **kwargs) for func, args, kwargs in self.items]\n        func = <function _fit_and_score>\n        args = (GridSearchCV(cv=None, error_score='raise',\n     ...ain_score='warn',\n       scoring=None, verbose=0), 280241    e\n96315     b\n280410    e\n284975    e\n...  b\nName: CATEGORY, Length: 105605, dtype: object, array(['e', 'b', 'e', ..., 'e', 'e', 't'], dtype=object), {'score': make_scorer(accuracy_score)}, array([ 10561,  10562,  10563, ..., 105602, 105603, 105604]), array([    0,     1,     2, ..., 10558, 10559, 10560]), 0, None, None)\n        kwargs = {'return_times': True, 'return_train_score': False}\n    132 \n    133     def __len__(self):\n    134         return self._size\n    135 \n\n...........................................................................\nc:\\users\\kzaytseva\\appdata\\local\\continuum\\anaconda3_new\\envs\\textclass\\lib\\site-packages\\sklearn\\model_selection\\_validation.py in _fit_and_score(estimator=GridSearchCV(cv=None, error_score='raise',\n     ...ain_score='warn',\n       scoring=None, verbose=0), X=280241    e\n96315     b\n280410    e\n284975    e\n...  b\nName: CATEGORY, Length: 105605, dtype: object, y=array(['e', 'b', 'e', ..., 'e', 'e', 't'], dtype=object), scorer={'score': make_scorer(accuracy_score)}, train=array([ 10561,  10562,  10563, ..., 105602, 105603, 105604]), test=array([    0,     1,     2, ..., 10558, 10559, 10560]), verbose=0, parameters=None, fit_params={}, return_train_score=False, return_parameters=False, return_n_test_samples=False, return_times=True, error_score='raise')\n    453 \n    454     try:\n    455         if y_train is None:\n    456             estimator.fit(X_train, **fit_params)\n    457         else:\n--> 458             estimator.fit(X_train, y_train, **fit_params)\n        estimator.fit = <bound method BaseSearchCV.fit of GridSearchCV(c...in_score='warn',\n       scoring=None, verbose=0)>\n        X_train = 306187    t\n219070    b\n198293    e\n379529    t\n...   b\nName: CATEGORY, Length: 95044, dtype: object\n        y_train = array(['t', 'e', 'e', ..., 'e', 'e', 't'], dtype=object)\n        fit_params = {}\n    459 \n    460     except Exception as e:\n    461         # Note fit time as time until error\n    462         fit_time = time.time() - start_time\n\n...........................................................................\nc:\\users\\kzaytseva\\appdata\\local\\continuum\\anaconda3_new\\envs\\textclass\\lib\\site-packages\\sklearn\\model_selection\\_search.py in fit(self=GridSearchCV(cv=None, error_score='raise',\n     ...ain_score='warn',\n       scoring=None, verbose=0), X=306187    t\n219070    b\n198293    e\n379529    t\n...   b\nName: CATEGORY, Length: 95044, dtype: object, y=array(['t', 'e', 'e', ..., 'e', 'e', 't'], dtype=object), groups=None, **fit_params={})\n    634                                   return_train_score=self.return_train_score,\n    635                                   return_n_test_samples=True,\n    636                                   return_times=True, return_parameters=False,\n    637                                   error_score=self.error_score)\n    638           for parameters, (train, test) in product(candidate_params,\n--> 639                                                    cv.split(X, y, groups)))\n        cv.split = <bound method StratifiedKFold.split of Stratifie...ld(n_splits=3, random_state=None, shuffle=False)>\n        X = 306187    t\n219070    b\n198293    e\n379529    t\n...   b\nName: CATEGORY, Length: 95044, dtype: object\n        y = array(['t', 'e', 'e', ..., 'e', 'e', 't'], dtype=object)\n        groups = None\n    640 \n    641         # if one choose to see train score, \"out\" will contain train score info\n    642         if self.return_train_score:\n    643             (train_score_dicts, test_score_dicts, test_sample_counts, fit_time,\n\n...........................................................................\nc:\\users\\kzaytseva\\appdata\\local\\continuum\\anaconda3_new\\envs\\textclass\\lib\\site-packages\\sklearn\\externals\\joblib\\parallel.py in __call__(self=Parallel(n_jobs=-1), iterable=<generator object BaseSearchCV.fit.<locals>.<genexpr>>)\n    784             if pre_dispatch == \"all\" or n_jobs == 1:\n    785                 # The iterable was consumed all at once by the above for loop.\n    786                 # No need to wait for async callbacks to trigger to\n    787                 # consumption.\n    788                 self._iterating = False\n--> 789             self.retrieve()\n        self.retrieve = <bound method Parallel.retrieve of Parallel(n_jobs=-1)>\n    790             # Make sure that we get a last message telling us we are done\n    791             elapsed_time = time.time() - self._start_time\n    792             self._print('Done %3i out of %3i | elapsed: %s finished',\n    793                         (len(self._output), len(self._output),\n\n---------------------------------------------------------------------------\nSub-process traceback:\n---------------------------------------------------------------------------\nValueError                                         Wed Jan 24 12:03:03 2018\nPID: 7464Python 3.5.4: c:\\users\\kzaytseva\\appdata\\local\\continuum\\anaconda3_new\\envs\\textclass\\python.exe\n...........................................................................\nc:\\users\\kzaytseva\\appdata\\local\\continuum\\anaconda3_new\\envs\\textclass\\lib\\site-packages\\sklearn\\externals\\joblib\\parallel.py in __call__(self=<sklearn.externals.joblib.parallel.BatchedCalls object>)\n    126     def __init__(self, iterator_slice):\n    127         self.items = list(iterator_slice)\n    128         self._size = len(self.items)\n    129 \n    130     def __call__(self):\n--> 131         return [func(*args, **kwargs) for func, args, kwargs in self.items]\n        self.items = [(<function _fit_and_score>, (Pipeline(memory=None,\n     steps=[('vect', Count...(alpha=0.01, class_prior=None, fit_prior=True))]), 306187    t\n219070    b\n198293    e\n379529    t\n...   b\nName: CATEGORY, Length: 95044, dtype: object, array(['t', 'e', 'e', ..., 'e', 'e', 't'], dtype=object), {'score': <function _passthrough_scorer>}, array([31457, 31458, 31461, ..., 95041, 95042, 95043]), array([    0,     1,     2, ..., 31951, 31952, 31964]), 0, {'clf__alpha': 0.01, 'vect__ngram_range': (1, 1)}), {'error_score': 'raise', 'fit_params': {}, 'return_n_test_samples': True, 'return_parameters': False, 'return_times': True, 'return_train_score': 'warn'})]\n    132 \n    133     def __len__(self):\n    134         return self._size\n    135 \n\n...........................................................................\nc:\\users\\kzaytseva\\appdata\\local\\continuum\\anaconda3_new\\envs\\textclass\\lib\\site-packages\\sklearn\\externals\\joblib\\parallel.py in <listcomp>(.0=<list_iterator object>)\n    126     def __init__(self, iterator_slice):\n    127         self.items = list(iterator_slice)\n    128         self._size = len(self.items)\n    129 \n    130     def __call__(self):\n--> 131         return [func(*args, **kwargs) for func, args, kwargs in self.items]\n        func = <function _fit_and_score>\n        args = (Pipeline(memory=None,\n     steps=[('vect', Count...(alpha=0.01, class_prior=None, fit_prior=True))]), 306187    t\n219070    b\n198293    e\n379529    t\n...   b\nName: CATEGORY, Length: 95044, dtype: object, array(['t', 'e', 'e', ..., 'e', 'e', 't'], dtype=object), {'score': <function _passthrough_scorer>}, array([31457, 31458, 31461, ..., 95041, 95042, 95043]), array([    0,     1,     2, ..., 31951, 31952, 31964]), 0, {'clf__alpha': 0.01, 'vect__ngram_range': (1, 1)})\n        kwargs = {'error_score': 'raise', 'fit_params': {}, 'return_n_test_samples': True, 'return_parameters': False, 'return_times': True, 'return_train_score': 'warn'}\n    132 \n    133     def __len__(self):\n    134         return self._size\n    135 \n\n...........................................................................\nc:\\users\\kzaytseva\\appdata\\local\\continuum\\anaconda3_new\\envs\\textclass\\lib\\site-packages\\sklearn\\model_selection\\_validation.py in _fit_and_score(estimator=Pipeline(memory=None,\n     steps=[('vect', Count...(alpha=0.01, class_prior=None, fit_prior=True))]), X=306187    t\n219070    b\n198293    e\n379529    t\n...   b\nName: CATEGORY, Length: 95044, dtype: object, y=array(['t', 'e', 'e', ..., 'e', 'e', 't'], dtype=object), scorer={'score': <function _passthrough_scorer>}, train=array([31457, 31458, 31461, ..., 95041, 95042, 95043]), test=array([    0,     1,     2, ..., 31951, 31952, 31964]), verbose=0, parameters={'clf__alpha': 0.01, 'vect__ngram_range': (1, 1)}, fit_params={}, return_train_score='warn', return_parameters=False, return_n_test_samples=True, return_times=True, error_score='raise')\n    453 \n    454     try:\n    455         if y_train is None:\n    456             estimator.fit(X_train, **fit_params)\n    457         else:\n--> 458             estimator.fit(X_train, y_train, **fit_params)\n        estimator.fit = <bound method Pipeline.fit of Pipeline(memory=No...alpha=0.01, class_prior=None, fit_prior=True))])>\n        X_train = 29977     b\n314954    b\n276665    b\n70135     b\n...   b\nName: CATEGORY, Length: 63361, dtype: object\n        y_train = array(['b', 'b', 'b', ..., 'e', 'e', 't'], dtype=object)\n        fit_params = {}\n    459 \n    460     except Exception as e:\n    461         # Note fit time as time until error\n    462         fit_time = time.time() - start_time\n\n...........................................................................\nc:\\users\\kzaytseva\\appdata\\local\\continuum\\anaconda3_new\\envs\\textclass\\lib\\site-packages\\sklearn\\pipeline.py in fit(self=Pipeline(memory=None,\n     steps=[('vect', Count...(alpha=0.01, class_prior=None, fit_prior=True))]), X=29977     b\n314954    b\n276665    b\n70135     b\n...   b\nName: CATEGORY, Length: 63361, dtype: object, y=array(['b', 'b', 'b', ..., 'e', 'e', 't'], dtype=object), **fit_params={})\n    243         Returns\n    244         -------\n    245         self : Pipeline\n    246             This estimator\n    247         \"\"\"\n--> 248         Xt, fit_params = self._fit(X, y, **fit_params)\n        Xt = undefined\n        fit_params = {}\n        self._fit = <bound method Pipeline._fit of Pipeline(memory=N...alpha=0.01, class_prior=None, fit_prior=True))])>\n        X = 29977     b\n314954    b\n276665    b\n70135     b\n...   b\nName: CATEGORY, Length: 63361, dtype: object\n        y = array(['b', 'b', 'b', ..., 'e', 'e', 't'], dtype=object)\n    249         if self._final_estimator is not None:\n    250             self._final_estimator.fit(Xt, y, **fit_params)\n    251         return self\n    252 \n\n...........................................................................\nc:\\users\\kzaytseva\\appdata\\local\\continuum\\anaconda3_new\\envs\\textclass\\lib\\site-packages\\sklearn\\pipeline.py in _fit(self=Pipeline(memory=None,\n     steps=[('vect', Count...(alpha=0.01, class_prior=None, fit_prior=True))]), X=29977     b\n314954    b\n276665    b\n70135     b\n...   b\nName: CATEGORY, Length: 63361, dtype: object, y=array(['b', 'b', 'b', ..., 'e', 'e', 't'], dtype=object), **fit_params={})\n    208                 else:\n    209                     cloned_transformer = clone(transformer)\n    210                 # Fit or load from cache the current transfomer\n    211                 Xt, fitted_transformer = fit_transform_one_cached(\n    212                     cloned_transformer, None, Xt, y,\n--> 213                     **fit_params_steps[name])\n        fit_params_steps = {'clf': {}, 'vect': {}}\n        name = 'vect'\n    214                 # Replace the transformer of the step with the fitted\n    215                 # transformer. This is necessary when loading the transformer\n    216                 # from the cache.\n    217                 self.steps[step_idx] = (name, fitted_transformer)\n\n...........................................................................\nc:\\users\\kzaytseva\\appdata\\local\\continuum\\anaconda3_new\\envs\\textclass\\lib\\site-packages\\sklearn\\externals\\joblib\\memory.py in __call__(self=NotMemorizedFunc(func=<function _fit_transform_one at 0x000000546BBB7F28>), *args=(CountVectorizer(analyzer='word', binary=False, d...\\w+\\\\b',\n        tokenizer=None, vocabulary=None), None, 29977     b\n314954    b\n276665    b\n70135     b\n...   b\nName: CATEGORY, Length: 63361, dtype: object, array(['b', 'b', 'b', ..., 'e', 'e', 't'], dtype=object)), **kwargs={})\n    357     # Should be a light as possible (for speed)\n    358     def __init__(self, func):\n    359         self.func = func\n    360 \n    361     def __call__(self, *args, **kwargs):\n--> 362         return self.func(*args, **kwargs)\n        self.func = <function _fit_transform_one>\n        args = (CountVectorizer(analyzer='word', binary=False, d...\\w+\\\\b',\n        tokenizer=None, vocabulary=None), None, 29977     b\n314954    b\n276665    b\n70135     b\n...   b\nName: CATEGORY, Length: 63361, dtype: object, array(['b', 'b', 'b', ..., 'e', 'e', 't'], dtype=object))\n        kwargs = {}\n    363 \n    364     def call_and_shelve(self, *args, **kwargs):\n    365         return NotMemorizedResult(self.func(*args, **kwargs))\n    366 \n\n...........................................................................\nc:\\users\\kzaytseva\\appdata\\local\\continuum\\anaconda3_new\\envs\\textclass\\lib\\site-packages\\sklearn\\pipeline.py in _fit_transform_one(transformer=CountVectorizer(analyzer='word', binary=False, d...\\w+\\\\b',\n        tokenizer=None, vocabulary=None), weight=None, X=29977     b\n314954    b\n276665    b\n70135     b\n...   b\nName: CATEGORY, Length: 63361, dtype: object, y=array(['b', 'b', 'b', ..., 'e', 'e', 't'], dtype=object), **fit_params={})\n    576 \n    577 \n    578 def _fit_transform_one(transformer, weight, X, y,\n    579                        **fit_params):\n    580     if hasattr(transformer, 'fit_transform'):\n--> 581         res = transformer.fit_transform(X, y, **fit_params)\n        res = undefined\n        transformer.fit_transform = <bound method CountVectorizer.fit_transform of C...w+\\\\b',\n        tokenizer=None, vocabulary=None)>\n        X = 29977     b\n314954    b\n276665    b\n70135     b\n...   b\nName: CATEGORY, Length: 63361, dtype: object\n        y = array(['b', 'b', 'b', ..., 'e', 'e', 't'], dtype=object)\n        fit_params = {}\n    582     else:\n    583         res = transformer.fit(X, y, **fit_params).transform(X)\n    584     # if we have a weight for this transformer, multiply output\n    585     if weight is None:\n\n...........................................................................\nc:\\users\\kzaytseva\\appdata\\local\\continuum\\anaconda3_new\\envs\\textclass\\lib\\site-packages\\sklearn\\feature_extraction\\text.py in fit_transform(self=CountVectorizer(analyzer='word', binary=False, d...\\w+\\\\b',\n        tokenizer=None, vocabulary=None), raw_documents=29977     b\n314954    b\n276665    b\n70135     b\n...   b\nName: CATEGORY, Length: 63361, dtype: object, y=array(['b', 'b', 'b', ..., 'e', 'e', 't'], dtype=object))\n    864         max_df = self.max_df\n    865         min_df = self.min_df\n    866         max_features = self.max_features\n    867 \n    868         vocabulary, X = self._count_vocab(raw_documents,\n--> 869                                           self.fixed_vocabulary_)\n        self.fixed_vocabulary_ = False\n    870 \n    871         if self.binary:\n    872             X.data.fill(1)\n    873 \n\n...........................................................................\nc:\\users\\kzaytseva\\appdata\\local\\continuum\\anaconda3_new\\envs\\textclass\\lib\\site-packages\\sklearn\\feature_extraction\\text.py in _count_vocab(self=CountVectorizer(analyzer='word', binary=False, d...\\w+\\\\b',\n        tokenizer=None, vocabulary=None), raw_documents=29977     b\n314954    b\n276665    b\n70135     b\n...   b\nName: CATEGORY, Length: 63361, dtype: object, fixed_vocab=False)\n    806 \n    807         if not fixed_vocab:\n    808             # disable defaultdict behaviour\n    809             vocabulary = dict(vocabulary)\n    810             if not vocabulary:\n--> 811                 raise ValueError(\"empty vocabulary; perhaps the documents only\"\n    812                                  \" contain stop words\")\n    813 \n    814         j_indices = np.asarray(j_indices, dtype=np.intc)\n    815         indptr = np.frombuffer(indptr, dtype=np.intc)\n\nValueError: empty vocabulary; perhaps the documents only contain stop words\n___________________________________________________________________________",
     "output_type": "error",
     "traceback": [
      "\u001b[1;31m---------------------------------------------------------------------------\u001b[0m",
      "\u001b[1;31mRemoteTraceback\u001b[0m                           Traceback (most recent call last)",
      "\u001b[1;31mRemoteTraceback\u001b[0m: \n\"\"\"\nTraceback (most recent call last):\n  File \"c:\\users\\kzaytseva\\appdata\\local\\continuum\\anaconda3_new\\envs\\textclass\\lib\\site-packages\\sklearn\\externals\\joblib\\_parallel_backends.py\", line 350, in __call__\n    return self.func(*args, **kwargs)\n  File \"c:\\users\\kzaytseva\\appdata\\local\\continuum\\anaconda3_new\\envs\\textclass\\lib\\site-packages\\sklearn\\externals\\joblib\\parallel.py\", line 131, in __call__\n    return [func(*args, **kwargs) for func, args, kwargs in self.items]\n  File \"c:\\users\\kzaytseva\\appdata\\local\\continuum\\anaconda3_new\\envs\\textclass\\lib\\site-packages\\sklearn\\externals\\joblib\\parallel.py\", line 131, in <listcomp>\n    return [func(*args, **kwargs) for func, args, kwargs in self.items]\n  File \"c:\\users\\kzaytseva\\appdata\\local\\continuum\\anaconda3_new\\envs\\textclass\\lib\\site-packages\\sklearn\\model_selection\\_validation.py\", line 458, in _fit_and_score\n    estimator.fit(X_train, y_train, **fit_params)\n  File \"c:\\users\\kzaytseva\\appdata\\local\\continuum\\anaconda3_new\\envs\\textclass\\lib\\site-packages\\sklearn\\pipeline.py\", line 248, in fit\n    Xt, fit_params = self._fit(X, y, **fit_params)\n  File \"c:\\users\\kzaytseva\\appdata\\local\\continuum\\anaconda3_new\\envs\\textclass\\lib\\site-packages\\sklearn\\pipeline.py\", line 213, in _fit\n    **fit_params_steps[name])\n  File \"c:\\users\\kzaytseva\\appdata\\local\\continuum\\anaconda3_new\\envs\\textclass\\lib\\site-packages\\sklearn\\externals\\joblib\\memory.py\", line 362, in __call__\n    return self.func(*args, **kwargs)\n  File \"c:\\users\\kzaytseva\\appdata\\local\\continuum\\anaconda3_new\\envs\\textclass\\lib\\site-packages\\sklearn\\pipeline.py\", line 581, in _fit_transform_one\n    res = transformer.fit_transform(X, y, **fit_params)\n  File \"c:\\users\\kzaytseva\\appdata\\local\\continuum\\anaconda3_new\\envs\\textclass\\lib\\site-packages\\sklearn\\feature_extraction\\text.py\", line 869, in fit_transform\n    self.fixed_vocabulary_)\n  File \"c:\\users\\kzaytseva\\appdata\\local\\continuum\\anaconda3_new\\envs\\textclass\\lib\\site-packages\\sklearn\\feature_extraction\\text.py\", line 811, in _count_vocab\n    raise ValueError(\"empty vocabulary; perhaps the documents only\"\nValueError: empty vocabulary; perhaps the documents only contain stop words\n\nDuring handling of the above exception, another exception occurred:\n\nTraceback (most recent call last):\n  File \"c:\\users\\kzaytseva\\appdata\\local\\continuum\\anaconda3_new\\envs\\textclass\\lib\\multiprocessing\\pool.py\", line 119, in worker\n    result = (True, func(*args, **kwds))\n  File \"c:\\users\\kzaytseva\\appdata\\local\\continuum\\anaconda3_new\\envs\\textclass\\lib\\site-packages\\sklearn\\externals\\joblib\\_parallel_backends.py\", line 359, in __call__\n    raise TransportableException(text, e_type)\nsklearn.externals.joblib.my_exceptions.TransportableException: TransportableException\n___________________________________________________________________________\nValueError                                         Wed Jan 24 12:03:03 2018\nPID: 7464Python 3.5.4: c:\\users\\kzaytseva\\appdata\\local\\continuum\\anaconda3_new\\envs\\textclass\\python.exe\n...........................................................................\nc:\\users\\kzaytseva\\appdata\\local\\continuum\\anaconda3_new\\envs\\textclass\\lib\\site-packages\\sklearn\\externals\\joblib\\parallel.py in __call__(self=<sklearn.externals.joblib.parallel.BatchedCalls object>)\n    126     def __init__(self, iterator_slice):\n    127         self.items = list(iterator_slice)\n    128         self._size = len(self.items)\n    129 \n    130     def __call__(self):\n--> 131         return [func(*args, **kwargs) for func, args, kwargs in self.items]\n        self.items = [(<function _fit_and_score>, (Pipeline(memory=None,\n     steps=[('vect', Count...(alpha=0.01, class_prior=None, fit_prior=True))]), 306187    t\n219070    b\n198293    e\n379529    t\n...   b\nName: CATEGORY, Length: 95044, dtype: object, array(['t', 'e', 'e', ..., 'e', 'e', 't'], dtype=object), {'score': <function _passthrough_scorer>}, array([31457, 31458, 31461, ..., 95041, 95042, 95043]), array([    0,     1,     2, ..., 31951, 31952, 31964]), 0, {'clf__alpha': 0.01, 'vect__ngram_range': (1, 1)}), {'error_score': 'raise', 'fit_params': {}, 'return_n_test_samples': True, 'return_parameters': False, 'return_times': True, 'return_train_score': 'warn'})]\n    132 \n    133     def __len__(self):\n    134         return self._size\n    135 \n\n...........................................................................\nc:\\users\\kzaytseva\\appdata\\local\\continuum\\anaconda3_new\\envs\\textclass\\lib\\site-packages\\sklearn\\externals\\joblib\\parallel.py in <listcomp>(.0=<list_iterator object>)\n    126     def __init__(self, iterator_slice):\n    127         self.items = list(iterator_slice)\n    128         self._size = len(self.items)\n    129 \n    130     def __call__(self):\n--> 131         return [func(*args, **kwargs) for func, args, kwargs in self.items]\n        func = <function _fit_and_score>\n        args = (Pipeline(memory=None,\n     steps=[('vect', Count...(alpha=0.01, class_prior=None, fit_prior=True))]), 306187    t\n219070    b\n198293    e\n379529    t\n...   b\nName: CATEGORY, Length: 95044, dtype: object, array(['t', 'e', 'e', ..., 'e', 'e', 't'], dtype=object), {'score': <function _passthrough_scorer>}, array([31457, 31458, 31461, ..., 95041, 95042, 95043]), array([    0,     1,     2, ..., 31951, 31952, 31964]), 0, {'clf__alpha': 0.01, 'vect__ngram_range': (1, 1)})\n        kwargs = {'error_score': 'raise', 'fit_params': {}, 'return_n_test_samples': True, 'return_parameters': False, 'return_times': True, 'return_train_score': 'warn'}\n    132 \n    133     def __len__(self):\n    134         return self._size\n    135 \n\n...........................................................................\nc:\\users\\kzaytseva\\appdata\\local\\continuum\\anaconda3_new\\envs\\textclass\\lib\\site-packages\\sklearn\\model_selection\\_validation.py in _fit_and_score(estimator=Pipeline(memory=None,\n     steps=[('vect', Count...(alpha=0.01, class_prior=None, fit_prior=True))]), X=306187    t\n219070    b\n198293    e\n379529    t\n...   b\nName: CATEGORY, Length: 95044, dtype: object, y=array(['t', 'e', 'e', ..., 'e', 'e', 't'], dtype=object), scorer={'score': <function _passthrough_scorer>}, train=array([31457, 31458, 31461, ..., 95041, 95042, 95043]), test=array([    0,     1,     2, ..., 31951, 31952, 31964]), verbose=0, parameters={'clf__alpha': 0.01, 'vect__ngram_range': (1, 1)}, fit_params={}, return_train_score='warn', return_parameters=False, return_n_test_samples=True, return_times=True, error_score='raise')\n    453 \n    454     try:\n    455         if y_train is None:\n    456             estimator.fit(X_train, **fit_params)\n    457         else:\n--> 458             estimator.fit(X_train, y_train, **fit_params)\n        estimator.fit = <bound method Pipeline.fit of Pipeline(memory=No...alpha=0.01, class_prior=None, fit_prior=True))])>\n        X_train = 29977     b\n314954    b\n276665    b\n70135     b\n...   b\nName: CATEGORY, Length: 63361, dtype: object\n        y_train = array(['b', 'b', 'b', ..., 'e', 'e', 't'], dtype=object)\n        fit_params = {}\n    459 \n    460     except Exception as e:\n    461         # Note fit time as time until error\n    462         fit_time = time.time() - start_time\n\n...........................................................................\nc:\\users\\kzaytseva\\appdata\\local\\continuum\\anaconda3_new\\envs\\textclass\\lib\\site-packages\\sklearn\\pipeline.py in fit(self=Pipeline(memory=None,\n     steps=[('vect', Count...(alpha=0.01, class_prior=None, fit_prior=True))]), X=29977     b\n314954    b\n276665    b\n70135     b\n...   b\nName: CATEGORY, Length: 63361, dtype: object, y=array(['b', 'b', 'b', ..., 'e', 'e', 't'], dtype=object), **fit_params={})\n    243         Returns\n    244         -------\n    245         self : Pipeline\n    246             This estimator\n    247         \"\"\"\n--> 248         Xt, fit_params = self._fit(X, y, **fit_params)\n        Xt = undefined\n        fit_params = {}\n        self._fit = <bound method Pipeline._fit of Pipeline(memory=N...alpha=0.01, class_prior=None, fit_prior=True))])>\n        X = 29977     b\n314954    b\n276665    b\n70135     b\n...   b\nName: CATEGORY, Length: 63361, dtype: object\n        y = array(['b', 'b', 'b', ..., 'e', 'e', 't'], dtype=object)\n    249         if self._final_estimator is not None:\n    250             self._final_estimator.fit(Xt, y, **fit_params)\n    251         return self\n    252 \n\n...........................................................................\nc:\\users\\kzaytseva\\appdata\\local\\continuum\\anaconda3_new\\envs\\textclass\\lib\\site-packages\\sklearn\\pipeline.py in _fit(self=Pipeline(memory=None,\n     steps=[('vect', Count...(alpha=0.01, class_prior=None, fit_prior=True))]), X=29977     b\n314954    b\n276665    b\n70135     b\n...   b\nName: CATEGORY, Length: 63361, dtype: object, y=array(['b', 'b', 'b', ..., 'e', 'e', 't'], dtype=object), **fit_params={})\n    208                 else:\n    209                     cloned_transformer = clone(transformer)\n    210                 # Fit or load from cache the current transfomer\n    211                 Xt, fitted_transformer = fit_transform_one_cached(\n    212                     cloned_transformer, None, Xt, y,\n--> 213                     **fit_params_steps[name])\n        fit_params_steps = {'clf': {}, 'vect': {}}\n        name = 'vect'\n    214                 # Replace the transformer of the step with the fitted\n    215                 # transformer. This is necessary when loading the transformer\n    216                 # from the cache.\n    217                 self.steps[step_idx] = (name, fitted_transformer)\n\n...........................................................................\nc:\\users\\kzaytseva\\appdata\\local\\continuum\\anaconda3_new\\envs\\textclass\\lib\\site-packages\\sklearn\\externals\\joblib\\memory.py in __call__(self=NotMemorizedFunc(func=<function _fit_transform_one at 0x000000546BBB7F28>), *args=(CountVectorizer(analyzer='word', binary=False, d...\\w+\\\\b',\n        tokenizer=None, vocabulary=None), None, 29977     b\n314954    b\n276665    b\n70135     b\n...   b\nName: CATEGORY, Length: 63361, dtype: object, array(['b', 'b', 'b', ..., 'e', 'e', 't'], dtype=object)), **kwargs={})\n    357     # Should be a light as possible (for speed)\n    358     def __init__(self, func):\n    359         self.func = func\n    360 \n    361     def __call__(self, *args, **kwargs):\n--> 362         return self.func(*args, **kwargs)\n        self.func = <function _fit_transform_one>\n        args = (CountVectorizer(analyzer='word', binary=False, d...\\w+\\\\b',\n        tokenizer=None, vocabulary=None), None, 29977     b\n314954    b\n276665    b\n70135     b\n...   b\nName: CATEGORY, Length: 63361, dtype: object, array(['b', 'b', 'b', ..., 'e', 'e', 't'], dtype=object))\n        kwargs = {}\n    363 \n    364     def call_and_shelve(self, *args, **kwargs):\n    365         return NotMemorizedResult(self.func(*args, **kwargs))\n    366 \n\n...........................................................................\nc:\\users\\kzaytseva\\appdata\\local\\continuum\\anaconda3_new\\envs\\textclass\\lib\\site-packages\\sklearn\\pipeline.py in _fit_transform_one(transformer=CountVectorizer(analyzer='word', binary=False, d...\\w+\\\\b',\n        tokenizer=None, vocabulary=None), weight=None, X=29977     b\n314954    b\n276665    b\n70135     b\n...   b\nName: CATEGORY, Length: 63361, dtype: object, y=array(['b', 'b', 'b', ..., 'e', 'e', 't'], dtype=object), **fit_params={})\n    576 \n    577 \n    578 def _fit_transform_one(transformer, weight, X, y,\n    579                        **fit_params):\n    580     if hasattr(transformer, 'fit_transform'):\n--> 581         res = transformer.fit_transform(X, y, **fit_params)\n        res = undefined\n        transformer.fit_transform = <bound method CountVectorizer.fit_transform of C...w+\\\\b',\n        tokenizer=None, vocabulary=None)>\n        X = 29977     b\n314954    b\n276665    b\n70135     b\n...   b\nName: CATEGORY, Length: 63361, dtype: object\n        y = array(['b', 'b', 'b', ..., 'e', 'e', 't'], dtype=object)\n        fit_params = {}\n    582     else:\n    583         res = transformer.fit(X, y, **fit_params).transform(X)\n    584     # if we have a weight for this transformer, multiply output\n    585     if weight is None:\n\n...........................................................................\nc:\\users\\kzaytseva\\appdata\\local\\continuum\\anaconda3_new\\envs\\textclass\\lib\\site-packages\\sklearn\\feature_extraction\\text.py in fit_transform(self=CountVectorizer(analyzer='word', binary=False, d...\\w+\\\\b',\n        tokenizer=None, vocabulary=None), raw_documents=29977     b\n314954    b\n276665    b\n70135     b\n...   b\nName: CATEGORY, Length: 63361, dtype: object, y=array(['b', 'b', 'b', ..., 'e', 'e', 't'], dtype=object))\n    864         max_df = self.max_df\n    865         min_df = self.min_df\n    866         max_features = self.max_features\n    867 \n    868         vocabulary, X = self._count_vocab(raw_documents,\n--> 869                                           self.fixed_vocabulary_)\n        self.fixed_vocabulary_ = False\n    870 \n    871         if self.binary:\n    872             X.data.fill(1)\n    873 \n\n...........................................................................\nc:\\users\\kzaytseva\\appdata\\local\\continuum\\anaconda3_new\\envs\\textclass\\lib\\site-packages\\sklearn\\feature_extraction\\text.py in _count_vocab(self=CountVectorizer(analyzer='word', binary=False, d...\\w+\\\\b',\n        tokenizer=None, vocabulary=None), raw_documents=29977     b\n314954    b\n276665    b\n70135     b\n...   b\nName: CATEGORY, Length: 63361, dtype: object, fixed_vocab=False)\n    806 \n    807         if not fixed_vocab:\n    808             # disable defaultdict behaviour\n    809             vocabulary = dict(vocabulary)\n    810             if not vocabulary:\n--> 811                 raise ValueError(\"empty vocabulary; perhaps the documents only\"\n    812                                  \" contain stop words\")\n    813 \n    814         j_indices = np.asarray(j_indices, dtype=np.intc)\n    815         indptr = np.frombuffer(indptr, dtype=np.intc)\n\nValueError: empty vocabulary; perhaps the documents only contain stop words\n___________________________________________________________________________\n\"\"\"",
      "\nThe above exception was the direct cause of the following exception:\n",
      "\u001b[1;31mTransportableException\u001b[0m                    Traceback (most recent call last)",
      "\u001b[1;32mc:\\users\\kzaytseva\\appdata\\local\\continuum\\anaconda3_new\\envs\\textclass\\lib\\site-packages\\sklearn\\externals\\joblib\\parallel.py\u001b[0m in \u001b[0;36mretrieve\u001b[1;34m(self)\u001b[0m\n\u001b[0;32m    698\u001b[0m                 \u001b[1;32mif\u001b[0m \u001b[0mgetattr\u001b[0m\u001b[1;33m(\u001b[0m\u001b[0mself\u001b[0m\u001b[1;33m.\u001b[0m\u001b[0m_backend\u001b[0m\u001b[1;33m,\u001b[0m \u001b[1;34m'supports_timeout'\u001b[0m\u001b[1;33m,\u001b[0m \u001b[1;32mFalse\u001b[0m\u001b[1;33m)\u001b[0m\u001b[1;33m:\u001b[0m\u001b[1;33m\u001b[0m\u001b[0m\n\u001b[1;32m--> 699\u001b[1;33m                     \u001b[0mself\u001b[0m\u001b[1;33m.\u001b[0m\u001b[0m_output\u001b[0m\u001b[1;33m.\u001b[0m\u001b[0mextend\u001b[0m\u001b[1;33m(\u001b[0m\u001b[0mjob\u001b[0m\u001b[1;33m.\u001b[0m\u001b[0mget\u001b[0m\u001b[1;33m(\u001b[0m\u001b[0mtimeout\u001b[0m\u001b[1;33m=\u001b[0m\u001b[0mself\u001b[0m\u001b[1;33m.\u001b[0m\u001b[0mtimeout\u001b[0m\u001b[1;33m)\u001b[0m\u001b[1;33m)\u001b[0m\u001b[1;33m\u001b[0m\u001b[0m\n\u001b[0m\u001b[0;32m    700\u001b[0m                 \u001b[1;32melse\u001b[0m\u001b[1;33m:\u001b[0m\u001b[1;33m\u001b[0m\u001b[0m\n",
      "\u001b[1;32mc:\\users\\kzaytseva\\appdata\\local\\continuum\\anaconda3_new\\envs\\textclass\\lib\\multiprocessing\\pool.py\u001b[0m in \u001b[0;36mget\u001b[1;34m(self, timeout)\u001b[0m\n\u001b[0;32m    643\u001b[0m         \u001b[1;32melse\u001b[0m\u001b[1;33m:\u001b[0m\u001b[1;33m\u001b[0m\u001b[0m\n\u001b[1;32m--> 644\u001b[1;33m             \u001b[1;32mraise\u001b[0m \u001b[0mself\u001b[0m\u001b[1;33m.\u001b[0m\u001b[0m_value\u001b[0m\u001b[1;33m\u001b[0m\u001b[0m\n\u001b[0m\u001b[0;32m    645\u001b[0m \u001b[1;33m\u001b[0m\u001b[0m\n",
      "\u001b[1;31mTransportableException\u001b[0m: TransportableException\n___________________________________________________________________________\nValueError                                         Wed Jan 24 12:03:03 2018\nPID: 7464Python 3.5.4: c:\\users\\kzaytseva\\appdata\\local\\continuum\\anaconda3_new\\envs\\textclass\\python.exe\n...........................................................................\nc:\\users\\kzaytseva\\appdata\\local\\continuum\\anaconda3_new\\envs\\textclass\\lib\\site-packages\\sklearn\\externals\\joblib\\parallel.py in __call__(self=<sklearn.externals.joblib.parallel.BatchedCalls object>)\n    126     def __init__(self, iterator_slice):\n    127         self.items = list(iterator_slice)\n    128         self._size = len(self.items)\n    129 \n    130     def __call__(self):\n--> 131         return [func(*args, **kwargs) for func, args, kwargs in self.items]\n        self.items = [(<function _fit_and_score>, (Pipeline(memory=None,\n     steps=[('vect', Count...(alpha=0.01, class_prior=None, fit_prior=True))]), 306187    t\n219070    b\n198293    e\n379529    t\n...   b\nName: CATEGORY, Length: 95044, dtype: object, array(['t', 'e', 'e', ..., 'e', 'e', 't'], dtype=object), {'score': <function _passthrough_scorer>}, array([31457, 31458, 31461, ..., 95041, 95042, 95043]), array([    0,     1,     2, ..., 31951, 31952, 31964]), 0, {'clf__alpha': 0.01, 'vect__ngram_range': (1, 1)}), {'error_score': 'raise', 'fit_params': {}, 'return_n_test_samples': True, 'return_parameters': False, 'return_times': True, 'return_train_score': 'warn'})]\n    132 \n    133     def __len__(self):\n    134         return self._size\n    135 \n\n...........................................................................\nc:\\users\\kzaytseva\\appdata\\local\\continuum\\anaconda3_new\\envs\\textclass\\lib\\site-packages\\sklearn\\externals\\joblib\\parallel.py in <listcomp>(.0=<list_iterator object>)\n    126     def __init__(self, iterator_slice):\n    127         self.items = list(iterator_slice)\n    128         self._size = len(self.items)\n    129 \n    130     def __call__(self):\n--> 131         return [func(*args, **kwargs) for func, args, kwargs in self.items]\n        func = <function _fit_and_score>\n        args = (Pipeline(memory=None,\n     steps=[('vect', Count...(alpha=0.01, class_prior=None, fit_prior=True))]), 306187    t\n219070    b\n198293    e\n379529    t\n...   b\nName: CATEGORY, Length: 95044, dtype: object, array(['t', 'e', 'e', ..., 'e', 'e', 't'], dtype=object), {'score': <function _passthrough_scorer>}, array([31457, 31458, 31461, ..., 95041, 95042, 95043]), array([    0,     1,     2, ..., 31951, 31952, 31964]), 0, {'clf__alpha': 0.01, 'vect__ngram_range': (1, 1)})\n        kwargs = {'error_score': 'raise', 'fit_params': {}, 'return_n_test_samples': True, 'return_parameters': False, 'return_times': True, 'return_train_score': 'warn'}\n    132 \n    133     def __len__(self):\n    134         return self._size\n    135 \n\n...........................................................................\nc:\\users\\kzaytseva\\appdata\\local\\continuum\\anaconda3_new\\envs\\textclass\\lib\\site-packages\\sklearn\\model_selection\\_validation.py in _fit_and_score(estimator=Pipeline(memory=None,\n     steps=[('vect', Count...(alpha=0.01, class_prior=None, fit_prior=True))]), X=306187    t\n219070    b\n198293    e\n379529    t\n...   b\nName: CATEGORY, Length: 95044, dtype: object, y=array(['t', 'e', 'e', ..., 'e', 'e', 't'], dtype=object), scorer={'score': <function _passthrough_scorer>}, train=array([31457, 31458, 31461, ..., 95041, 95042, 95043]), test=array([    0,     1,     2, ..., 31951, 31952, 31964]), verbose=0, parameters={'clf__alpha': 0.01, 'vect__ngram_range': (1, 1)}, fit_params={}, return_train_score='warn', return_parameters=False, return_n_test_samples=True, return_times=True, error_score='raise')\n    453 \n    454     try:\n    455         if y_train is None:\n    456             estimator.fit(X_train, **fit_params)\n    457         else:\n--> 458             estimator.fit(X_train, y_train, **fit_params)\n        estimator.fit = <bound method Pipeline.fit of Pipeline(memory=No...alpha=0.01, class_prior=None, fit_prior=True))])>\n        X_train = 29977     b\n314954    b\n276665    b\n70135     b\n...   b\nName: CATEGORY, Length: 63361, dtype: object\n        y_train = array(['b', 'b', 'b', ..., 'e', 'e', 't'], dtype=object)\n        fit_params = {}\n    459 \n    460     except Exception as e:\n    461         # Note fit time as time until error\n    462         fit_time = time.time() - start_time\n\n...........................................................................\nc:\\users\\kzaytseva\\appdata\\local\\continuum\\anaconda3_new\\envs\\textclass\\lib\\site-packages\\sklearn\\pipeline.py in fit(self=Pipeline(memory=None,\n     steps=[('vect', Count...(alpha=0.01, class_prior=None, fit_prior=True))]), X=29977     b\n314954    b\n276665    b\n70135     b\n...   b\nName: CATEGORY, Length: 63361, dtype: object, y=array(['b', 'b', 'b', ..., 'e', 'e', 't'], dtype=object), **fit_params={})\n    243         Returns\n    244         -------\n    245         self : Pipeline\n    246             This estimator\n    247         \"\"\"\n--> 248         Xt, fit_params = self._fit(X, y, **fit_params)\n        Xt = undefined\n        fit_params = {}\n        self._fit = <bound method Pipeline._fit of Pipeline(memory=N...alpha=0.01, class_prior=None, fit_prior=True))])>\n        X = 29977     b\n314954    b\n276665    b\n70135     b\n...   b\nName: CATEGORY, Length: 63361, dtype: object\n        y = array(['b', 'b', 'b', ..., 'e', 'e', 't'], dtype=object)\n    249         if self._final_estimator is not None:\n    250             self._final_estimator.fit(Xt, y, **fit_params)\n    251         return self\n    252 \n\n...........................................................................\nc:\\users\\kzaytseva\\appdata\\local\\continuum\\anaconda3_new\\envs\\textclass\\lib\\site-packages\\sklearn\\pipeline.py in _fit(self=Pipeline(memory=None,\n     steps=[('vect', Count...(alpha=0.01, class_prior=None, fit_prior=True))]), X=29977     b\n314954    b\n276665    b\n70135     b\n...   b\nName: CATEGORY, Length: 63361, dtype: object, y=array(['b', 'b', 'b', ..., 'e', 'e', 't'], dtype=object), **fit_params={})\n    208                 else:\n    209                     cloned_transformer = clone(transformer)\n    210                 # Fit or load from cache the current transfomer\n    211                 Xt, fitted_transformer = fit_transform_one_cached(\n    212                     cloned_transformer, None, Xt, y,\n--> 213                     **fit_params_steps[name])\n        fit_params_steps = {'clf': {}, 'vect': {}}\n        name = 'vect'\n    214                 # Replace the transformer of the step with the fitted\n    215                 # transformer. This is necessary when loading the transformer\n    216                 # from the cache.\n    217                 self.steps[step_idx] = (name, fitted_transformer)\n\n...........................................................................\nc:\\users\\kzaytseva\\appdata\\local\\continuum\\anaconda3_new\\envs\\textclass\\lib\\site-packages\\sklearn\\externals\\joblib\\memory.py in __call__(self=NotMemorizedFunc(func=<function _fit_transform_one at 0x000000546BBB7F28>), *args=(CountVectorizer(analyzer='word', binary=False, d...\\w+\\\\b',\n        tokenizer=None, vocabulary=None), None, 29977     b\n314954    b\n276665    b\n70135     b\n...   b\nName: CATEGORY, Length: 63361, dtype: object, array(['b', 'b', 'b', ..., 'e', 'e', 't'], dtype=object)), **kwargs={})\n    357     # Should be a light as possible (for speed)\n    358     def __init__(self, func):\n    359         self.func = func\n    360 \n    361     def __call__(self, *args, **kwargs):\n--> 362         return self.func(*args, **kwargs)\n        self.func = <function _fit_transform_one>\n        args = (CountVectorizer(analyzer='word', binary=False, d...\\w+\\\\b',\n        tokenizer=None, vocabulary=None), None, 29977     b\n314954    b\n276665    b\n70135     b\n...   b\nName: CATEGORY, Length: 63361, dtype: object, array(['b', 'b', 'b', ..., 'e', 'e', 't'], dtype=object))\n        kwargs = {}\n    363 \n    364     def call_and_shelve(self, *args, **kwargs):\n    365         return NotMemorizedResult(self.func(*args, **kwargs))\n    366 \n\n...........................................................................\nc:\\users\\kzaytseva\\appdata\\local\\continuum\\anaconda3_new\\envs\\textclass\\lib\\site-packages\\sklearn\\pipeline.py in _fit_transform_one(transformer=CountVectorizer(analyzer='word', binary=False, d...\\w+\\\\b',\n        tokenizer=None, vocabulary=None), weight=None, X=29977     b\n314954    b\n276665    b\n70135     b\n...   b\nName: CATEGORY, Length: 63361, dtype: object, y=array(['b', 'b', 'b', ..., 'e', 'e', 't'], dtype=object), **fit_params={})\n    576 \n    577 \n    578 def _fit_transform_one(transformer, weight, X, y,\n    579                        **fit_params):\n    580     if hasattr(transformer, 'fit_transform'):\n--> 581         res = transformer.fit_transform(X, y, **fit_params)\n        res = undefined\n        transformer.fit_transform = <bound method CountVectorizer.fit_transform of C...w+\\\\b',\n        tokenizer=None, vocabulary=None)>\n        X = 29977     b\n314954    b\n276665    b\n70135     b\n...   b\nName: CATEGORY, Length: 63361, dtype: object\n        y = array(['b', 'b', 'b', ..., 'e', 'e', 't'], dtype=object)\n        fit_params = {}\n    582     else:\n    583         res = transformer.fit(X, y, **fit_params).transform(X)\n    584     # if we have a weight for this transformer, multiply output\n    585     if weight is None:\n\n...........................................................................\nc:\\users\\kzaytseva\\appdata\\local\\continuum\\anaconda3_new\\envs\\textclass\\lib\\site-packages\\sklearn\\feature_extraction\\text.py in fit_transform(self=CountVectorizer(analyzer='word', binary=False, d...\\w+\\\\b',\n        tokenizer=None, vocabulary=None), raw_documents=29977     b\n314954    b\n276665    b\n70135     b\n...   b\nName: CATEGORY, Length: 63361, dtype: object, y=array(['b', 'b', 'b', ..., 'e', 'e', 't'], dtype=object))\n    864         max_df = self.max_df\n    865         min_df = self.min_df\n    866         max_features = self.max_features\n    867 \n    868         vocabulary, X = self._count_vocab(raw_documents,\n--> 869                                           self.fixed_vocabulary_)\n        self.fixed_vocabulary_ = False\n    870 \n    871         if self.binary:\n    872             X.data.fill(1)\n    873 \n\n...........................................................................\nc:\\users\\kzaytseva\\appdata\\local\\continuum\\anaconda3_new\\envs\\textclass\\lib\\site-packages\\sklearn\\feature_extraction\\text.py in _count_vocab(self=CountVectorizer(analyzer='word', binary=False, d...\\w+\\\\b',\n        tokenizer=None, vocabulary=None), raw_documents=29977     b\n314954    b\n276665    b\n70135     b\n...   b\nName: CATEGORY, Length: 63361, dtype: object, fixed_vocab=False)\n    806 \n    807         if not fixed_vocab:\n    808             # disable defaultdict behaviour\n    809             vocabulary = dict(vocabulary)\n    810             if not vocabulary:\n--> 811                 raise ValueError(\"empty vocabulary; perhaps the documents only\"\n    812                                  \" contain stop words\")\n    813 \n    814         j_indices = np.asarray(j_indices, dtype=np.intc)\n    815         indptr = np.frombuffer(indptr, dtype=np.intc)\n\nValueError: empty vocabulary; perhaps the documents only contain stop words\n___________________________________________________________________________",
      "\nDuring handling of the above exception, another exception occurred:\n",
      "\u001b[1;31mJoblibValueError\u001b[0m                          Traceback (most recent call last)",
      "\u001b[1;32m<ipython-input-53-fc8bf5b4c86e>\u001b[0m in \u001b[0;36m<module>\u001b[1;34m()\u001b[0m\n\u001b[0;32m     13\u001b[0m \u001b[1;32mfor\u001b[0m \u001b[0mname\u001b[0m\u001b[1;33m,\u001b[0m \u001b[0mmodel\u001b[0m \u001b[1;32min\u001b[0m \u001b[0mmodels\u001b[0m\u001b[1;33m:\u001b[0m\u001b[1;33m\u001b[0m\u001b[0m\n\u001b[0;32m     14\u001b[0m     \u001b[0mkfold\u001b[0m \u001b[1;33m=\u001b[0m \u001b[0mmodel_selection\u001b[0m\u001b[1;33m.\u001b[0m\u001b[0mKFold\u001b[0m\u001b[1;33m(\u001b[0m\u001b[0mn_splits\u001b[0m\u001b[1;33m=\u001b[0m\u001b[1;36m10\u001b[0m\u001b[1;33m,\u001b[0m \u001b[0mrandom_state\u001b[0m\u001b[1;33m=\u001b[0m\u001b[0mseed\u001b[0m\u001b[1;33m)\u001b[0m\u001b[1;33m\u001b[0m\u001b[0m\n\u001b[1;32m---> 15\u001b[1;33m     \u001b[0mcv_results\u001b[0m \u001b[1;33m=\u001b[0m \u001b[0mmodel_selection\u001b[0m\u001b[1;33m.\u001b[0m\u001b[0mcross_val_score\u001b[0m\u001b[1;33m(\u001b[0m\u001b[0mmodel\u001b[0m\u001b[1;33m,\u001b[0m \u001b[0my_test\u001b[0m\u001b[1;33m,\u001b[0m \u001b[0mpredicted\u001b[0m\u001b[1;33m,\u001b[0m \u001b[0mcv\u001b[0m\u001b[1;33m=\u001b[0m\u001b[0mkfold\u001b[0m\u001b[1;33m,\u001b[0m \u001b[0mscoring\u001b[0m\u001b[1;33m=\u001b[0m\u001b[0mscoring\u001b[0m\u001b[1;33m)\u001b[0m\u001b[1;33m\u001b[0m\u001b[0m\n\u001b[0m\u001b[0;32m     16\u001b[0m     \u001b[0mresults\u001b[0m\u001b[1;33m.\u001b[0m\u001b[0mappend\u001b[0m\u001b[1;33m(\u001b[0m\u001b[0mcv_results\u001b[0m\u001b[1;33m)\u001b[0m\u001b[1;33m\u001b[0m\u001b[0m\n\u001b[0;32m     17\u001b[0m     \u001b[0mnames\u001b[0m\u001b[1;33m.\u001b[0m\u001b[0mappend\u001b[0m\u001b[1;33m(\u001b[0m\u001b[0mname\u001b[0m\u001b[1;33m)\u001b[0m\u001b[1;33m\u001b[0m\u001b[0m\n",
      "\u001b[1;32mc:\\users\\kzaytseva\\appdata\\local\\continuum\\anaconda3_new\\envs\\textclass\\lib\\site-packages\\sklearn\\model_selection\\_validation.py\u001b[0m in \u001b[0;36mcross_val_score\u001b[1;34m(estimator, X, y, groups, scoring, cv, n_jobs, verbose, fit_params, pre_dispatch)\u001b[0m\n\u001b[0;32m    340\u001b[0m                                 \u001b[0mn_jobs\u001b[0m\u001b[1;33m=\u001b[0m\u001b[0mn_jobs\u001b[0m\u001b[1;33m,\u001b[0m \u001b[0mverbose\u001b[0m\u001b[1;33m=\u001b[0m\u001b[0mverbose\u001b[0m\u001b[1;33m,\u001b[0m\u001b[1;33m\u001b[0m\u001b[0m\n\u001b[0;32m    341\u001b[0m                                 \u001b[0mfit_params\u001b[0m\u001b[1;33m=\u001b[0m\u001b[0mfit_params\u001b[0m\u001b[1;33m,\u001b[0m\u001b[1;33m\u001b[0m\u001b[0m\n\u001b[1;32m--> 342\u001b[1;33m                                 pre_dispatch=pre_dispatch)\n\u001b[0m\u001b[0;32m    343\u001b[0m     \u001b[1;32mreturn\u001b[0m \u001b[0mcv_results\u001b[0m\u001b[1;33m[\u001b[0m\u001b[1;34m'test_score'\u001b[0m\u001b[1;33m]\u001b[0m\u001b[1;33m\u001b[0m\u001b[0m\n\u001b[0;32m    344\u001b[0m \u001b[1;33m\u001b[0m\u001b[0m\n",
      "\u001b[1;32mc:\\users\\kzaytseva\\appdata\\local\\continuum\\anaconda3_new\\envs\\textclass\\lib\\site-packages\\sklearn\\model_selection\\_validation.py\u001b[0m in \u001b[0;36mcross_validate\u001b[1;34m(estimator, X, y, groups, scoring, cv, n_jobs, verbose, fit_params, pre_dispatch, return_train_score)\u001b[0m\n\u001b[0;32m    204\u001b[0m             \u001b[0mfit_params\u001b[0m\u001b[1;33m,\u001b[0m \u001b[0mreturn_train_score\u001b[0m\u001b[1;33m=\u001b[0m\u001b[0mreturn_train_score\u001b[0m\u001b[1;33m,\u001b[0m\u001b[1;33m\u001b[0m\u001b[0m\n\u001b[0;32m    205\u001b[0m             return_times=True)\n\u001b[1;32m--> 206\u001b[1;33m         for train, test in cv.split(X, y, groups))\n\u001b[0m\u001b[0;32m    207\u001b[0m \u001b[1;33m\u001b[0m\u001b[0m\n\u001b[0;32m    208\u001b[0m     \u001b[1;32mif\u001b[0m \u001b[0mreturn_train_score\u001b[0m\u001b[1;33m:\u001b[0m\u001b[1;33m\u001b[0m\u001b[0m\n",
      "\u001b[1;32mc:\\users\\kzaytseva\\appdata\\local\\continuum\\anaconda3_new\\envs\\textclass\\lib\\site-packages\\sklearn\\externals\\joblib\\parallel.py\u001b[0m in \u001b[0;36m__call__\u001b[1;34m(self, iterable)\u001b[0m\n\u001b[0;32m    777\u001b[0m             \u001b[1;31m# was dispatched. In particular this covers the edge\u001b[0m\u001b[1;33m\u001b[0m\u001b[1;33m\u001b[0m\u001b[0m\n\u001b[0;32m    778\u001b[0m             \u001b[1;31m# case of Parallel used with an exhausted iterator.\u001b[0m\u001b[1;33m\u001b[0m\u001b[1;33m\u001b[0m\u001b[0m\n\u001b[1;32m--> 779\u001b[1;33m             \u001b[1;32mwhile\u001b[0m \u001b[0mself\u001b[0m\u001b[1;33m.\u001b[0m\u001b[0mdispatch_one_batch\u001b[0m\u001b[1;33m(\u001b[0m\u001b[0miterator\u001b[0m\u001b[1;33m)\u001b[0m\u001b[1;33m:\u001b[0m\u001b[1;33m\u001b[0m\u001b[0m\n\u001b[0m\u001b[0;32m    780\u001b[0m                 \u001b[0mself\u001b[0m\u001b[1;33m.\u001b[0m\u001b[0m_iterating\u001b[0m \u001b[1;33m=\u001b[0m \u001b[1;32mTrue\u001b[0m\u001b[1;33m\u001b[0m\u001b[0m\n\u001b[0;32m    781\u001b[0m             \u001b[1;32melse\u001b[0m\u001b[1;33m:\u001b[0m\u001b[1;33m\u001b[0m\u001b[0m\n",
      "\u001b[1;32mc:\\users\\kzaytseva\\appdata\\local\\continuum\\anaconda3_new\\envs\\textclass\\lib\\site-packages\\sklearn\\externals\\joblib\\parallel.py\u001b[0m in \u001b[0;36mdispatch_one_batch\u001b[1;34m(self, iterator)\u001b[0m\n\u001b[0;32m    623\u001b[0m                 \u001b[1;32mreturn\u001b[0m \u001b[1;32mFalse\u001b[0m\u001b[1;33m\u001b[0m\u001b[0m\n\u001b[0;32m    624\u001b[0m             \u001b[1;32melse\u001b[0m\u001b[1;33m:\u001b[0m\u001b[1;33m\u001b[0m\u001b[0m\n\u001b[1;32m--> 625\u001b[1;33m                 \u001b[0mself\u001b[0m\u001b[1;33m.\u001b[0m\u001b[0m_dispatch\u001b[0m\u001b[1;33m(\u001b[0m\u001b[0mtasks\u001b[0m\u001b[1;33m)\u001b[0m\u001b[1;33m\u001b[0m\u001b[0m\n\u001b[0m\u001b[0;32m    626\u001b[0m                 \u001b[1;32mreturn\u001b[0m \u001b[1;32mTrue\u001b[0m\u001b[1;33m\u001b[0m\u001b[0m\n\u001b[0;32m    627\u001b[0m \u001b[1;33m\u001b[0m\u001b[0m\n",
      "\u001b[1;32mc:\\users\\kzaytseva\\appdata\\local\\continuum\\anaconda3_new\\envs\\textclass\\lib\\site-packages\\sklearn\\externals\\joblib\\parallel.py\u001b[0m in \u001b[0;36m_dispatch\u001b[1;34m(self, batch)\u001b[0m\n\u001b[0;32m    586\u001b[0m         \u001b[0mdispatch_timestamp\u001b[0m \u001b[1;33m=\u001b[0m \u001b[0mtime\u001b[0m\u001b[1;33m.\u001b[0m\u001b[0mtime\u001b[0m\u001b[1;33m(\u001b[0m\u001b[1;33m)\u001b[0m\u001b[1;33m\u001b[0m\u001b[0m\n\u001b[0;32m    587\u001b[0m         \u001b[0mcb\u001b[0m \u001b[1;33m=\u001b[0m \u001b[0mBatchCompletionCallBack\u001b[0m\u001b[1;33m(\u001b[0m\u001b[0mdispatch_timestamp\u001b[0m\u001b[1;33m,\u001b[0m \u001b[0mlen\u001b[0m\u001b[1;33m(\u001b[0m\u001b[0mbatch\u001b[0m\u001b[1;33m)\u001b[0m\u001b[1;33m,\u001b[0m \u001b[0mself\u001b[0m\u001b[1;33m)\u001b[0m\u001b[1;33m\u001b[0m\u001b[0m\n\u001b[1;32m--> 588\u001b[1;33m         \u001b[0mjob\u001b[0m \u001b[1;33m=\u001b[0m \u001b[0mself\u001b[0m\u001b[1;33m.\u001b[0m\u001b[0m_backend\u001b[0m\u001b[1;33m.\u001b[0m\u001b[0mapply_async\u001b[0m\u001b[1;33m(\u001b[0m\u001b[0mbatch\u001b[0m\u001b[1;33m,\u001b[0m \u001b[0mcallback\u001b[0m\u001b[1;33m=\u001b[0m\u001b[0mcb\u001b[0m\u001b[1;33m)\u001b[0m\u001b[1;33m\u001b[0m\u001b[0m\n\u001b[0m\u001b[0;32m    589\u001b[0m         \u001b[0mself\u001b[0m\u001b[1;33m.\u001b[0m\u001b[0m_jobs\u001b[0m\u001b[1;33m.\u001b[0m\u001b[0mappend\u001b[0m\u001b[1;33m(\u001b[0m\u001b[0mjob\u001b[0m\u001b[1;33m)\u001b[0m\u001b[1;33m\u001b[0m\u001b[0m\n\u001b[0;32m    590\u001b[0m \u001b[1;33m\u001b[0m\u001b[0m\n",
      "\u001b[1;32mc:\\users\\kzaytseva\\appdata\\local\\continuum\\anaconda3_new\\envs\\textclass\\lib\\site-packages\\sklearn\\externals\\joblib\\_parallel_backends.py\u001b[0m in \u001b[0;36mapply_async\u001b[1;34m(self, func, callback)\u001b[0m\n\u001b[0;32m    109\u001b[0m     \u001b[1;32mdef\u001b[0m \u001b[0mapply_async\u001b[0m\u001b[1;33m(\u001b[0m\u001b[0mself\u001b[0m\u001b[1;33m,\u001b[0m \u001b[0mfunc\u001b[0m\u001b[1;33m,\u001b[0m \u001b[0mcallback\u001b[0m\u001b[1;33m=\u001b[0m\u001b[1;32mNone\u001b[0m\u001b[1;33m)\u001b[0m\u001b[1;33m:\u001b[0m\u001b[1;33m\u001b[0m\u001b[0m\n\u001b[0;32m    110\u001b[0m         \u001b[1;34m\"\"\"Schedule a func to be run\"\"\"\u001b[0m\u001b[1;33m\u001b[0m\u001b[0m\n\u001b[1;32m--> 111\u001b[1;33m         \u001b[0mresult\u001b[0m \u001b[1;33m=\u001b[0m \u001b[0mImmediateResult\u001b[0m\u001b[1;33m(\u001b[0m\u001b[0mfunc\u001b[0m\u001b[1;33m)\u001b[0m\u001b[1;33m\u001b[0m\u001b[0m\n\u001b[0m\u001b[0;32m    112\u001b[0m         \u001b[1;32mif\u001b[0m \u001b[0mcallback\u001b[0m\u001b[1;33m:\u001b[0m\u001b[1;33m\u001b[0m\u001b[0m\n\u001b[0;32m    113\u001b[0m             \u001b[0mcallback\u001b[0m\u001b[1;33m(\u001b[0m\u001b[0mresult\u001b[0m\u001b[1;33m)\u001b[0m\u001b[1;33m\u001b[0m\u001b[0m\n",
      "\u001b[1;32mc:\\users\\kzaytseva\\appdata\\local\\continuum\\anaconda3_new\\envs\\textclass\\lib\\site-packages\\sklearn\\externals\\joblib\\_parallel_backends.py\u001b[0m in \u001b[0;36m__init__\u001b[1;34m(self, batch)\u001b[0m\n\u001b[0;32m    330\u001b[0m         \u001b[1;31m# Don't delay the application, to avoid keeping the input\u001b[0m\u001b[1;33m\u001b[0m\u001b[1;33m\u001b[0m\u001b[0m\n\u001b[0;32m    331\u001b[0m         \u001b[1;31m# arguments in memory\u001b[0m\u001b[1;33m\u001b[0m\u001b[1;33m\u001b[0m\u001b[0m\n\u001b[1;32m--> 332\u001b[1;33m         \u001b[0mself\u001b[0m\u001b[1;33m.\u001b[0m\u001b[0mresults\u001b[0m \u001b[1;33m=\u001b[0m \u001b[0mbatch\u001b[0m\u001b[1;33m(\u001b[0m\u001b[1;33m)\u001b[0m\u001b[1;33m\u001b[0m\u001b[0m\n\u001b[0m\u001b[0;32m    333\u001b[0m \u001b[1;33m\u001b[0m\u001b[0m\n\u001b[0;32m    334\u001b[0m     \u001b[1;32mdef\u001b[0m \u001b[0mget\u001b[0m\u001b[1;33m(\u001b[0m\u001b[0mself\u001b[0m\u001b[1;33m)\u001b[0m\u001b[1;33m:\u001b[0m\u001b[1;33m\u001b[0m\u001b[0m\n",
      "\u001b[1;32mc:\\users\\kzaytseva\\appdata\\local\\continuum\\anaconda3_new\\envs\\textclass\\lib\\site-packages\\sklearn\\externals\\joblib\\parallel.py\u001b[0m in \u001b[0;36m__call__\u001b[1;34m(self)\u001b[0m\n\u001b[0;32m    129\u001b[0m \u001b[1;33m\u001b[0m\u001b[0m\n\u001b[0;32m    130\u001b[0m     \u001b[1;32mdef\u001b[0m \u001b[0m__call__\u001b[0m\u001b[1;33m(\u001b[0m\u001b[0mself\u001b[0m\u001b[1;33m)\u001b[0m\u001b[1;33m:\u001b[0m\u001b[1;33m\u001b[0m\u001b[0m\n\u001b[1;32m--> 131\u001b[1;33m         \u001b[1;32mreturn\u001b[0m \u001b[1;33m[\u001b[0m\u001b[0mfunc\u001b[0m\u001b[1;33m(\u001b[0m\u001b[1;33m*\u001b[0m\u001b[0margs\u001b[0m\u001b[1;33m,\u001b[0m \u001b[1;33m**\u001b[0m\u001b[0mkwargs\u001b[0m\u001b[1;33m)\u001b[0m \u001b[1;32mfor\u001b[0m \u001b[0mfunc\u001b[0m\u001b[1;33m,\u001b[0m \u001b[0margs\u001b[0m\u001b[1;33m,\u001b[0m \u001b[0mkwargs\u001b[0m \u001b[1;32min\u001b[0m \u001b[0mself\u001b[0m\u001b[1;33m.\u001b[0m\u001b[0mitems\u001b[0m\u001b[1;33m]\u001b[0m\u001b[1;33m\u001b[0m\u001b[0m\n\u001b[0m\u001b[0;32m    132\u001b[0m \u001b[1;33m\u001b[0m\u001b[0m\n\u001b[0;32m    133\u001b[0m     \u001b[1;32mdef\u001b[0m \u001b[0m__len__\u001b[0m\u001b[1;33m(\u001b[0m\u001b[0mself\u001b[0m\u001b[1;33m)\u001b[0m\u001b[1;33m:\u001b[0m\u001b[1;33m\u001b[0m\u001b[0m\n",
      "\u001b[1;32mc:\\users\\kzaytseva\\appdata\\local\\continuum\\anaconda3_new\\envs\\textclass\\lib\\site-packages\\sklearn\\externals\\joblib\\parallel.py\u001b[0m in \u001b[0;36m<listcomp>\u001b[1;34m(.0)\u001b[0m\n\u001b[0;32m    129\u001b[0m \u001b[1;33m\u001b[0m\u001b[0m\n\u001b[0;32m    130\u001b[0m     \u001b[1;32mdef\u001b[0m \u001b[0m__call__\u001b[0m\u001b[1;33m(\u001b[0m\u001b[0mself\u001b[0m\u001b[1;33m)\u001b[0m\u001b[1;33m:\u001b[0m\u001b[1;33m\u001b[0m\u001b[0m\n\u001b[1;32m--> 131\u001b[1;33m         \u001b[1;32mreturn\u001b[0m \u001b[1;33m[\u001b[0m\u001b[0mfunc\u001b[0m\u001b[1;33m(\u001b[0m\u001b[1;33m*\u001b[0m\u001b[0margs\u001b[0m\u001b[1;33m,\u001b[0m \u001b[1;33m**\u001b[0m\u001b[0mkwargs\u001b[0m\u001b[1;33m)\u001b[0m \u001b[1;32mfor\u001b[0m \u001b[0mfunc\u001b[0m\u001b[1;33m,\u001b[0m \u001b[0margs\u001b[0m\u001b[1;33m,\u001b[0m \u001b[0mkwargs\u001b[0m \u001b[1;32min\u001b[0m \u001b[0mself\u001b[0m\u001b[1;33m.\u001b[0m\u001b[0mitems\u001b[0m\u001b[1;33m]\u001b[0m\u001b[1;33m\u001b[0m\u001b[0m\n\u001b[0m\u001b[0;32m    132\u001b[0m \u001b[1;33m\u001b[0m\u001b[0m\n\u001b[0;32m    133\u001b[0m     \u001b[1;32mdef\u001b[0m \u001b[0m__len__\u001b[0m\u001b[1;33m(\u001b[0m\u001b[0mself\u001b[0m\u001b[1;33m)\u001b[0m\u001b[1;33m:\u001b[0m\u001b[1;33m\u001b[0m\u001b[0m\n",
      "\u001b[1;32mc:\\users\\kzaytseva\\appdata\\local\\continuum\\anaconda3_new\\envs\\textclass\\lib\\site-packages\\sklearn\\model_selection\\_validation.py\u001b[0m in \u001b[0;36m_fit_and_score\u001b[1;34m(estimator, X, y, scorer, train, test, verbose, parameters, fit_params, return_train_score, return_parameters, return_n_test_samples, return_times, error_score)\u001b[0m\n\u001b[0;32m    456\u001b[0m             \u001b[0mestimator\u001b[0m\u001b[1;33m.\u001b[0m\u001b[0mfit\u001b[0m\u001b[1;33m(\u001b[0m\u001b[0mX_train\u001b[0m\u001b[1;33m,\u001b[0m \u001b[1;33m**\u001b[0m\u001b[0mfit_params\u001b[0m\u001b[1;33m)\u001b[0m\u001b[1;33m\u001b[0m\u001b[0m\n\u001b[0;32m    457\u001b[0m         \u001b[1;32melse\u001b[0m\u001b[1;33m:\u001b[0m\u001b[1;33m\u001b[0m\u001b[0m\n\u001b[1;32m--> 458\u001b[1;33m             \u001b[0mestimator\u001b[0m\u001b[1;33m.\u001b[0m\u001b[0mfit\u001b[0m\u001b[1;33m(\u001b[0m\u001b[0mX_train\u001b[0m\u001b[1;33m,\u001b[0m \u001b[0my_train\u001b[0m\u001b[1;33m,\u001b[0m \u001b[1;33m**\u001b[0m\u001b[0mfit_params\u001b[0m\u001b[1;33m)\u001b[0m\u001b[1;33m\u001b[0m\u001b[0m\n\u001b[0m\u001b[0;32m    459\u001b[0m \u001b[1;33m\u001b[0m\u001b[0m\n\u001b[0;32m    460\u001b[0m     \u001b[1;32mexcept\u001b[0m \u001b[0mException\u001b[0m \u001b[1;32mas\u001b[0m \u001b[0me\u001b[0m\u001b[1;33m:\u001b[0m\u001b[1;33m\u001b[0m\u001b[0m\n",
      "\u001b[1;32mc:\\users\\kzaytseva\\appdata\\local\\continuum\\anaconda3_new\\envs\\textclass\\lib\\site-packages\\sklearn\\model_selection\\_search.py\u001b[0m in \u001b[0;36mfit\u001b[1;34m(self, X, y, groups, **fit_params)\u001b[0m\n\u001b[0;32m    637\u001b[0m                                   error_score=self.error_score)\n\u001b[0;32m    638\u001b[0m           for parameters, (train, test) in product(candidate_params,\n\u001b[1;32m--> 639\u001b[1;33m                                                    cv.split(X, y, groups)))\n\u001b[0m\u001b[0;32m    640\u001b[0m \u001b[1;33m\u001b[0m\u001b[0m\n\u001b[0;32m    641\u001b[0m         \u001b[1;31m# if one choose to see train score, \"out\" will contain train score info\u001b[0m\u001b[1;33m\u001b[0m\u001b[1;33m\u001b[0m\u001b[0m\n",
      "\u001b[1;32mc:\\users\\kzaytseva\\appdata\\local\\continuum\\anaconda3_new\\envs\\textclass\\lib\\site-packages\\sklearn\\externals\\joblib\\parallel.py\u001b[0m in \u001b[0;36m__call__\u001b[1;34m(self, iterable)\u001b[0m\n\u001b[0;32m    787\u001b[0m                 \u001b[1;31m# consumption.\u001b[0m\u001b[1;33m\u001b[0m\u001b[1;33m\u001b[0m\u001b[0m\n\u001b[0;32m    788\u001b[0m                 \u001b[0mself\u001b[0m\u001b[1;33m.\u001b[0m\u001b[0m_iterating\u001b[0m \u001b[1;33m=\u001b[0m \u001b[1;32mFalse\u001b[0m\u001b[1;33m\u001b[0m\u001b[0m\n\u001b[1;32m--> 789\u001b[1;33m             \u001b[0mself\u001b[0m\u001b[1;33m.\u001b[0m\u001b[0mretrieve\u001b[0m\u001b[1;33m(\u001b[0m\u001b[1;33m)\u001b[0m\u001b[1;33m\u001b[0m\u001b[0m\n\u001b[0m\u001b[0;32m    790\u001b[0m             \u001b[1;31m# Make sure that we get a last message telling us we are done\u001b[0m\u001b[1;33m\u001b[0m\u001b[1;33m\u001b[0m\u001b[0m\n\u001b[0;32m    791\u001b[0m             \u001b[0melapsed_time\u001b[0m \u001b[1;33m=\u001b[0m \u001b[0mtime\u001b[0m\u001b[1;33m.\u001b[0m\u001b[0mtime\u001b[0m\u001b[1;33m(\u001b[0m\u001b[1;33m)\u001b[0m \u001b[1;33m-\u001b[0m \u001b[0mself\u001b[0m\u001b[1;33m.\u001b[0m\u001b[0m_start_time\u001b[0m\u001b[1;33m\u001b[0m\u001b[0m\n",
      "\u001b[1;32mc:\\users\\kzaytseva\\appdata\\local\\continuum\\anaconda3_new\\envs\\textclass\\lib\\site-packages\\sklearn\\externals\\joblib\\parallel.py\u001b[0m in \u001b[0;36mretrieve\u001b[1;34m(self)\u001b[0m\n\u001b[0;32m    738\u001b[0m                     \u001b[0mexception\u001b[0m \u001b[1;33m=\u001b[0m \u001b[0mexception_type\u001b[0m\u001b[1;33m(\u001b[0m\u001b[0mreport\u001b[0m\u001b[1;33m)\u001b[0m\u001b[1;33m\u001b[0m\u001b[0m\n\u001b[0;32m    739\u001b[0m \u001b[1;33m\u001b[0m\u001b[0m\n\u001b[1;32m--> 740\u001b[1;33m                     \u001b[1;32mraise\u001b[0m \u001b[0mexception\u001b[0m\u001b[1;33m\u001b[0m\u001b[0m\n\u001b[0m\u001b[0;32m    741\u001b[0m \u001b[1;33m\u001b[0m\u001b[0m\n\u001b[0;32m    742\u001b[0m     \u001b[1;32mdef\u001b[0m \u001b[0m__call__\u001b[0m\u001b[1;33m(\u001b[0m\u001b[0mself\u001b[0m\u001b[1;33m,\u001b[0m \u001b[0miterable\u001b[0m\u001b[1;33m)\u001b[0m\u001b[1;33m:\u001b[0m\u001b[1;33m\u001b[0m\u001b[0m\n",
      "\u001b[1;31mJoblibValueError\u001b[0m: JoblibValueError\n___________________________________________________________________________\nMultiprocessing exception:\n...........................................................................\nc:\\users\\kzaytseva\\appdata\\local\\continuum\\anaconda3_new\\envs\\textclass\\lib\\runpy.py in _run_module_as_main(mod_name='ipykernel_launcher', alter_argv=1)\n    188         sys.exit(msg)\n    189     main_globals = sys.modules[\"__main__\"].__dict__\n    190     if alter_argv:\n    191         sys.argv[0] = mod_spec.origin\n    192     return _run_code(code, main_globals, None,\n--> 193                      \"__main__\", mod_spec)\n        mod_spec = ModuleSpec(name='ipykernel_launcher', loader=<_f...lass\\\\lib\\\\site-packages\\\\ipykernel_launcher.py')\n    194 \n    195 def run_module(mod_name, init_globals=None,\n    196                run_name=None, alter_sys=False):\n    197     \"\"\"Execute a module's code without importing it\n\n...........................................................................\nc:\\users\\kzaytseva\\appdata\\local\\continuum\\anaconda3_new\\envs\\textclass\\lib\\runpy.py in _run_code(code=<code object <module> at 0x00000096D19B4A50, fil...lib\\site-packages\\ipykernel_launcher.py\", line 5>, run_globals={'__builtins__': <module 'builtins' (built-in)>, '__cached__': r'c:\\users\\kzaytseva\\appdata\\local\\continuum\\anaco...ges\\__pycache__\\ipykernel_launcher.cpython-35.pyc', '__doc__': 'Entry point for launching an IPython kernel.\\n\\nTh...orts until\\nafter removing the cwd from sys.path.\\n', '__file__': r'c:\\users\\kzaytseva\\appdata\\local\\continuum\\anaco...textclass\\lib\\site-packages\\ipykernel_launcher.py', '__loader__': <_frozen_importlib_external.SourceFileLoader object>, '__name__': '__main__', '__package__': '', '__spec__': ModuleSpec(name='ipykernel_launcher', loader=<_f...lass\\\\lib\\\\site-packages\\\\ipykernel_launcher.py'), 'app': <module 'ipykernel.kernelapp' from 'c:\\\\users\\\\k...ss\\\\lib\\\\site-packages\\\\ipykernel\\\\kernelapp.py'>, 'sys': <module 'sys' (built-in)>}, init_globals=None, mod_name='__main__', mod_spec=ModuleSpec(name='ipykernel_launcher', loader=<_f...lass\\\\lib\\\\site-packages\\\\ipykernel_launcher.py'), pkg_name='', script_name=None)\n     80                        __cached__ = cached,\n     81                        __doc__ = None,\n     82                        __loader__ = loader,\n     83                        __package__ = pkg_name,\n     84                        __spec__ = mod_spec)\n---> 85     exec(code, run_globals)\n        code = <code object <module> at 0x00000096D19B4A50, fil...lib\\site-packages\\ipykernel_launcher.py\", line 5>\n        run_globals = {'__builtins__': <module 'builtins' (built-in)>, '__cached__': r'c:\\users\\kzaytseva\\appdata\\local\\continuum\\anaco...ges\\__pycache__\\ipykernel_launcher.cpython-35.pyc', '__doc__': 'Entry point for launching an IPython kernel.\\n\\nTh...orts until\\nafter removing the cwd from sys.path.\\n', '__file__': r'c:\\users\\kzaytseva\\appdata\\local\\continuum\\anaco...textclass\\lib\\site-packages\\ipykernel_launcher.py', '__loader__': <_frozen_importlib_external.SourceFileLoader object>, '__name__': '__main__', '__package__': '', '__spec__': ModuleSpec(name='ipykernel_launcher', loader=<_f...lass\\\\lib\\\\site-packages\\\\ipykernel_launcher.py'), 'app': <module 'ipykernel.kernelapp' from 'c:\\\\users\\\\k...ss\\\\lib\\\\site-packages\\\\ipykernel\\\\kernelapp.py'>, 'sys': <module 'sys' (built-in)>}\n     86     return run_globals\n     87 \n     88 def _run_module_code(code, init_globals=None,\n     89                     mod_name=None, mod_spec=None,\n\n...........................................................................\nc:\\users\\kzaytseva\\appdata\\local\\continuum\\anaconda3_new\\envs\\textclass\\lib\\site-packages\\ipykernel_launcher.py in <module>()\n     11     # This is added back by InteractiveShellApp.init_path()\n     12     if sys.path[0] == '':\n     13         del sys.path[0]\n     14 \n     15     from ipykernel import kernelapp as app\n---> 16     app.launch_new_instance()\n\n...........................................................................\nc:\\users\\kzaytseva\\appdata\\local\\continuum\\anaconda3_new\\envs\\textclass\\lib\\site-packages\\traitlets\\config\\application.py in launch_instance(cls=<class 'ipykernel.kernelapp.IPKernelApp'>, argv=None, **kwargs={})\n    653 \n    654         If a global instance already exists, this reinitializes and starts it\n    655         \"\"\"\n    656         app = cls.instance(**kwargs)\n    657         app.initialize(argv)\n--> 658         app.start()\n        app.start = <bound method IPKernelApp.start of <ipykernel.kernelapp.IPKernelApp object>>\n    659 \n    660 #-----------------------------------------------------------------------------\n    661 # utility functions, for convenience\n    662 #-----------------------------------------------------------------------------\n\n...........................................................................\nc:\\users\\kzaytseva\\appdata\\local\\continuum\\anaconda3_new\\envs\\textclass\\lib\\site-packages\\ipykernel\\kernelapp.py in start(self=<ipykernel.kernelapp.IPKernelApp object>)\n    473         if self.poller is not None:\n    474             self.poller.start()\n    475         self.kernel.start()\n    476         self.io_loop = ioloop.IOLoop.current()\n    477         try:\n--> 478             self.io_loop.start()\n        self.io_loop.start = <bound method ZMQIOLoop.start of <zmq.eventloop.ioloop.ZMQIOLoop object>>\n    479         except KeyboardInterrupt:\n    480             pass\n    481 \n    482 launch_new_instance = IPKernelApp.launch_instance\n\n...........................................................................\nc:\\users\\kzaytseva\\appdata\\local\\continuum\\anaconda3_new\\envs\\textclass\\lib\\site-packages\\zmq\\eventloop\\ioloop.py in start(self=<zmq.eventloop.ioloop.ZMQIOLoop object>)\n    172             )\n    173         return loop\n    174     \n    175     def start(self):\n    176         try:\n--> 177             super(ZMQIOLoop, self).start()\n        self.start = <bound method ZMQIOLoop.start of <zmq.eventloop.ioloop.ZMQIOLoop object>>\n    178         except ZMQError as e:\n    179             if e.errno == ETERM:\n    180                 # quietly return on ETERM\n    181                 pass\n\n...........................................................................\nc:\\users\\kzaytseva\\appdata\\local\\continuum\\anaconda3_new\\envs\\textclass\\lib\\site-packages\\tornado\\ioloop.py in start(self=<zmq.eventloop.ioloop.ZMQIOLoop object>)\n    883                 self._events.update(event_pairs)\n    884                 while self._events:\n    885                     fd, events = self._events.popitem()\n    886                     try:\n    887                         fd_obj, handler_func = self._handlers[fd]\n--> 888                         handler_func(fd_obj, events)\n        handler_func = <function wrap.<locals>.null_wrapper>\n        fd_obj = <zmq.sugar.socket.Socket object>\n        events = 1\n    889                     except (OSError, IOError) as e:\n    890                         if errno_from_exception(e) == errno.EPIPE:\n    891                             # Happens when the client closes the connection\n    892                             pass\n\n...........................................................................\nc:\\users\\kzaytseva\\appdata\\local\\continuum\\anaconda3_new\\envs\\textclass\\lib\\site-packages\\tornado\\stack_context.py in null_wrapper(*args=(<zmq.sugar.socket.Socket object>, 1), **kwargs={})\n    272         # Fast path when there are no active contexts.\n    273         def null_wrapper(*args, **kwargs):\n    274             try:\n    275                 current_state = _state.contexts\n    276                 _state.contexts = cap_contexts[0]\n--> 277                 return fn(*args, **kwargs)\n        args = (<zmq.sugar.socket.Socket object>, 1)\n        kwargs = {}\n    278             finally:\n    279                 _state.contexts = current_state\n    280         null_wrapper._wrapped = True\n    281         return null_wrapper\n\n...........................................................................\nc:\\users\\kzaytseva\\appdata\\local\\continuum\\anaconda3_new\\envs\\textclass\\lib\\site-packages\\zmq\\eventloop\\zmqstream.py in _handle_events(self=<zmq.eventloop.zmqstream.ZMQStream object>, fd=<zmq.sugar.socket.Socket object>, events=1)\n    435             # dispatch events:\n    436             if events & IOLoop.ERROR:\n    437                 gen_log.error(\"got POLLERR event on ZMQStream, which doesn't make sense\")\n    438                 return\n    439             if events & IOLoop.READ:\n--> 440                 self._handle_recv()\n        self._handle_recv = <bound method ZMQStream._handle_recv of <zmq.eventloop.zmqstream.ZMQStream object>>\n    441                 if not self.socket:\n    442                     return\n    443             if events & IOLoop.WRITE:\n    444                 self._handle_send()\n\n...........................................................................\nc:\\users\\kzaytseva\\appdata\\local\\continuum\\anaconda3_new\\envs\\textclass\\lib\\site-packages\\zmq\\eventloop\\zmqstream.py in _handle_recv(self=<zmq.eventloop.zmqstream.ZMQStream object>)\n    467                 gen_log.error(\"RECV Error: %s\"%zmq.strerror(e.errno))\n    468         else:\n    469             if self._recv_callback:\n    470                 callback = self._recv_callback\n    471                 # self._recv_callback = None\n--> 472                 self._run_callback(callback, msg)\n        self._run_callback = <bound method ZMQStream._run_callback of <zmq.eventloop.zmqstream.ZMQStream object>>\n        callback = <function wrap.<locals>.null_wrapper>\n        msg = [<zmq.sugar.frame.Frame object>, <zmq.sugar.frame.Frame object>, <zmq.sugar.frame.Frame object>, <zmq.sugar.frame.Frame object>, <zmq.sugar.frame.Frame object>, <zmq.sugar.frame.Frame object>, <zmq.sugar.frame.Frame object>]\n    473                 \n    474         # self.update_state()\n    475         \n    476 \n\n...........................................................................\nc:\\users\\kzaytseva\\appdata\\local\\continuum\\anaconda3_new\\envs\\textclass\\lib\\site-packages\\zmq\\eventloop\\zmqstream.py in _run_callback(self=<zmq.eventloop.zmqstream.ZMQStream object>, callback=<function wrap.<locals>.null_wrapper>, *args=([<zmq.sugar.frame.Frame object>, <zmq.sugar.frame.Frame object>, <zmq.sugar.frame.Frame object>, <zmq.sugar.frame.Frame object>, <zmq.sugar.frame.Frame object>, <zmq.sugar.frame.Frame object>, <zmq.sugar.frame.Frame object>],), **kwargs={})\n    409         close our socket.\"\"\"\n    410         try:\n    411             # Use a NullContext to ensure that all StackContexts are run\n    412             # inside our blanket exception handler rather than outside.\n    413             with stack_context.NullContext():\n--> 414                 callback(*args, **kwargs)\n        callback = <function wrap.<locals>.null_wrapper>\n        args = ([<zmq.sugar.frame.Frame object>, <zmq.sugar.frame.Frame object>, <zmq.sugar.frame.Frame object>, <zmq.sugar.frame.Frame object>, <zmq.sugar.frame.Frame object>, <zmq.sugar.frame.Frame object>, <zmq.sugar.frame.Frame object>],)\n        kwargs = {}\n    415         except:\n    416             gen_log.error(\"Uncaught exception, closing connection.\",\n    417                           exc_info=True)\n    418             # Close the socket on an uncaught exception from a user callback\n\n...........................................................................\nc:\\users\\kzaytseva\\appdata\\local\\continuum\\anaconda3_new\\envs\\textclass\\lib\\site-packages\\tornado\\stack_context.py in null_wrapper(*args=([<zmq.sugar.frame.Frame object>, <zmq.sugar.frame.Frame object>, <zmq.sugar.frame.Frame object>, <zmq.sugar.frame.Frame object>, <zmq.sugar.frame.Frame object>, <zmq.sugar.frame.Frame object>, <zmq.sugar.frame.Frame object>],), **kwargs={})\n    272         # Fast path when there are no active contexts.\n    273         def null_wrapper(*args, **kwargs):\n    274             try:\n    275                 current_state = _state.contexts\n    276                 _state.contexts = cap_contexts[0]\n--> 277                 return fn(*args, **kwargs)\n        args = ([<zmq.sugar.frame.Frame object>, <zmq.sugar.frame.Frame object>, <zmq.sugar.frame.Frame object>, <zmq.sugar.frame.Frame object>, <zmq.sugar.frame.Frame object>, <zmq.sugar.frame.Frame object>, <zmq.sugar.frame.Frame object>],)\n        kwargs = {}\n    278             finally:\n    279                 _state.contexts = current_state\n    280         null_wrapper._wrapped = True\n    281         return null_wrapper\n\n...........................................................................\nc:\\users\\kzaytseva\\appdata\\local\\continuum\\anaconda3_new\\envs\\textclass\\lib\\site-packages\\ipykernel\\kernelbase.py in dispatcher(msg=[<zmq.sugar.frame.Frame object>, <zmq.sugar.frame.Frame object>, <zmq.sugar.frame.Frame object>, <zmq.sugar.frame.Frame object>, <zmq.sugar.frame.Frame object>, <zmq.sugar.frame.Frame object>, <zmq.sugar.frame.Frame object>])\n    276         if self.control_stream:\n    277             self.control_stream.on_recv(self.dispatch_control, copy=False)\n    278 \n    279         def make_dispatcher(stream):\n    280             def dispatcher(msg):\n--> 281                 return self.dispatch_shell(stream, msg)\n        msg = [<zmq.sugar.frame.Frame object>, <zmq.sugar.frame.Frame object>, <zmq.sugar.frame.Frame object>, <zmq.sugar.frame.Frame object>, <zmq.sugar.frame.Frame object>, <zmq.sugar.frame.Frame object>, <zmq.sugar.frame.Frame object>]\n    282             return dispatcher\n    283 \n    284         for s in self.shell_streams:\n    285             s.on_recv(make_dispatcher(s), copy=False)\n\n...........................................................................\nc:\\users\\kzaytseva\\appdata\\local\\continuum\\anaconda3_new\\envs\\textclass\\lib\\site-packages\\ipykernel\\kernelbase.py in dispatch_shell(self=<ipykernel.ipkernel.IPythonKernel object>, stream=<zmq.eventloop.zmqstream.ZMQStream object>, msg={'buffers': [], 'content': {'allow_stdin': True, 'code': 'from sklearn import model_selection\\nseed = 42\\n# ...ot(results)\\nax.set_xticklabels(names)\\nplt.show()\\n', 'silent': False, 'stop_on_error': True, 'store_history': True, 'user_expressions': {}}, 'header': {'date': datetime.datetime(2018, 1, 24, 11, 3, 2, 168480, tzinfo=tzutc()), 'msg_id': 'AAC911F933D14294936AEAE0D0B45BF8', 'msg_type': 'execute_request', 'session': '57E2290274FF4FB3ADE9AEF7000E3669', 'username': 'username', 'version': '5.2'}, 'metadata': {}, 'msg_id': 'AAC911F933D14294936AEAE0D0B45BF8', 'msg_type': 'execute_request', 'parent_header': {}})\n    227             self.log.warn(\"Unknown message type: %r\", msg_type)\n    228         else:\n    229             self.log.debug(\"%s: %s\", msg_type, msg)\n    230             self.pre_handler_hook()\n    231             try:\n--> 232                 handler(stream, idents, msg)\n        handler = <bound method Kernel.execute_request of <ipykernel.ipkernel.IPythonKernel object>>\n        stream = <zmq.eventloop.zmqstream.ZMQStream object>\n        idents = [b'57E2290274FF4FB3ADE9AEF7000E3669']\n        msg = {'buffers': [], 'content': {'allow_stdin': True, 'code': 'from sklearn import model_selection\\nseed = 42\\n# ...ot(results)\\nax.set_xticklabels(names)\\nplt.show()\\n', 'silent': False, 'stop_on_error': True, 'store_history': True, 'user_expressions': {}}, 'header': {'date': datetime.datetime(2018, 1, 24, 11, 3, 2, 168480, tzinfo=tzutc()), 'msg_id': 'AAC911F933D14294936AEAE0D0B45BF8', 'msg_type': 'execute_request', 'session': '57E2290274FF4FB3ADE9AEF7000E3669', 'username': 'username', 'version': '5.2'}, 'metadata': {}, 'msg_id': 'AAC911F933D14294936AEAE0D0B45BF8', 'msg_type': 'execute_request', 'parent_header': {}}\n    233             except Exception:\n    234                 self.log.error(\"Exception in message handler:\", exc_info=True)\n    235             finally:\n    236                 self.post_handler_hook()\n\n...........................................................................\nc:\\users\\kzaytseva\\appdata\\local\\continuum\\anaconda3_new\\envs\\textclass\\lib\\site-packages\\ipykernel\\kernelbase.py in execute_request(self=<ipykernel.ipkernel.IPythonKernel object>, stream=<zmq.eventloop.zmqstream.ZMQStream object>, ident=[b'57E2290274FF4FB3ADE9AEF7000E3669'], parent={'buffers': [], 'content': {'allow_stdin': True, 'code': 'from sklearn import model_selection\\nseed = 42\\n# ...ot(results)\\nax.set_xticklabels(names)\\nplt.show()\\n', 'silent': False, 'stop_on_error': True, 'store_history': True, 'user_expressions': {}}, 'header': {'date': datetime.datetime(2018, 1, 24, 11, 3, 2, 168480, tzinfo=tzutc()), 'msg_id': 'AAC911F933D14294936AEAE0D0B45BF8', 'msg_type': 'execute_request', 'session': '57E2290274FF4FB3ADE9AEF7000E3669', 'username': 'username', 'version': '5.2'}, 'metadata': {}, 'msg_id': 'AAC911F933D14294936AEAE0D0B45BF8', 'msg_type': 'execute_request', 'parent_header': {}})\n    392         if not silent:\n    393             self.execution_count += 1\n    394             self._publish_execute_input(code, parent, self.execution_count)\n    395 \n    396         reply_content = self.do_execute(code, silent, store_history,\n--> 397                                         user_expressions, allow_stdin)\n        user_expressions = {}\n        allow_stdin = True\n    398 \n    399         # Flush output before sending the reply.\n    400         sys.stdout.flush()\n    401         sys.stderr.flush()\n\n...........................................................................\nc:\\users\\kzaytseva\\appdata\\local\\continuum\\anaconda3_new\\envs\\textclass\\lib\\site-packages\\ipykernel\\ipkernel.py in do_execute(self=<ipykernel.ipkernel.IPythonKernel object>, code='from sklearn import model_selection\\nseed = 42\\n# ...ot(results)\\nax.set_xticklabels(names)\\nplt.show()\\n', silent=False, store_history=True, user_expressions={}, allow_stdin=True)\n    203 \n    204         self._forward_input(allow_stdin)\n    205 \n    206         reply_content = {}\n    207         try:\n--> 208             res = shell.run_cell(code, store_history=store_history, silent=silent)\n        res = undefined\n        shell.run_cell = <bound method ZMQInteractiveShell.run_cell of <ipykernel.zmqshell.ZMQInteractiveShell object>>\n        code = 'from sklearn import model_selection\\nseed = 42\\n# ...ot(results)\\nax.set_xticklabels(names)\\nplt.show()\\n'\n        store_history = True\n        silent = False\n    209         finally:\n    210             self._restore_input()\n    211 \n    212         if res.error_before_exec is not None:\n\n...........................................................................\nc:\\users\\kzaytseva\\appdata\\local\\continuum\\anaconda3_new\\envs\\textclass\\lib\\site-packages\\ipykernel\\zmqshell.py in run_cell(self=<ipykernel.zmqshell.ZMQInteractiveShell object>, *args=('from sklearn import model_selection\\nseed = 42\\n# ...ot(results)\\nax.set_xticklabels(names)\\nplt.show()\\n',), **kwargs={'silent': False, 'store_history': True})\n    528             )\n    529         self.payload_manager.write_payload(payload)\n    530 \n    531     def run_cell(self, *args, **kwargs):\n    532         self._last_traceback = None\n--> 533         return super(ZMQInteractiveShell, self).run_cell(*args, **kwargs)\n        self.run_cell = <bound method ZMQInteractiveShell.run_cell of <ipykernel.zmqshell.ZMQInteractiveShell object>>\n        args = ('from sklearn import model_selection\\nseed = 42\\n# ...ot(results)\\nax.set_xticklabels(names)\\nplt.show()\\n',)\n        kwargs = {'silent': False, 'store_history': True}\n    534 \n    535     def _showtraceback(self, etype, evalue, stb):\n    536         # try to preserve ordering of tracebacks and print statements\n    537         sys.stdout.flush()\n\n...........................................................................\nc:\\users\\kzaytseva\\appdata\\local\\continuum\\anaconda3_new\\envs\\textclass\\lib\\site-packages\\IPython\\core\\interactiveshell.py in run_cell(self=<ipykernel.zmqshell.ZMQInteractiveShell object>, raw_cell='from sklearn import model_selection\\nseed = 42\\n# ...ot(results)\\nax.set_xticklabels(names)\\nplt.show()\\n', store_history=True, silent=False, shell_futures=True)\n   2723                 self.displayhook.exec_result = result\n   2724 \n   2725                 # Execute the user code\n   2726                 interactivity = \"none\" if silent else self.ast_node_interactivity\n   2727                 has_raised = self.run_ast_nodes(code_ast.body, cell_name,\n-> 2728                    interactivity=interactivity, compiler=compiler, result=result)\n        interactivity = 'last_expr'\n        compiler = <IPython.core.compilerop.CachingCompiler object>\n   2729                 \n   2730                 self.last_execution_succeeded = not has_raised\n   2731                 self.last_execution_result = result\n   2732 \n\n...........................................................................\nc:\\users\\kzaytseva\\appdata\\local\\continuum\\anaconda3_new\\envs\\textclass\\lib\\site-packages\\IPython\\core\\interactiveshell.py in run_ast_nodes(self=<ipykernel.zmqshell.ZMQInteractiveShell object>, nodelist=[<_ast.ImportFrom object>, <_ast.Assign object>, <_ast.Assign object>, <_ast.Expr object>, <_ast.Expr object>, <_ast.Expr object>, <_ast.Assign object>, <_ast.Assign object>, <_ast.Assign object>, <_ast.For object>, <_ast.Assign object>, <_ast.Expr object>, <_ast.Assign object>, <_ast.Expr object>, <_ast.Expr object>, <_ast.Expr object>], cell_name='<ipython-input-53-fc8bf5b4c86e>', interactivity='last', compiler=<IPython.core.compilerop.CachingCompiler object>, result=<ExecutionResult object at 96e9be9128, execution..._before_exec=None error_in_exec=None result=None>)\n   2845 \n   2846         try:\n   2847             for i, node in enumerate(to_run_exec):\n   2848                 mod = ast.Module([node])\n   2849                 code = compiler(mod, cell_name, \"exec\")\n-> 2850                 if self.run_code(code, result):\n        self.run_code = <bound method InteractiveShell.run_code of <ipykernel.zmqshell.ZMQInteractiveShell object>>\n        code = <code object <module> at 0x00000096F2271420, file \"<ipython-input-53-fc8bf5b4c86e>\", line 13>\n        result = <ExecutionResult object at 96e9be9128, execution..._before_exec=None error_in_exec=None result=None>\n   2851                     return True\n   2852 \n   2853             for i, node in enumerate(to_run_interactive):\n   2854                 mod = ast.Interactive([node])\n\n...........................................................................\nc:\\users\\kzaytseva\\appdata\\local\\continuum\\anaconda3_new\\envs\\textclass\\lib\\site-packages\\IPython\\core\\interactiveshell.py in run_code(self=<ipykernel.zmqshell.ZMQInteractiveShell object>, code_obj=<code object <module> at 0x00000096F2271420, file \"<ipython-input-53-fc8bf5b4c86e>\", line 13>, result=<ExecutionResult object at 96e9be9128, execution..._before_exec=None error_in_exec=None result=None>)\n   2905         outflag = True  # happens in more places, so it's easier as default\n   2906         try:\n   2907             try:\n   2908                 self.hooks.pre_run_code_hook()\n   2909                 #rprint('Running code', repr(code_obj)) # dbg\n-> 2910                 exec(code_obj, self.user_global_ns, self.user_ns)\n        code_obj = <code object <module> at 0x00000096F2271420, file \"<ipython-input-53-fc8bf5b4c86e>\", line 13>\n        self.user_global_ns = {'CountVectorizer': <class 'sklearn.feature_extraction.text.CountVectorizer'>, 'GridSearchCV': <class 'sklearn.model_selection._search.GridSearchCV'>, 'In': ['', '# playing with The UCI ML News Aggregator Datase...tplotlib.pyplot as plt\\nimport scikitplot as skplt', '#import data and add header row\\nnews = pd.read_c...\", \"CATEGORY\", \"STORY\", \"HOSTNAME\", \"TIMESTAMP\"])', '#first six rows\\nnews.head()', \"#lowercase text and removing punctuation in titl...LE'] = [normalize(s) for s in news['TITLE']]\\n    \", '#first six rows\\nnews.head()', \"news['CATEGORY'].unique()\", \"news['CATEGORY'].value_counts()[:20].plot(kind='barh')\", \"news['CATEGORY'].value_counts().plot(kind='barh')\", \"#import vectorizers and transformer\\n#use CountVe...#x_data = vectorizer.fit_transform(news['TITLE'])\", '# taken from Ritchie Ng post \"Vectorization, Mul...edicting actual future data to maximize learning.', '#split data into train and test subsets\\nfrom skl...umber of unique words in all corpus of headlines)', '#building a classifier\\nfrom sklearn.naive_bayes ... = MultinomialNB(alpha=.01).fit(X_train, y_train)', '###### USE WITHOUT PIPELINE ########\\n#testing on...mnb.predict(X_test)\\n#np.mean(predicted == y_test)', '###### USE WITHOUT PIPELINE ########\\n#alternative to above & np\\n#clf_mnb.score(X_test, y_test)', '#predicted', \"#to check all out metricts\\nfrom sklearn import m...rics.f1_score(y_test, predicted, average='macro')\", 'from sklearn.metrics import classification_report\\n#print(classification_report(y_test, predicted))', \"#pipeline for Naive Bayse classifier\\n\\nfrom sklea...        ('clf', MultinomialNB(alpha=.01)),\\n    ])\", '#.fit(train) - learns the vocabulary of the training data\\nclf_mnb = clf_mnb.fit(X_train, y_train)', ...], 'LogisticRegression': <class 'sklearn.linear_model.logistic.LogisticRegression'>, 'MultinomialNB': <class 'sklearn.naive_bayes.MultinomialNB'>, 'Out': {3:    ID                                           ...UPQVP6sIxvM    www.moneynews.com  1394470372027  , 5:    ID                                           ...UPQVP6sIxvM    www.moneynews.com  1394470372027  , 6: array(['b', 't', 'e', 'm'], dtype=object), 7: <matplotlib.axes._subplots.AxesSubplot object>, 8: <matplotlib.axes._subplots.AxesSubplot object>, 20: 0.9295109133090289, 22: 0.9490142481077225, 23: {'clf__alpha': 0.01, 'vect__ngram_range': (1, 2)}, 24: 0.9521897637422471, 28: array([0.36135082, 0.36135082, 0.36135082, ..., 0.36135082, 0.36135082,\n       0.36135082]), ...}, 'Pipeline': <class 'sklearn.pipeline.Pipeline'>, 'SGDClassifier': <class 'sklearn.linear_model.stochastic_gradient.SGDClassifier'>, 'TfidfTransformer': <class 'sklearn.feature_extraction.text.TfidfTransformer'>, 'TfidfVectorizer': <class 'sklearn.feature_extraction.text.TfidfVectorizer'>, ...}\n        self.user_ns = {'CountVectorizer': <class 'sklearn.feature_extraction.text.CountVectorizer'>, 'GridSearchCV': <class 'sklearn.model_selection._search.GridSearchCV'>, 'In': ['', '# playing with The UCI ML News Aggregator Datase...tplotlib.pyplot as plt\\nimport scikitplot as skplt', '#import data and add header row\\nnews = pd.read_c...\", \"CATEGORY\", \"STORY\", \"HOSTNAME\", \"TIMESTAMP\"])', '#first six rows\\nnews.head()', \"#lowercase text and removing punctuation in titl...LE'] = [normalize(s) for s in news['TITLE']]\\n    \", '#first six rows\\nnews.head()', \"news['CATEGORY'].unique()\", \"news['CATEGORY'].value_counts()[:20].plot(kind='barh')\", \"news['CATEGORY'].value_counts().plot(kind='barh')\", \"#import vectorizers and transformer\\n#use CountVe...#x_data = vectorizer.fit_transform(news['TITLE'])\", '# taken from Ritchie Ng post \"Vectorization, Mul...edicting actual future data to maximize learning.', '#split data into train and test subsets\\nfrom skl...umber of unique words in all corpus of headlines)', '#building a classifier\\nfrom sklearn.naive_bayes ... = MultinomialNB(alpha=.01).fit(X_train, y_train)', '###### USE WITHOUT PIPELINE ########\\n#testing on...mnb.predict(X_test)\\n#np.mean(predicted == y_test)', '###### USE WITHOUT PIPELINE ########\\n#alternative to above & np\\n#clf_mnb.score(X_test, y_test)', '#predicted', \"#to check all out metricts\\nfrom sklearn import m...rics.f1_score(y_test, predicted, average='macro')\", 'from sklearn.metrics import classification_report\\n#print(classification_report(y_test, predicted))', \"#pipeline for Naive Bayse classifier\\n\\nfrom sklea...        ('clf', MultinomialNB(alpha=.01)),\\n    ])\", '#.fit(train) - learns the vocabulary of the training data\\nclf_mnb = clf_mnb.fit(X_train, y_train)', ...], 'LogisticRegression': <class 'sklearn.linear_model.logistic.LogisticRegression'>, 'MultinomialNB': <class 'sklearn.naive_bayes.MultinomialNB'>, 'Out': {3:    ID                                           ...UPQVP6sIxvM    www.moneynews.com  1394470372027  , 5:    ID                                           ...UPQVP6sIxvM    www.moneynews.com  1394470372027  , 6: array(['b', 't', 'e', 'm'], dtype=object), 7: <matplotlib.axes._subplots.AxesSubplot object>, 8: <matplotlib.axes._subplots.AxesSubplot object>, 20: 0.9295109133090289, 22: 0.9490142481077225, 23: {'clf__alpha': 0.01, 'vect__ngram_range': (1, 2)}, 24: 0.9521897637422471, 28: array([0.36135082, 0.36135082, 0.36135082, ..., 0.36135082, 0.36135082,\n       0.36135082]), ...}, 'Pipeline': <class 'sklearn.pipeline.Pipeline'>, 'SGDClassifier': <class 'sklearn.linear_model.stochastic_gradient.SGDClassifier'>, 'TfidfTransformer': <class 'sklearn.feature_extraction.text.TfidfTransformer'>, 'TfidfVectorizer': <class 'sklearn.feature_extraction.text.TfidfVectorizer'>, ...}\n   2911             finally:\n   2912                 # Reset our crash handler in place\n   2913                 sys.excepthook = old_excepthook\n   2914         except SystemExit as e:\n\n...........................................................................\nC:\\Users\\kzaytseva\\PycharmProjects\\TextClass\\<ipython-input-53-fc8bf5b4c86e> in <module>()\n     10 results = []\n     11 names = []\n     12 scoring = 'accuracy'\n     13 for name, model in models:\n     14     kfold = model_selection.KFold(n_splits=10, random_state=seed)\n---> 15     cv_results = model_selection.cross_val_score(model, y_test, predicted, cv=kfold, scoring=scoring)\n     16     results.append(cv_results)\n     17     names.append(name)\n     18     msg = \"%s: %f (%f)\" % (name, cv_results.mean(), cv_results.std())\n     19     print(msg)\n\n...........................................................................\nc:\\users\\kzaytseva\\appdata\\local\\continuum\\anaconda3_new\\envs\\textclass\\lib\\site-packages\\sklearn\\model_selection\\_validation.py in cross_val_score(estimator=GridSearchCV(cv=None, error_score='raise',\n     ...ain_score='warn',\n       scoring=None, verbose=0), X=280241    e\n96315     b\n280410    e\n284975    e\n...  b\nName: CATEGORY, Length: 105605, dtype: object, y=array(['e', 'b', 'e', ..., 'e', 'e', 't'], dtype=object), groups=None, scoring='accuracy', cv=KFold(n_splits=10, random_state=42, shuffle=False), n_jobs=1, verbose=0, fit_params=None, pre_dispatch='2*n_jobs')\n    337     cv_results = cross_validate(estimator=estimator, X=X, y=y, groups=groups,\n    338                                 scoring={'score': scorer}, cv=cv,\n    339                                 return_train_score=False,\n    340                                 n_jobs=n_jobs, verbose=verbose,\n    341                                 fit_params=fit_params,\n--> 342                                 pre_dispatch=pre_dispatch)\n        pre_dispatch = '2*n_jobs'\n    343     return cv_results['test_score']\n    344 \n    345 \n    346 def _fit_and_score(estimator, X, y, scorer, train, test, verbose,\n\n...........................................................................\nc:\\users\\kzaytseva\\appdata\\local\\continuum\\anaconda3_new\\envs\\textclass\\lib\\site-packages\\sklearn\\model_selection\\_validation.py in cross_validate(estimator=GridSearchCV(cv=None, error_score='raise',\n     ...ain_score='warn',\n       scoring=None, verbose=0), X=280241    e\n96315     b\n280410    e\n284975    e\n...  b\nName: CATEGORY, Length: 105605, dtype: object, y=array(['e', 'b', 'e', ..., 'e', 'e', 't'], dtype=object), groups=None, scoring={'score': make_scorer(accuracy_score)}, cv=KFold(n_splits=10, random_state=42, shuffle=False), n_jobs=1, verbose=0, fit_params=None, pre_dispatch='2*n_jobs', return_train_score=False)\n    201     scores = parallel(\n    202         delayed(_fit_and_score)(\n    203             clone(estimator), X, y, scorers, train, test, verbose, None,\n    204             fit_params, return_train_score=return_train_score,\n    205             return_times=True)\n--> 206         for train, test in cv.split(X, y, groups))\n        cv.split = <bound method _BaseKFold.split of KFold(n_splits=10, random_state=42, shuffle=False)>\n        X = 280241    e\n96315     b\n280410    e\n284975    e\n...  b\nName: CATEGORY, Length: 105605, dtype: object\n        y = array(['e', 'b', 'e', ..., 'e', 'e', 't'], dtype=object)\n        groups = None\n    207 \n    208     if return_train_score:\n    209         train_scores, test_scores, fit_times, score_times = zip(*scores)\n    210         train_scores = _aggregate_score_dicts(train_scores)\n\n...........................................................................\nc:\\users\\kzaytseva\\appdata\\local\\continuum\\anaconda3_new\\envs\\textclass\\lib\\site-packages\\sklearn\\externals\\joblib\\parallel.py in __call__(self=Parallel(n_jobs=1), iterable=<generator object cross_validate.<locals>.<genexpr>>)\n    774         self.n_completed_tasks = 0\n    775         try:\n    776             # Only set self._iterating to True if at least a batch\n    777             # was dispatched. In particular this covers the edge\n    778             # case of Parallel used with an exhausted iterator.\n--> 779             while self.dispatch_one_batch(iterator):\n        self.dispatch_one_batch = <bound method Parallel.dispatch_one_batch of Parallel(n_jobs=1)>\n        iterator = <generator object cross_validate.<locals>.<genexpr>>\n    780                 self._iterating = True\n    781             else:\n    782                 self._iterating = False\n    783 \n\n...........................................................................\nc:\\users\\kzaytseva\\appdata\\local\\continuum\\anaconda3_new\\envs\\textclass\\lib\\site-packages\\sklearn\\externals\\joblib\\parallel.py in dispatch_one_batch(self=Parallel(n_jobs=1), iterator=<generator object cross_validate.<locals>.<genexpr>>)\n    620             tasks = BatchedCalls(itertools.islice(iterator, batch_size))\n    621             if len(tasks) == 0:\n    622                 # No more tasks available in the iterator: tell caller to stop.\n    623                 return False\n    624             else:\n--> 625                 self._dispatch(tasks)\n        self._dispatch = <bound method Parallel._dispatch of Parallel(n_jobs=1)>\n        tasks = <sklearn.externals.joblib.parallel.BatchedCalls object>\n    626                 return True\n    627 \n    628     def _print(self, msg, msg_args):\n    629         \"\"\"Display the message on stout or stderr depending on verbosity\"\"\"\n\n...........................................................................\nc:\\users\\kzaytseva\\appdata\\local\\continuum\\anaconda3_new\\envs\\textclass\\lib\\site-packages\\sklearn\\externals\\joblib\\parallel.py in _dispatch(self=Parallel(n_jobs=1), batch=<sklearn.externals.joblib.parallel.BatchedCalls object>)\n    583         self.n_dispatched_tasks += len(batch)\n    584         self.n_dispatched_batches += 1\n    585 \n    586         dispatch_timestamp = time.time()\n    587         cb = BatchCompletionCallBack(dispatch_timestamp, len(batch), self)\n--> 588         job = self._backend.apply_async(batch, callback=cb)\n        job = undefined\n        self._backend.apply_async = <bound method SequentialBackend.apply_async of <...lib._parallel_backends.SequentialBackend object>>\n        batch = <sklearn.externals.joblib.parallel.BatchedCalls object>\n        cb = <sklearn.externals.joblib.parallel.BatchCompletionCallBack object>\n    589         self._jobs.append(job)\n    590 \n    591     def dispatch_next(self):\n    592         \"\"\"Dispatch more data for parallel processing\n\n...........................................................................\nc:\\users\\kzaytseva\\appdata\\local\\continuum\\anaconda3_new\\envs\\textclass\\lib\\site-packages\\sklearn\\externals\\joblib\\_parallel_backends.py in apply_async(self=<sklearn.externals.joblib._parallel_backends.SequentialBackend object>, func=<sklearn.externals.joblib.parallel.BatchedCalls object>, callback=<sklearn.externals.joblib.parallel.BatchCompletionCallBack object>)\n    106             raise ValueError('n_jobs == 0 in Parallel has no meaning')\n    107         return 1\n    108 \n    109     def apply_async(self, func, callback=None):\n    110         \"\"\"Schedule a func to be run\"\"\"\n--> 111         result = ImmediateResult(func)\n        result = undefined\n        func = <sklearn.externals.joblib.parallel.BatchedCalls object>\n    112         if callback:\n    113             callback(result)\n    114         return result\n    115 \n\n...........................................................................\nc:\\users\\kzaytseva\\appdata\\local\\continuum\\anaconda3_new\\envs\\textclass\\lib\\site-packages\\sklearn\\externals\\joblib\\_parallel_backends.py in __init__(self=<sklearn.externals.joblib._parallel_backends.ImmediateResult object>, batch=<sklearn.externals.joblib.parallel.BatchedCalls object>)\n    327 \n    328 class ImmediateResult(object):\n    329     def __init__(self, batch):\n    330         # Don't delay the application, to avoid keeping the input\n    331         # arguments in memory\n--> 332         self.results = batch()\n        self.results = undefined\n        batch = <sklearn.externals.joblib.parallel.BatchedCalls object>\n    333 \n    334     def get(self):\n    335         return self.results\n    336 \n\n...........................................................................\nc:\\users\\kzaytseva\\appdata\\local\\continuum\\anaconda3_new\\envs\\textclass\\lib\\site-packages\\sklearn\\externals\\joblib\\parallel.py in __call__(self=<sklearn.externals.joblib.parallel.BatchedCalls object>)\n    126     def __init__(self, iterator_slice):\n    127         self.items = list(iterator_slice)\n    128         self._size = len(self.items)\n    129 \n    130     def __call__(self):\n--> 131         return [func(*args, **kwargs) for func, args, kwargs in self.items]\n        self.items = [(<function _fit_and_score>, (GridSearchCV(cv=None, error_score='raise',\n     ...ain_score='warn',\n       scoring=None, verbose=0), 280241    e\n96315     b\n280410    e\n284975    e\n...  b\nName: CATEGORY, Length: 105605, dtype: object, array(['e', 'b', 'e', ..., 'e', 'e', 't'], dtype=object), {'score': make_scorer(accuracy_score)}, array([ 10561,  10562,  10563, ..., 105602, 105603, 105604]), array([    0,     1,     2, ..., 10558, 10559, 10560]), 0, None, None), {'return_times': True, 'return_train_score': False})]\n    132 \n    133     def __len__(self):\n    134         return self._size\n    135 \n\n...........................................................................\nc:\\users\\kzaytseva\\appdata\\local\\continuum\\anaconda3_new\\envs\\textclass\\lib\\site-packages\\sklearn\\externals\\joblib\\parallel.py in <listcomp>(.0=<list_iterator object>)\n    126     def __init__(self, iterator_slice):\n    127         self.items = list(iterator_slice)\n    128         self._size = len(self.items)\n    129 \n    130     def __call__(self):\n--> 131         return [func(*args, **kwargs) for func, args, kwargs in self.items]\n        func = <function _fit_and_score>\n        args = (GridSearchCV(cv=None, error_score='raise',\n     ...ain_score='warn',\n       scoring=None, verbose=0), 280241    e\n96315     b\n280410    e\n284975    e\n...  b\nName: CATEGORY, Length: 105605, dtype: object, array(['e', 'b', 'e', ..., 'e', 'e', 't'], dtype=object), {'score': make_scorer(accuracy_score)}, array([ 10561,  10562,  10563, ..., 105602, 105603, 105604]), array([    0,     1,     2, ..., 10558, 10559, 10560]), 0, None, None)\n        kwargs = {'return_times': True, 'return_train_score': False}\n    132 \n    133     def __len__(self):\n    134         return self._size\n    135 \n\n...........................................................................\nc:\\users\\kzaytseva\\appdata\\local\\continuum\\anaconda3_new\\envs\\textclass\\lib\\site-packages\\sklearn\\model_selection\\_validation.py in _fit_and_score(estimator=GridSearchCV(cv=None, error_score='raise',\n     ...ain_score='warn',\n       scoring=None, verbose=0), X=280241    e\n96315     b\n280410    e\n284975    e\n...  b\nName: CATEGORY, Length: 105605, dtype: object, y=array(['e', 'b', 'e', ..., 'e', 'e', 't'], dtype=object), scorer={'score': make_scorer(accuracy_score)}, train=array([ 10561,  10562,  10563, ..., 105602, 105603, 105604]), test=array([    0,     1,     2, ..., 10558, 10559, 10560]), verbose=0, parameters=None, fit_params={}, return_train_score=False, return_parameters=False, return_n_test_samples=False, return_times=True, error_score='raise')\n    453 \n    454     try:\n    455         if y_train is None:\n    456             estimator.fit(X_train, **fit_params)\n    457         else:\n--> 458             estimator.fit(X_train, y_train, **fit_params)\n        estimator.fit = <bound method BaseSearchCV.fit of GridSearchCV(c...in_score='warn',\n       scoring=None, verbose=0)>\n        X_train = 306187    t\n219070    b\n198293    e\n379529    t\n...   b\nName: CATEGORY, Length: 95044, dtype: object\n        y_train = array(['t', 'e', 'e', ..., 'e', 'e', 't'], dtype=object)\n        fit_params = {}\n    459 \n    460     except Exception as e:\n    461         # Note fit time as time until error\n    462         fit_time = time.time() - start_time\n\n...........................................................................\nc:\\users\\kzaytseva\\appdata\\local\\continuum\\anaconda3_new\\envs\\textclass\\lib\\site-packages\\sklearn\\model_selection\\_search.py in fit(self=GridSearchCV(cv=None, error_score='raise',\n     ...ain_score='warn',\n       scoring=None, verbose=0), X=306187    t\n219070    b\n198293    e\n379529    t\n...   b\nName: CATEGORY, Length: 95044, dtype: object, y=array(['t', 'e', 'e', ..., 'e', 'e', 't'], dtype=object), groups=None, **fit_params={})\n    634                                   return_train_score=self.return_train_score,\n    635                                   return_n_test_samples=True,\n    636                                   return_times=True, return_parameters=False,\n    637                                   error_score=self.error_score)\n    638           for parameters, (train, test) in product(candidate_params,\n--> 639                                                    cv.split(X, y, groups)))\n        cv.split = <bound method StratifiedKFold.split of Stratifie...ld(n_splits=3, random_state=None, shuffle=False)>\n        X = 306187    t\n219070    b\n198293    e\n379529    t\n...   b\nName: CATEGORY, Length: 95044, dtype: object\n        y = array(['t', 'e', 'e', ..., 'e', 'e', 't'], dtype=object)\n        groups = None\n    640 \n    641         # if one choose to see train score, \"out\" will contain train score info\n    642         if self.return_train_score:\n    643             (train_score_dicts, test_score_dicts, test_sample_counts, fit_time,\n\n...........................................................................\nc:\\users\\kzaytseva\\appdata\\local\\continuum\\anaconda3_new\\envs\\textclass\\lib\\site-packages\\sklearn\\externals\\joblib\\parallel.py in __call__(self=Parallel(n_jobs=-1), iterable=<generator object BaseSearchCV.fit.<locals>.<genexpr>>)\n    784             if pre_dispatch == \"all\" or n_jobs == 1:\n    785                 # The iterable was consumed all at once by the above for loop.\n    786                 # No need to wait for async callbacks to trigger to\n    787                 # consumption.\n    788                 self._iterating = False\n--> 789             self.retrieve()\n        self.retrieve = <bound method Parallel.retrieve of Parallel(n_jobs=-1)>\n    790             # Make sure that we get a last message telling us we are done\n    791             elapsed_time = time.time() - self._start_time\n    792             self._print('Done %3i out of %3i | elapsed: %s finished',\n    793                         (len(self._output), len(self._output),\n\n---------------------------------------------------------------------------\nSub-process traceback:\n---------------------------------------------------------------------------\nValueError                                         Wed Jan 24 12:03:03 2018\nPID: 7464Python 3.5.4: c:\\users\\kzaytseva\\appdata\\local\\continuum\\anaconda3_new\\envs\\textclass\\python.exe\n...........................................................................\nc:\\users\\kzaytseva\\appdata\\local\\continuum\\anaconda3_new\\envs\\textclass\\lib\\site-packages\\sklearn\\externals\\joblib\\parallel.py in __call__(self=<sklearn.externals.joblib.parallel.BatchedCalls object>)\n    126     def __init__(self, iterator_slice):\n    127         self.items = list(iterator_slice)\n    128         self._size = len(self.items)\n    129 \n    130     def __call__(self):\n--> 131         return [func(*args, **kwargs) for func, args, kwargs in self.items]\n        self.items = [(<function _fit_and_score>, (Pipeline(memory=None,\n     steps=[('vect', Count...(alpha=0.01, class_prior=None, fit_prior=True))]), 306187    t\n219070    b\n198293    e\n379529    t\n...   b\nName: CATEGORY, Length: 95044, dtype: object, array(['t', 'e', 'e', ..., 'e', 'e', 't'], dtype=object), {'score': <function _passthrough_scorer>}, array([31457, 31458, 31461, ..., 95041, 95042, 95043]), array([    0,     1,     2, ..., 31951, 31952, 31964]), 0, {'clf__alpha': 0.01, 'vect__ngram_range': (1, 1)}), {'error_score': 'raise', 'fit_params': {}, 'return_n_test_samples': True, 'return_parameters': False, 'return_times': True, 'return_train_score': 'warn'})]\n    132 \n    133     def __len__(self):\n    134         return self._size\n    135 \n\n...........................................................................\nc:\\users\\kzaytseva\\appdata\\local\\continuum\\anaconda3_new\\envs\\textclass\\lib\\site-packages\\sklearn\\externals\\joblib\\parallel.py in <listcomp>(.0=<list_iterator object>)\n    126     def __init__(self, iterator_slice):\n    127         self.items = list(iterator_slice)\n    128         self._size = len(self.items)\n    129 \n    130     def __call__(self):\n--> 131         return [func(*args, **kwargs) for func, args, kwargs in self.items]\n        func = <function _fit_and_score>\n        args = (Pipeline(memory=None,\n     steps=[('vect', Count...(alpha=0.01, class_prior=None, fit_prior=True))]), 306187    t\n219070    b\n198293    e\n379529    t\n...   b\nName: CATEGORY, Length: 95044, dtype: object, array(['t', 'e', 'e', ..., 'e', 'e', 't'], dtype=object), {'score': <function _passthrough_scorer>}, array([31457, 31458, 31461, ..., 95041, 95042, 95043]), array([    0,     1,     2, ..., 31951, 31952, 31964]), 0, {'clf__alpha': 0.01, 'vect__ngram_range': (1, 1)})\n        kwargs = {'error_score': 'raise', 'fit_params': {}, 'return_n_test_samples': True, 'return_parameters': False, 'return_times': True, 'return_train_score': 'warn'}\n    132 \n    133     def __len__(self):\n    134         return self._size\n    135 \n\n...........................................................................\nc:\\users\\kzaytseva\\appdata\\local\\continuum\\anaconda3_new\\envs\\textclass\\lib\\site-packages\\sklearn\\model_selection\\_validation.py in _fit_and_score(estimator=Pipeline(memory=None,\n     steps=[('vect', Count...(alpha=0.01, class_prior=None, fit_prior=True))]), X=306187    t\n219070    b\n198293    e\n379529    t\n...   b\nName: CATEGORY, Length: 95044, dtype: object, y=array(['t', 'e', 'e', ..., 'e', 'e', 't'], dtype=object), scorer={'score': <function _passthrough_scorer>}, train=array([31457, 31458, 31461, ..., 95041, 95042, 95043]), test=array([    0,     1,     2, ..., 31951, 31952, 31964]), verbose=0, parameters={'clf__alpha': 0.01, 'vect__ngram_range': (1, 1)}, fit_params={}, return_train_score='warn', return_parameters=False, return_n_test_samples=True, return_times=True, error_score='raise')\n    453 \n    454     try:\n    455         if y_train is None:\n    456             estimator.fit(X_train, **fit_params)\n    457         else:\n--> 458             estimator.fit(X_train, y_train, **fit_params)\n        estimator.fit = <bound method Pipeline.fit of Pipeline(memory=No...alpha=0.01, class_prior=None, fit_prior=True))])>\n        X_train = 29977     b\n314954    b\n276665    b\n70135     b\n...   b\nName: CATEGORY, Length: 63361, dtype: object\n        y_train = array(['b', 'b', 'b', ..., 'e', 'e', 't'], dtype=object)\n        fit_params = {}\n    459 \n    460     except Exception as e:\n    461         # Note fit time as time until error\n    462         fit_time = time.time() - start_time\n\n...........................................................................\nc:\\users\\kzaytseva\\appdata\\local\\continuum\\anaconda3_new\\envs\\textclass\\lib\\site-packages\\sklearn\\pipeline.py in fit(self=Pipeline(memory=None,\n     steps=[('vect', Count...(alpha=0.01, class_prior=None, fit_prior=True))]), X=29977     b\n314954    b\n276665    b\n70135     b\n...   b\nName: CATEGORY, Length: 63361, dtype: object, y=array(['b', 'b', 'b', ..., 'e', 'e', 't'], dtype=object), **fit_params={})\n    243         Returns\n    244         -------\n    245         self : Pipeline\n    246             This estimator\n    247         \"\"\"\n--> 248         Xt, fit_params = self._fit(X, y, **fit_params)\n        Xt = undefined\n        fit_params = {}\n        self._fit = <bound method Pipeline._fit of Pipeline(memory=N...alpha=0.01, class_prior=None, fit_prior=True))])>\n        X = 29977     b\n314954    b\n276665    b\n70135     b\n...   b\nName: CATEGORY, Length: 63361, dtype: object\n        y = array(['b', 'b', 'b', ..., 'e', 'e', 't'], dtype=object)\n    249         if self._final_estimator is not None:\n    250             self._final_estimator.fit(Xt, y, **fit_params)\n    251         return self\n    252 \n\n...........................................................................\nc:\\users\\kzaytseva\\appdata\\local\\continuum\\anaconda3_new\\envs\\textclass\\lib\\site-packages\\sklearn\\pipeline.py in _fit(self=Pipeline(memory=None,\n     steps=[('vect', Count...(alpha=0.01, class_prior=None, fit_prior=True))]), X=29977     b\n314954    b\n276665    b\n70135     b\n...   b\nName: CATEGORY, Length: 63361, dtype: object, y=array(['b', 'b', 'b', ..., 'e', 'e', 't'], dtype=object), **fit_params={})\n    208                 else:\n    209                     cloned_transformer = clone(transformer)\n    210                 # Fit or load from cache the current transfomer\n    211                 Xt, fitted_transformer = fit_transform_one_cached(\n    212                     cloned_transformer, None, Xt, y,\n--> 213                     **fit_params_steps[name])\n        fit_params_steps = {'clf': {}, 'vect': {}}\n        name = 'vect'\n    214                 # Replace the transformer of the step with the fitted\n    215                 # transformer. This is necessary when loading the transformer\n    216                 # from the cache.\n    217                 self.steps[step_idx] = (name, fitted_transformer)\n\n...........................................................................\nc:\\users\\kzaytseva\\appdata\\local\\continuum\\anaconda3_new\\envs\\textclass\\lib\\site-packages\\sklearn\\externals\\joblib\\memory.py in __call__(self=NotMemorizedFunc(func=<function _fit_transform_one at 0x000000546BBB7F28>), *args=(CountVectorizer(analyzer='word', binary=False, d...\\w+\\\\b',\n        tokenizer=None, vocabulary=None), None, 29977     b\n314954    b\n276665    b\n70135     b\n...   b\nName: CATEGORY, Length: 63361, dtype: object, array(['b', 'b', 'b', ..., 'e', 'e', 't'], dtype=object)), **kwargs={})\n    357     # Should be a light as possible (for speed)\n    358     def __init__(self, func):\n    359         self.func = func\n    360 \n    361     def __call__(self, *args, **kwargs):\n--> 362         return self.func(*args, **kwargs)\n        self.func = <function _fit_transform_one>\n        args = (CountVectorizer(analyzer='word', binary=False, d...\\w+\\\\b',\n        tokenizer=None, vocabulary=None), None, 29977     b\n314954    b\n276665    b\n70135     b\n...   b\nName: CATEGORY, Length: 63361, dtype: object, array(['b', 'b', 'b', ..., 'e', 'e', 't'], dtype=object))\n        kwargs = {}\n    363 \n    364     def call_and_shelve(self, *args, **kwargs):\n    365         return NotMemorizedResult(self.func(*args, **kwargs))\n    366 \n\n...........................................................................\nc:\\users\\kzaytseva\\appdata\\local\\continuum\\anaconda3_new\\envs\\textclass\\lib\\site-packages\\sklearn\\pipeline.py in _fit_transform_one(transformer=CountVectorizer(analyzer='word', binary=False, d...\\w+\\\\b',\n        tokenizer=None, vocabulary=None), weight=None, X=29977     b\n314954    b\n276665    b\n70135     b\n...   b\nName: CATEGORY, Length: 63361, dtype: object, y=array(['b', 'b', 'b', ..., 'e', 'e', 't'], dtype=object), **fit_params={})\n    576 \n    577 \n    578 def _fit_transform_one(transformer, weight, X, y,\n    579                        **fit_params):\n    580     if hasattr(transformer, 'fit_transform'):\n--> 581         res = transformer.fit_transform(X, y, **fit_params)\n        res = undefined\n        transformer.fit_transform = <bound method CountVectorizer.fit_transform of C...w+\\\\b',\n        tokenizer=None, vocabulary=None)>\n        X = 29977     b\n314954    b\n276665    b\n70135     b\n...   b\nName: CATEGORY, Length: 63361, dtype: object\n        y = array(['b', 'b', 'b', ..., 'e', 'e', 't'], dtype=object)\n        fit_params = {}\n    582     else:\n    583         res = transformer.fit(X, y, **fit_params).transform(X)\n    584     # if we have a weight for this transformer, multiply output\n    585     if weight is None:\n\n...........................................................................\nc:\\users\\kzaytseva\\appdata\\local\\continuum\\anaconda3_new\\envs\\textclass\\lib\\site-packages\\sklearn\\feature_extraction\\text.py in fit_transform(self=CountVectorizer(analyzer='word', binary=False, d...\\w+\\\\b',\n        tokenizer=None, vocabulary=None), raw_documents=29977     b\n314954    b\n276665    b\n70135     b\n...   b\nName: CATEGORY, Length: 63361, dtype: object, y=array(['b', 'b', 'b', ..., 'e', 'e', 't'], dtype=object))\n    864         max_df = self.max_df\n    865         min_df = self.min_df\n    866         max_features = self.max_features\n    867 \n    868         vocabulary, X = self._count_vocab(raw_documents,\n--> 869                                           self.fixed_vocabulary_)\n        self.fixed_vocabulary_ = False\n    870 \n    871         if self.binary:\n    872             X.data.fill(1)\n    873 \n\n...........................................................................\nc:\\users\\kzaytseva\\appdata\\local\\continuum\\anaconda3_new\\envs\\textclass\\lib\\site-packages\\sklearn\\feature_extraction\\text.py in _count_vocab(self=CountVectorizer(analyzer='word', binary=False, d...\\w+\\\\b',\n        tokenizer=None, vocabulary=None), raw_documents=29977     b\n314954    b\n276665    b\n70135     b\n...   b\nName: CATEGORY, Length: 63361, dtype: object, fixed_vocab=False)\n    806 \n    807         if not fixed_vocab:\n    808             # disable defaultdict behaviour\n    809             vocabulary = dict(vocabulary)\n    810             if not vocabulary:\n--> 811                 raise ValueError(\"empty vocabulary; perhaps the documents only\"\n    812                                  \" contain stop words\")\n    813 \n    814         j_indices = np.asarray(j_indices, dtype=np.intc)\n    815         indptr = np.frombuffer(indptr, dtype=np.intc)\n\nValueError: empty vocabulary; perhaps the documents only contain stop words\n___________________________________________________________________________"
     ]
    }
   ],
   "source": [
    "from sklearn import model_selection\n",
    "seed = 42\n",
    "# prepare models\n",
    "models = []\n",
    "models.append(('MNB', gs_clf_mnb))\n",
    "models.append(('SVM', gs_clf_svm))\n",
    "models.append(('LR', gs_clf_logreg))\n",
    "\n",
    "# evaluate each model in turn\n",
    "results = []\n",
    "names = []\n",
    "scoring = 'accuracy'\n",
    "for name, model in models:\n",
    "    kfold = model_selection.KFold(n_splits=10, random_state=seed)\n",
    "    cv_results = model_selection.cross_val_score(model, y_test, predicted, cv=kfold, scoring=scoring)\n",
    "    results.append(cv_results)\n",
    "    names.append(name)\n",
    "    msg = \"%s: %f (%f)\" % (name, cv_results.mean(), cv_results.std())\n",
    "    print(msg)\n",
    "# boxplot algorithm comparison\n",
    "fig = plt.figure()\n",
    "fig.suptitle('Algorithm Comparison')\n",
    "ax = fig.add_subplot(111)\n",
    "plt.boxplot(results)\n",
    "ax.set_xticklabels(names)\n",
    "plt.show()\n"
   ]
  }
 ],
 "metadata": {
  "kernelspec": {
   "display_name": "Python 3",
   "language": "python",
   "name": "python3"
  },
  "language_info": {
   "codemirror_mode": {
    "name": "ipython",
    "version": 3
   },
   "file_extension": ".py",
   "mimetype": "text/x-python",
   "name": "python",
   "nbconvert_exporter": "python",
   "pygments_lexer": "ipython3",
   "version": "3.5.4"
  }
 },
 "nbformat": 4,
 "nbformat_minor": 2
}
