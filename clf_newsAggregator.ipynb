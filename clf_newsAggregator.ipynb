{
 "cells": [
  {
   "cell_type": "code",
   "execution_count": 1,
   "metadata": {},
   "outputs": [],
   "source": [
    "# playing with The UCI ML News Aggregator Dataset http://archive.ics.uci.edu/ml/datasets/News+Aggregator\n",
    "import numpy as np\n",
    "import pandas as pd\n",
    "import matplotlib\n",
    "import matplotlib.pyplot as plt\n",
    "import scikitplot as skplt"
   ]
  },
  {
   "cell_type": "code",
   "execution_count": 2,
   "metadata": {},
   "outputs": [],
   "source": [
    "#import data and add header row\n",
    "news = pd.read_csv(\"NewsAggregatorDataset/newsCorpora.csv\", sep=\"\\t\",\n",
    "                  names=[\"ID\", \"TITLE\", \"URL\", \"PUBLISHER\", \"CATEGORY\", \"STORY\", \"HOSTNAME\", \"TIMESTAMP\"])"
   ]
  },
  {
   "cell_type": "code",
   "execution_count": 3,
   "metadata": {},
   "outputs": [
    {
     "data": {
      "text/html": [
       "<div>\n",
       "<style scoped>\n",
       "    .dataframe tbody tr th:only-of-type {\n",
       "        vertical-align: middle;\n",
       "    }\n",
       "\n",
       "    .dataframe tbody tr th {\n",
       "        vertical-align: top;\n",
       "    }\n",
       "\n",
       "    .dataframe thead th {\n",
       "        text-align: right;\n",
       "    }\n",
       "</style>\n",
       "<table border=\"1\" class=\"dataframe\">\n",
       "  <thead>\n",
       "    <tr style=\"text-align: right;\">\n",
       "      <th></th>\n",
       "      <th>ID</th>\n",
       "      <th>TITLE</th>\n",
       "      <th>URL</th>\n",
       "      <th>PUBLISHER</th>\n",
       "      <th>CATEGORY</th>\n",
       "      <th>STORY</th>\n",
       "      <th>HOSTNAME</th>\n",
       "      <th>TIMESTAMP</th>\n",
       "    </tr>\n",
       "  </thead>\n",
       "  <tbody>\n",
       "    <tr>\n",
       "      <th>0</th>\n",
       "      <td>1</td>\n",
       "      <td>Fed official says weak data caused by weather,...</td>\n",
       "      <td>http://www.latimes.com/business/money/la-fi-mo...</td>\n",
       "      <td>Los Angeles Times</td>\n",
       "      <td>b</td>\n",
       "      <td>ddUyU0VZz0BRneMioxUPQVP6sIxvM</td>\n",
       "      <td>www.latimes.com</td>\n",
       "      <td>1394470370698</td>\n",
       "    </tr>\n",
       "    <tr>\n",
       "      <th>1</th>\n",
       "      <td>2</td>\n",
       "      <td>Fed's Charles Plosser sees high bar for change...</td>\n",
       "      <td>http://www.livemint.com/Politics/H2EvwJSK2VE6O...</td>\n",
       "      <td>Livemint</td>\n",
       "      <td>b</td>\n",
       "      <td>ddUyU0VZz0BRneMioxUPQVP6sIxvM</td>\n",
       "      <td>www.livemint.com</td>\n",
       "      <td>1394470371207</td>\n",
       "    </tr>\n",
       "    <tr>\n",
       "      <th>2</th>\n",
       "      <td>3</td>\n",
       "      <td>US open: Stocks fall after Fed official hints ...</td>\n",
       "      <td>http://www.ifamagazine.com/news/us-open-stocks...</td>\n",
       "      <td>IFA Magazine</td>\n",
       "      <td>b</td>\n",
       "      <td>ddUyU0VZz0BRneMioxUPQVP6sIxvM</td>\n",
       "      <td>www.ifamagazine.com</td>\n",
       "      <td>1394470371550</td>\n",
       "    </tr>\n",
       "    <tr>\n",
       "      <th>3</th>\n",
       "      <td>4</td>\n",
       "      <td>Fed risks falling 'behind the curve', Charles ...</td>\n",
       "      <td>http://www.ifamagazine.com/news/fed-risks-fall...</td>\n",
       "      <td>IFA Magazine</td>\n",
       "      <td>b</td>\n",
       "      <td>ddUyU0VZz0BRneMioxUPQVP6sIxvM</td>\n",
       "      <td>www.ifamagazine.com</td>\n",
       "      <td>1394470371793</td>\n",
       "    </tr>\n",
       "    <tr>\n",
       "      <th>4</th>\n",
       "      <td>5</td>\n",
       "      <td>Fed's Plosser: Nasty Weather Has Curbed Job Gr...</td>\n",
       "      <td>http://www.moneynews.com/Economy/federal-reser...</td>\n",
       "      <td>Moneynews</td>\n",
       "      <td>b</td>\n",
       "      <td>ddUyU0VZz0BRneMioxUPQVP6sIxvM</td>\n",
       "      <td>www.moneynews.com</td>\n",
       "      <td>1394470372027</td>\n",
       "    </tr>\n",
       "  </tbody>\n",
       "</table>\n",
       "</div>"
      ],
      "text/plain": [
       "   ID                                              TITLE  \\\n",
       "0   1  Fed official says weak data caused by weather,...   \n",
       "1   2  Fed's Charles Plosser sees high bar for change...   \n",
       "2   3  US open: Stocks fall after Fed official hints ...   \n",
       "3   4  Fed risks falling 'behind the curve', Charles ...   \n",
       "4   5  Fed's Plosser: Nasty Weather Has Curbed Job Gr...   \n",
       "\n",
       "                                                 URL          PUBLISHER  \\\n",
       "0  http://www.latimes.com/business/money/la-fi-mo...  Los Angeles Times   \n",
       "1  http://www.livemint.com/Politics/H2EvwJSK2VE6O...           Livemint   \n",
       "2  http://www.ifamagazine.com/news/us-open-stocks...       IFA Magazine   \n",
       "3  http://www.ifamagazine.com/news/fed-risks-fall...       IFA Magazine   \n",
       "4  http://www.moneynews.com/Economy/federal-reser...          Moneynews   \n",
       "\n",
       "  CATEGORY                          STORY             HOSTNAME      TIMESTAMP  \n",
       "0        b  ddUyU0VZz0BRneMioxUPQVP6sIxvM      www.latimes.com  1394470370698  \n",
       "1        b  ddUyU0VZz0BRneMioxUPQVP6sIxvM     www.livemint.com  1394470371207  \n",
       "2        b  ddUyU0VZz0BRneMioxUPQVP6sIxvM  www.ifamagazine.com  1394470371550  \n",
       "3        b  ddUyU0VZz0BRneMioxUPQVP6sIxvM  www.ifamagazine.com  1394470371793  \n",
       "4        b  ddUyU0VZz0BRneMioxUPQVP6sIxvM    www.moneynews.com  1394470372027  "
      ]
     },
     "execution_count": 3,
     "metadata": {},
     "output_type": "execute_result"
    }
   ],
   "source": [
    "#first six rows\n",
    "news.head()"
   ]
  },
  {
   "cell_type": "code",
   "execution_count": 4,
   "metadata": {},
   "outputs": [],
   "source": [
    "#lowercase text and removing punctuation in title to have smaller size of model in future\n",
    "import string\n",
    "\n",
    "def normalize(s):\n",
    "    s = s.lower()\n",
    "    s = s.translate(str.maketrans('','', string.punctuation))\n",
    "    return s\n",
    "\n",
    "news['TITLE'] = [normalize(s) for s in news['TITLE']]\n",
    "    "
   ]
  },
  {
   "cell_type": "code",
   "execution_count": 5,
   "metadata": {},
   "outputs": [
    {
     "data": {
      "text/html": [
       "<div>\n",
       "<style scoped>\n",
       "    .dataframe tbody tr th:only-of-type {\n",
       "        vertical-align: middle;\n",
       "    }\n",
       "\n",
       "    .dataframe tbody tr th {\n",
       "        vertical-align: top;\n",
       "    }\n",
       "\n",
       "    .dataframe thead th {\n",
       "        text-align: right;\n",
       "    }\n",
       "</style>\n",
       "<table border=\"1\" class=\"dataframe\">\n",
       "  <thead>\n",
       "    <tr style=\"text-align: right;\">\n",
       "      <th></th>\n",
       "      <th>ID</th>\n",
       "      <th>TITLE</th>\n",
       "      <th>URL</th>\n",
       "      <th>PUBLISHER</th>\n",
       "      <th>CATEGORY</th>\n",
       "      <th>STORY</th>\n",
       "      <th>HOSTNAME</th>\n",
       "      <th>TIMESTAMP</th>\n",
       "    </tr>\n",
       "  </thead>\n",
       "  <tbody>\n",
       "    <tr>\n",
       "      <th>0</th>\n",
       "      <td>1</td>\n",
       "      <td>fed official says weak data caused by weather ...</td>\n",
       "      <td>http://www.latimes.com/business/money/la-fi-mo...</td>\n",
       "      <td>Los Angeles Times</td>\n",
       "      <td>b</td>\n",
       "      <td>ddUyU0VZz0BRneMioxUPQVP6sIxvM</td>\n",
       "      <td>www.latimes.com</td>\n",
       "      <td>1394470370698</td>\n",
       "    </tr>\n",
       "    <tr>\n",
       "      <th>1</th>\n",
       "      <td>2</td>\n",
       "      <td>feds charles plosser sees high bar for change ...</td>\n",
       "      <td>http://www.livemint.com/Politics/H2EvwJSK2VE6O...</td>\n",
       "      <td>Livemint</td>\n",
       "      <td>b</td>\n",
       "      <td>ddUyU0VZz0BRneMioxUPQVP6sIxvM</td>\n",
       "      <td>www.livemint.com</td>\n",
       "      <td>1394470371207</td>\n",
       "    </tr>\n",
       "    <tr>\n",
       "      <th>2</th>\n",
       "      <td>3</td>\n",
       "      <td>us open stocks fall after fed official hints a...</td>\n",
       "      <td>http://www.ifamagazine.com/news/us-open-stocks...</td>\n",
       "      <td>IFA Magazine</td>\n",
       "      <td>b</td>\n",
       "      <td>ddUyU0VZz0BRneMioxUPQVP6sIxvM</td>\n",
       "      <td>www.ifamagazine.com</td>\n",
       "      <td>1394470371550</td>\n",
       "    </tr>\n",
       "    <tr>\n",
       "      <th>3</th>\n",
       "      <td>4</td>\n",
       "      <td>fed risks falling behind the curve charles plo...</td>\n",
       "      <td>http://www.ifamagazine.com/news/fed-risks-fall...</td>\n",
       "      <td>IFA Magazine</td>\n",
       "      <td>b</td>\n",
       "      <td>ddUyU0VZz0BRneMioxUPQVP6sIxvM</td>\n",
       "      <td>www.ifamagazine.com</td>\n",
       "      <td>1394470371793</td>\n",
       "    </tr>\n",
       "    <tr>\n",
       "      <th>4</th>\n",
       "      <td>5</td>\n",
       "      <td>feds plosser nasty weather has curbed job growth</td>\n",
       "      <td>http://www.moneynews.com/Economy/federal-reser...</td>\n",
       "      <td>Moneynews</td>\n",
       "      <td>b</td>\n",
       "      <td>ddUyU0VZz0BRneMioxUPQVP6sIxvM</td>\n",
       "      <td>www.moneynews.com</td>\n",
       "      <td>1394470372027</td>\n",
       "    </tr>\n",
       "  </tbody>\n",
       "</table>\n",
       "</div>"
      ],
      "text/plain": [
       "   ID                                              TITLE  \\\n",
       "0   1  fed official says weak data caused by weather ...   \n",
       "1   2  feds charles plosser sees high bar for change ...   \n",
       "2   3  us open stocks fall after fed official hints a...   \n",
       "3   4  fed risks falling behind the curve charles plo...   \n",
       "4   5   feds plosser nasty weather has curbed job growth   \n",
       "\n",
       "                                                 URL          PUBLISHER  \\\n",
       "0  http://www.latimes.com/business/money/la-fi-mo...  Los Angeles Times   \n",
       "1  http://www.livemint.com/Politics/H2EvwJSK2VE6O...           Livemint   \n",
       "2  http://www.ifamagazine.com/news/us-open-stocks...       IFA Magazine   \n",
       "3  http://www.ifamagazine.com/news/fed-risks-fall...       IFA Magazine   \n",
       "4  http://www.moneynews.com/Economy/federal-reser...          Moneynews   \n",
       "\n",
       "  CATEGORY                          STORY             HOSTNAME      TIMESTAMP  \n",
       "0        b  ddUyU0VZz0BRneMioxUPQVP6sIxvM      www.latimes.com  1394470370698  \n",
       "1        b  ddUyU0VZz0BRneMioxUPQVP6sIxvM     www.livemint.com  1394470371207  \n",
       "2        b  ddUyU0VZz0BRneMioxUPQVP6sIxvM  www.ifamagazine.com  1394470371550  \n",
       "3        b  ddUyU0VZz0BRneMioxUPQVP6sIxvM  www.ifamagazine.com  1394470371793  \n",
       "4        b  ddUyU0VZz0BRneMioxUPQVP6sIxvM    www.moneynews.com  1394470372027  "
      ]
     },
     "execution_count": 5,
     "metadata": {},
     "output_type": "execute_result"
    }
   ],
   "source": [
    "#first six rows\n",
    "news.head()"
   ]
  },
  {
   "cell_type": "code",
   "execution_count": 6,
   "metadata": {},
   "outputs": [
    {
     "data": {
      "text/plain": [
       "array(['b', 't', 'e', 'm'], dtype=object)"
      ]
     },
     "execution_count": 6,
     "metadata": {},
     "output_type": "execute_result"
    }
   ],
   "source": [
    "news['CATEGORY'].unique()"
   ]
  },
  {
   "cell_type": "code",
   "execution_count": 7,
   "metadata": {},
   "outputs": [
    {
     "data": {
      "text/plain": [
       "<matplotlib.axes._subplots.AxesSubplot at 0xe30df05710>"
      ]
     },
     "execution_count": 7,
     "metadata": {},
     "output_type": "execute_result"
    },
    {
     "data": {
      "image/png": "[encoded data removed]",
      "text/plain": [
       "<matplotlib.figure.Figure at 0xe30d61eb38>"
      ]
     },
     "metadata": {},
     "output_type": "display_data"
    }
   ],
   "source": [
    "news['CATEGORY'].value_counts().plot(kind='bar')"
   ]
  },
  {
   "cell_type": "code",
   "execution_count": 8,
   "metadata": {},
   "outputs": [],
   "source": [
    "#import vectorizers and transformer\n",
    "#use CountVectorizer + TfidfTransformer | TfidfVectorizer\n",
    "from sklearn.feature_extraction.text import CountVectorizer, TfidfVectorizer, TfidfTransformer\n",
    "\n",
    "###### USE WITHOUT PIPELINE ########\n",
    "#vectorize text in title\n",
    "#vectorizer = CountVectorizer(stop_words = 'english')\n",
    "#x_data = vectorizer.fit_transform(news['TITLE'])"
   ]
  },
  {
   "cell_type": "code",
   "execution_count": 9,
   "metadata": {},
   "outputs": [],
   "source": [
    "# taken from Ritchie Ng post \"Vectorization, Multinomial Naive Bayes Classifier and Evaluation\"\n",
    "# http://www.ritchieng.com/machine-learning-multinomial-naive-bayes-vectorization/\n",
    "\n",
    "# Why are we splitting into training and testing sets before vectorizing?\n",
    "\n",
    "# If we vectorize then we train/test split, our document-term matrix would contain every single feature (word) \n",
    "# in the test and training sets\n",
    "# What we want is to simulate the real world\n",
    "# We would always see words we have not seen before\n",
    "# so this method is not realistic and we cannot properly evaluate our models\n",
    "# Split then vectorize (correct way)\n",
    "\n",
    "# We do the train/test split before the CountVectorizer to properly simulate the real world\n",
    "# where our future data contains words we have not seen before\n",
    "# After you train your data and chose the best model,\n",
    "# you would then train on all of your data before predicting actual future data to maximize learning."
   ]
  },
  {
   "cell_type": "code",
   "execution_count": 10,
   "metadata": {},
   "outputs": [
    {
     "name": "stdout",
     "output_type": "stream",
     "text": [
      "(316814,)\n",
      "(105605,)\n"
     ]
    }
   ],
   "source": [
    "#split data into train and test subsets\n",
    "from sklearn.model_selection import train_test_split\n",
    "\n",
    "#X_train, X_test, y_train, y_test = train_test_split(x_data, news['CATEGORY'], random_state=42)\n",
    "X_train, X_test, y_train, y_test = train_test_split(news['TITLE'], news['CATEGORY'], random_state=42)\n",
    "\n",
    "print(X_train.shape)\n",
    "print(X_test.shape)\n",
    "#(observations - labels(unique word), occurences - number of unique words in all corpus of headlines)"
   ]
  },
  {
   "cell_type": "code",
   "execution_count": 11,
   "metadata": {},
   "outputs": [],
   "source": [
    "#building a classifier\n",
    "from sklearn.naive_bayes import MultinomialNB\n",
    "\n",
    "###### USE WITHOUT PIPELINE ########\n",
    "#clf_mnb = MultinomialNB(alpha=.01).fit(X_train, y_train)"
   ]
  },
  {
   "cell_type": "code",
   "execution_count": 12,
   "metadata": {},
   "outputs": [],
   "source": [
    "###### USE WITHOUT PIPELINE ########\n",
    "#testing on test data\n",
    "#predicted = clf_mnb.predict(X_test)\n",
    "#np.mean(predicted == y_test)"
   ]
  },
  {
   "cell_type": "code",
   "execution_count": 13,
   "metadata": {},
   "outputs": [],
   "source": [
    "###### USE WITHOUT PIPELINE ########\n",
    "#alternative to above & np\n",
    "#clf_mnb.score(X_test, y_test)"
   ]
  },
  {
   "cell_type": "code",
   "execution_count": 14,
   "metadata": {},
   "outputs": [],
   "source": [
    "#predicted"
   ]
  },
  {
   "cell_type": "code",
   "execution_count": 15,
   "metadata": {},
   "outputs": [],
   "source": [
    "#to check all out metricts\n",
    "from sklearn import metrics\n",
    "\n",
    "#metrics.f1_score(y_test, predicted, average='macro')"
   ]
  },
  {
   "cell_type": "code",
   "execution_count": 16,
   "metadata": {},
   "outputs": [],
   "source": [
    "from sklearn.metrics import classification_report\n",
    "#print(classification_report(y_test, predicted))"
   ]
  },
  {
   "cell_type": "code",
   "execution_count": 17,
   "metadata": {
    "scrolled": true
   },
   "outputs": [],
   "source": [
    "#pipeline for Naive Bayse classifier\n",
    "\n",
    "from sklearn.pipeline import Pipeline\n",
    "clf_mnb = Pipeline([\n",
    "        ('vect', CountVectorizer(stop_words='english')),\n",
    "        #('tfidf', TfidfTransformer()),\n",
    "        ('clf', MultinomialNB(alpha=.01)),\n",
    "    ])\n"
   ]
  },
  {
   "cell_type": "code",
   "execution_count": 18,
   "metadata": {},
   "outputs": [],
   "source": [
    "#.fit(train) - learns the vocabulary of the training data\n",
    "clf_mnb = clf_mnb.fit(X_train, y_train)"
   ]
  },
  {
   "cell_type": "code",
   "execution_count": 19,
   "metadata": {},
   "outputs": [
    {
     "data": {
      "text/plain": [
       "0.9295109133090289"
      ]
     },
     "execution_count": 19,
     "metadata": {},
     "output_type": "execute_result"
    }
   ],
   "source": [
    "# apply on text data\n",
    "\n",
    "predicted = clf_mnb.predict(X_test)\n",
    "np.mean(predicted == y_test)"
   ]
  },
  {
   "cell_type": "code",
   "execution_count": 20,
   "metadata": {},
   "outputs": [],
   "source": [
    "#tune params in GridSearchCV\n",
    "\n",
    "from sklearn.model_selection import GridSearchCV\n",
    "\n",
    "parameters = {'vect__ngram_range': [(1, 1), (1, 2)],\n",
    "              #'tfidf__use_idf': (True, False),\n",
    "              'clf__alpha': (1e-2, 1e-3),\n",
    "}\n",
    "gs_clf_mnb = GridSearchCV(clf_mnb, parameters, n_jobs=-1)\n",
    "gs_clf_mnb = gs_clf_mnb.fit(X_train, y_train)"
   ]
  },
  {
   "cell_type": "code",
   "execution_count": 21,
   "metadata": {},
   "outputs": [
    {
     "data": {
      "text/plain": [
       "0.9490142481077225"
      ]
     },
     "execution_count": 21,
     "metadata": {},
     "output_type": "execute_result"
    }
   ],
   "source": [
    "#check out best score with tuned params\n",
    "gs_clf_mnb.best_score_"
   ]
  },
  {
   "cell_type": "code",
   "execution_count": 22,
   "metadata": {},
   "outputs": [
    {
     "data": {
      "text/plain": [
       "{'clf__alpha': 0.01, 'vect__ngram_range': (1, 2)}"
      ]
     },
     "execution_count": 22,
     "metadata": {},
     "output_type": "execute_result"
    }
   ],
   "source": [
    "#best params for clf\n",
    "gs_clf_mnb.best_params_"
   ]
  },
  {
   "cell_type": "code",
   "execution_count": 23,
   "metadata": {},
   "outputs": [
    {
     "data": {
      "text/plain": [
       "0.9521897637422471"
      ]
     },
     "execution_count": 23,
     "metadata": {},
     "output_type": "execute_result"
    }
   ],
   "source": [
    "#apply GridSearch params on test data\n",
    "predicted = gs_clf_mnb.predict(X_test)\n",
    "np.mean(predicted == y_test)"
   ]
  },
  {
   "cell_type": "code",
   "execution_count": 24,
   "metadata": {},
   "outputs": [
    {
     "name": "stdout",
     "output_type": "stream",
     "text": [
      "             precision    recall  f1-score   support\n",
      "\n",
      "          b       0.94      0.93      0.93     29117\n",
      "          e       0.98      0.98      0.98     37988\n",
      "          m       0.95      0.95      0.95     11319\n",
      "          t       0.93      0.94      0.94     27181\n",
      "\n",
      "avg / total       0.95      0.95      0.95    105605\n",
      "\n"
     ]
    }
   ],
   "source": [
    "from sklearn.metrics import classification_report\n",
    "\n",
    "#classification_report(y_true, y_pred, labels=None, target_names=None, sample_weight=None, digits=2)\n",
    "#y_true = Ground truth (correct) target values.\n",
    "#y_pred = Estimated targets as returned by a classifier.\n",
    "print(classification_report(y_test, predicted))"
   ]
  },
  {
   "cell_type": "code",
   "execution_count": 25,
   "metadata": {},
   "outputs": [
    {
     "name": "stdout",
     "output_type": "stream",
     "text": [
      "[[27155   345   298  1319]\n",
      " [  333 37157   129   369]\n",
      " [  279   207 10712   121]\n",
      " [ 1225   309   115 25532]]\n"
     ]
    }
   ],
   "source": [
    "#confusion matrix for gs_clf_mnb\n",
    "from sklearn.metrics import confusion_matrix\n",
    "print(confusion_matrix(y_test, predicted))"
   ]
  },
  {
   "cell_type": "code",
   "execution_count": 26,
   "metadata": {},
   "outputs": [
    {
     "name": "stdout",
     "output_type": "stream",
     "text": [
      "Accuracy score:  0.9521897637422471\n",
      "Recall score:  0.9521897637422471\n",
      "Precision score:  0.9521917994708027\n",
      "F1 score:  0.9521866148926127\n"
     ]
    }
   ],
   "source": [
    "from sklearn.metrics import accuracy_score, recall_score, precision_score, f1_score\n",
    "\n",
    "print(\"Accuracy score: \", accuracy_score(y_test, predicted))\n",
    "print(\"Recall score: \", recall_score(y_test, predicted, average = 'weighted'))\n",
    "print(\"Precision score: \", precision_score(y_test, predicted, average = 'weighted'))\n",
    "print(\"F1 score: \", f1_score(y_test, predicted, average = 'weighted'))"
   ]
  },
  {
   "cell_type": "code",
   "execution_count": 27,
   "metadata": {},
   "outputs": [
    {
     "data": {
      "text/plain": [
       "array([0.36135082, 0.36135082, 0.36135082, ..., 0.36135082, 0.36135082,\n",
       "       0.36135082])"
      ]
     },
     "execution_count": 27,
     "metadata": {},
     "output_type": "execute_result"
    }
   ],
   "source": [
    "# calculate predicted probabilities for predicted (well calibrated)\n",
    "# probabilities for positive label only [:, 1]\n",
    "y_pred_prob_mnb = gs_clf_mnb.predict_proba(predicted)[:, 1]\n",
    "y_pred_prob_mnb"
   ]
  },
  {
   "cell_type": "code",
   "execution_count": 28,
   "metadata": {},
   "outputs": [],
   "source": [
    "#check false negatives\n",
    "#false_n = X_test[predicted < y_test]\n",
    "#false_n"
   ]
  },
  {
   "cell_type": "code",
   "execution_count": 29,
   "metadata": {},
   "outputs": [],
   "source": [
    "from sklearn.svm import LinearSVC\n",
    "from sklearn.svm import SVC\n",
    "from sklearn.calibration import CalibratedClassifierCV\n",
    "# Pipeline for SVM Classifier\n",
    "from sklearn.linear_model import SGDClassifier\n",
    "from sklearn.pipeline import Pipeline\n",
    "\n",
    "#using calibrated classifier to predict probabilities for each label\n",
    "clf_svm = Pipeline([\n",
    "        ('vect', CountVectorizer(stop_words='english')),\n",
    "        #('clf', SGDClassifier(loss='hinge', alpha=1e-3, max_iter=5, random_state=42)),\n",
    "        ('clf', CalibratedClassifierCV(LinearSVC(loss='squared_hinge', max_iter=5, random_state=42))),\n",
    "    ])"
   ]
  },
  {
   "cell_type": "code",
   "execution_count": 30,
   "metadata": {},
   "outputs": [
    {
     "name": "stderr",
     "output_type": "stream",
     "text": [
      "c:\\users\\kzaytseva\\appdata\\local\\continuum\\anaconda3_new\\envs\\textclass\\lib\\site-packages\\sklearn\\calibration.py:435: RuntimeWarning: overflow encountered in exp\n",
      "  E = np.exp(AB[0] * F + AB[1])\n",
      "c:\\users\\kzaytseva\\appdata\\local\\continuum\\anaconda3_new\\envs\\textclass\\lib\\site-packages\\sklearn\\calibration.py:445: RuntimeWarning: overflow encountered in exp\n",
      "  E = np.exp(AB[0] * F + AB[1])\n",
      "c:\\users\\kzaytseva\\appdata\\local\\continuum\\anaconda3_new\\envs\\textclass\\lib\\site-packages\\sklearn\\calibration.py:447: RuntimeWarning: invalid value encountered in multiply\n",
      "  TEP_minus_T1P = P * (T * E - T1)\n",
      "c:\\users\\kzaytseva\\appdata\\local\\continuum\\anaconda3_new\\envs\\textclass\\lib\\site-packages\\sklearn\\calibration.py:435: RuntimeWarning: overflow encountered in exp\n",
      "  E = np.exp(AB[0] * F + AB[1])\n",
      "c:\\users\\kzaytseva\\appdata\\local\\continuum\\anaconda3_new\\envs\\textclass\\lib\\site-packages\\sklearn\\calibration.py:445: RuntimeWarning: overflow encountered in exp\n",
      "  E = np.exp(AB[0] * F + AB[1])\n",
      "c:\\users\\kzaytseva\\appdata\\local\\continuum\\anaconda3_new\\envs\\textclass\\lib\\site-packages\\sklearn\\calibration.py:447: RuntimeWarning: invalid value encountered in multiply\n",
      "  TEP_minus_T1P = P * (T * E - T1)\n",
      "c:\\users\\kzaytseva\\appdata\\local\\continuum\\anaconda3_new\\envs\\textclass\\lib\\site-packages\\sklearn\\calibration.py:510: RuntimeWarning: overflow encountered in exp\n",
      "  return 1. / (1. + np.exp(self.a_ * T + self.b_))\n"
     ]
    },
    {
     "data": {
      "text/plain": [
       "0.9437810709720184"
      ]
     },
     "execution_count": 30,
     "metadata": {},
     "output_type": "execute_result"
    }
   ],
   "source": [
    "clf_svm = clf_svm.fit(X_train, y_train)\n",
    "predicted = clf_svm.predict(X_test)\n",
    "np.mean(predicted == y_test)"
   ]
  },
  {
   "cell_type": "code",
   "execution_count": 31,
   "metadata": {},
   "outputs": [
    {
     "name": "stderr",
     "output_type": "stream",
     "text": [
      "c:\\users\\kzaytseva\\appdata\\local\\continuum\\anaconda3_new\\envs\\textclass\\lib\\site-packages\\sklearn\\calibration.py:435: RuntimeWarning: overflow encountered in exp\n",
      "  E = np.exp(AB[0] * F + AB[1])\n",
      "c:\\users\\kzaytseva\\appdata\\local\\continuum\\anaconda3_new\\envs\\textclass\\lib\\site-packages\\sklearn\\calibration.py:445: RuntimeWarning: overflow encountered in exp\n",
      "  E = np.exp(AB[0] * F + AB[1])\n",
      "c:\\users\\kzaytseva\\appdata\\local\\continuum\\anaconda3_new\\envs\\textclass\\lib\\site-packages\\sklearn\\calibration.py:447: RuntimeWarning: invalid value encountered in multiply\n",
      "  TEP_minus_T1P = P * (T * E - T1)\n",
      "c:\\users\\kzaytseva\\appdata\\local\\continuum\\anaconda3_new\\envs\\textclass\\lib\\site-packages\\sklearn\\calibration.py:435: RuntimeWarning: overflow encountered in exp\n",
      "  E = np.exp(AB[0] * F + AB[1])\n",
      "c:\\users\\kzaytseva\\appdata\\local\\continuum\\anaconda3_new\\envs\\textclass\\lib\\site-packages\\sklearn\\calibration.py:445: RuntimeWarning: overflow encountered in exp\n",
      "  E = np.exp(AB[0] * F + AB[1])\n",
      "c:\\users\\kzaytseva\\appdata\\local\\continuum\\anaconda3_new\\envs\\textclass\\lib\\site-packages\\sklearn\\calibration.py:447: RuntimeWarning: invalid value encountered in multiply\n",
      "  TEP_minus_T1P = P * (T * E - T1)\n"
     ]
    },
    {
     "data": {
      "text/plain": [
       "0.9516940539243847"
      ]
     },
     "execution_count": 31,
     "metadata": {},
     "output_type": "execute_result"
    }
   ],
   "source": [
    "# GridSearch for SVM\n",
    "\n",
    "parameters = {'vect__ngram_range': [(1, 1), (1, 2)],\n",
    "              #'clf__C': [1],\n",
    "}\n",
    "gs_clf_svm = GridSearchCV(clf_svm, parameters, n_jobs=-1)\n",
    "gs_clf_svm = gs_clf_svm.fit(X_train, y_train)\n",
    "gs_clf_svm.best_score_"
   ]
  },
  {
   "cell_type": "code",
   "execution_count": 32,
   "metadata": {},
   "outputs": [
    {
     "data": {
      "text/plain": [
       "{'vect__ngram_range': (1, 2)}"
      ]
     },
     "execution_count": 32,
     "metadata": {},
     "output_type": "execute_result"
    }
   ],
   "source": [
    "gs_clf_svm.best_params_"
   ]
  },
  {
   "cell_type": "code",
   "execution_count": 33,
   "metadata": {},
   "outputs": [
    {
     "name": "stderr",
     "output_type": "stream",
     "text": [
      "c:\\users\\kzaytseva\\appdata\\local\\continuum\\anaconda3_new\\envs\\textclass\\lib\\site-packages\\sklearn\\calibration.py:510: RuntimeWarning: overflow encountered in exp\n",
      "  return 1. / (1. + np.exp(self.a_ * T + self.b_))\n"
     ]
    },
    {
     "data": {
      "text/plain": [
       "0.9529094266369964"
      ]
     },
     "execution_count": 33,
     "metadata": {},
     "output_type": "execute_result"
    }
   ],
   "source": [
    "# apply GridSearch params svm on test data\n",
    "predicted = gs_clf_svm.predict(X_test)\n",
    "np.mean(predicted == y_test)"
   ]
  },
  {
   "cell_type": "code",
   "execution_count": 34,
   "metadata": {},
   "outputs": [
    {
     "name": "stdout",
     "output_type": "stream",
     "text": [
      "             precision    recall  f1-score   support\n",
      "\n",
      "          b       0.94      0.93      0.93     29117\n",
      "          e       0.98      0.98      0.98     37988\n",
      "          m       0.96      0.94      0.95     11319\n",
      "          t       0.93      0.95      0.94     27181\n",
      "\n",
      "avg / total       0.95      0.95      0.95    105605\n",
      "\n"
     ]
    }
   ],
   "source": [
    "print(classification_report(y_test, predicted))"
   ]
  },
  {
   "cell_type": "code",
   "execution_count": 35,
   "metadata": {},
   "outputs": [
    {
     "name": "stdout",
     "output_type": "stream",
     "text": [
      "[[26940   350   233  1594]\n",
      " [  390 37283   100   215]\n",
      " [  347   193 10681    98]\n",
      " [ 1015   351    87 25728]]\n"
     ]
    }
   ],
   "source": [
    "# confusion matrix for gs_clf_svm\n",
    "print(confusion_matrix(y_test, predicted))"
   ]
  },
  {
   "cell_type": "code",
   "execution_count": 36,
   "metadata": {},
   "outputs": [
    {
     "name": "stdout",
     "output_type": "stream",
     "text": [
      "Accuracy score:  0.9529094266369964\n",
      "Recall score:  0.9529094266369964\n",
      "Precision score:  0.9529241561236163\n",
      "F1 score:  0.9528745020939905\n"
     ]
    }
   ],
   "source": [
    "print(\"Accuracy score: \", accuracy_score(y_test, predicted))\n",
    "print(\"Recall score: \", recall_score(y_test, predicted, average = 'weighted'))\n",
    "print(\"Precision score: \", precision_score(y_test, predicted, average = 'weighted'))\n",
    "print(\"F1 score: \", f1_score(y_test, predicted, average = 'weighted'))"
   ]
  },
  {
   "cell_type": "code",
   "execution_count": 37,
   "metadata": {},
   "outputs": [
    {
     "data": {
      "text/plain": [
       "array([[0.39107961, 0.38569512, 0.0763487 , 0.14687657],\n",
       "       [0.39107961, 0.38569512, 0.0763487 , 0.14687657],\n",
       "       [0.39107961, 0.38569512, 0.0763487 , 0.14687657],\n",
       "       ...,\n",
       "       [0.39107961, 0.38569512, 0.0763487 , 0.14687657],\n",
       "       [0.39107961, 0.38569512, 0.0763487 , 0.14687657],\n",
       "       [0.39107961, 0.38569512, 0.0763487 , 0.14687657]])"
      ]
     },
     "execution_count": 37,
     "metadata": {},
     "output_type": "execute_result"
    }
   ],
   "source": [
    "# calculate predicted probabilities for predicted (well calibrated)\n",
    "# probabilities for positive label only [:, 1]\n",
    "y_pred_prob_svm = gs_clf_svm.predict_proba(predicted)\n",
    "y_pred_prob_svm"
   ]
  },
  {
   "cell_type": "code",
   "execution_count": 38,
   "metadata": {},
   "outputs": [],
   "source": [
    "# Logistic Regression\n",
    "\n",
    "from sklearn.linear_model import LogisticRegression\n",
    "#from sklearn.multiclass import OneVsRestClassifier\n",
    "#clf_logreg = LogisticRegression()"
   ]
  },
  {
   "cell_type": "code",
   "execution_count": 39,
   "metadata": {},
   "outputs": [],
   "source": [
    "# Pipeline for Logistic Regression\n",
    "\n",
    "clf_logreg = Pipeline([\n",
    "        ('vect', CountVectorizer(stop_words='english')),\n",
    "        ('clf', LogisticRegression(solver='newton-cg', multi_class='multinomial')),\n",
    "    ])"
   ]
  },
  {
   "cell_type": "code",
   "execution_count": 40,
   "metadata": {},
   "outputs": [
    {
     "data": {
      "text/plain": [
       "0.9466407840537854"
      ]
     },
     "execution_count": 40,
     "metadata": {},
     "output_type": "execute_result"
    }
   ],
   "source": [
    "clf_logreg = clf_logreg.fit(X_train, y_train)\n",
    "predicted = clf_logreg.predict(X_test)\n",
    "np.mean(predicted == y_test)"
   ]
  },
  {
   "cell_type": "code",
   "execution_count": 41,
   "metadata": {
    "scrolled": true
   },
   "outputs": [
    {
     "data": {
      "text/plain": [
       "0.9495729355394648"
      ]
     },
     "execution_count": 41,
     "metadata": {},
     "output_type": "execute_result"
    }
   ],
   "source": [
    "# GridSearch for Logistic Regression\n",
    "\n",
    "parameters = {'vect__ngram_range': [(1, 1), (1, 2)],\n",
    "}\n",
    "gs_clf_logreg = GridSearchCV(clf_logreg, parameters, n_jobs=-1)\n",
    "gs_clf_logreg = gs_clf_logreg.fit(X_train, y_train)\n",
    "gs_clf_logreg.best_score_"
   ]
  },
  {
   "cell_type": "code",
   "execution_count": 42,
   "metadata": {},
   "outputs": [
    {
     "data": {
      "text/plain": [
       "{'vect__ngram_range': (1, 2)}"
      ]
     },
     "execution_count": 42,
     "metadata": {},
     "output_type": "execute_result"
    }
   ],
   "source": [
    "gs_clf_logreg.best_params_"
   ]
  },
  {
   "cell_type": "code",
   "execution_count": 43,
   "metadata": {},
   "outputs": [
    {
     "data": {
      "text/plain": [
       "0.9531461578523744"
      ]
     },
     "execution_count": 43,
     "metadata": {},
     "output_type": "execute_result"
    }
   ],
   "source": [
    "# apply GridSearch params logreg on test data\n",
    "predicted = gs_clf_logreg.predict(X_test)\n",
    "np.mean(predicted == y_test)"
   ]
  },
  {
   "cell_type": "code",
   "execution_count": 44,
   "metadata": {},
   "outputs": [
    {
     "name": "stdout",
     "output_type": "stream",
     "text": [
      "             precision    recall  f1-score   support\n",
      "\n",
      "          b       0.93      0.94      0.94     29117\n",
      "          e       0.97      0.98      0.98     37988\n",
      "          m       0.97      0.93      0.95     11319\n",
      "          t       0.94      0.94      0.94     27181\n",
      "\n",
      "avg / total       0.95      0.95      0.95    105605\n",
      "\n"
     ]
    }
   ],
   "source": [
    "print(classification_report(y_test, predicted))"
   ]
  },
  {
   "cell_type": "code",
   "execution_count": 45,
   "metadata": {},
   "outputs": [
    {
     "name": "stdout",
     "output_type": "stream",
     "text": [
      "[[27404   387   191  1135]\n",
      " [  379 37267    97   245]\n",
      " [  387   250 10546   136]\n",
      " [ 1273   386    82 25440]]\n"
     ]
    }
   ],
   "source": [
    "# confusion matrix for gs_clf_logreg\n",
    "print(confusion_matrix(y_test, predicted))"
   ]
  },
  {
   "cell_type": "code",
   "execution_count": 46,
   "metadata": {},
   "outputs": [
    {
     "name": "stdout",
     "output_type": "stream",
     "text": [
      "Accuracy score:  0.9531461578523744\n",
      "Recall score:  0.9531461578523744\n",
      "Precision score:  0.9531871706999675\n",
      "F1 score:  0.9531155680256468\n"
     ]
    }
   ],
   "source": [
    "print(\"Accuracy score: \", accuracy_score(y_test, predicted))\n",
    "print(\"Recall score: \", recall_score(y_test, predicted, average = 'weighted'))\n",
    "print(\"Precision score: \", precision_score(y_test, predicted, average = 'weighted'))\n",
    "print(\"F1 score: \", f1_score(y_test, predicted, average = 'weighted'))"
   ]
  },
  {
   "cell_type": "code",
   "execution_count": 47,
   "metadata": {},
   "outputs": [],
   "source": [
    "import matplotlib.pyplot as plt\n",
    "import scikitplot as skplt"
   ]
  },
  {
   "cell_type": "code",
   "execution_count": 48,
   "metadata": {},
   "outputs": [
    {
     "data": {
      "text/plain": [
       "<matplotlib.axes._subplots.AxesSubplot at 0xe3176188d0>"
      ]
     },
     "execution_count": 48,
     "metadata": {},
     "output_type": "execute_result"
    },
    {
     "data": {
      "image/png": "[encoded data removed]",
      "text/plain": [
       "<matplotlib.figure.Figure at 0xe32303d208>"
      ]
     },
     "metadata": {},
     "output_type": "display_data"
    }
   ],
   "source": [
    "skplt.metrics.plot_confusion_matrix(y_test, predicted)"
   ]
  },
  {
   "cell_type": "code",
   "execution_count": 49,
   "metadata": {},
   "outputs": [
    {
     "data": {
      "text/plain": [
       "<matplotlib.axes._subplots.AxesSubplot at 0xe315ec3ba8>"
      ]
     },
     "execution_count": 49,
     "metadata": {},
     "output_type": "execute_result"
    },
    {
     "data": {
      "image/png": "[encoded data removed]",
      "text/plain": [
       "<matplotlib.figure.Figure at 0xe31e9f2278>"
      ]
     },
     "metadata": {},
     "output_type": "display_data"
    }
   ],
   "source": [
    "skplt.metrics.plot_confusion_matrix(y_test, predicted, normalize=True)"
   ]
  },
  {
   "cell_type": "code",
   "execution_count": 50,
   "metadata": {},
   "outputs": [
    {
     "data": {
      "text/plain": [
       "array([0.36196559, 0.36196559, 0.36196559, ..., 0.36196559, 0.36196559,\n",
       "       0.36196559])"
      ]
     },
     "execution_count": 50,
     "metadata": {},
     "output_type": "execute_result"
    }
   ],
   "source": [
    "# calculate predicted probabilities for predicted (well calibrated)\n",
    "# probabilities for positive label only [:, 1]\n",
    "y_pred_prob_logreg = gs_clf_logreg.predict_proba(predicted)[:, 1]\n",
    "y_pred_prob_logreg"
   ]
  },
  {
   "cell_type": "code",
   "execution_count": 51,
   "metadata": {},
   "outputs": [
    {
     "data": {
      "text/plain": [
       "0.9531461578523744"
      ]
     },
     "execution_count": 51,
     "metadata": {},
     "output_type": "execute_result"
    }
   ],
   "source": [
    "# calculate accuracy\n",
    "metrics.accuracy_score(y_test, predicted)"
   ]
  },
  {
   "cell_type": "code",
   "execution_count": 76,
   "metadata": {},
   "outputs": [
    {
     "name": "stdout",
     "output_type": "stream",
     "text": [
      "classif_rate for MNB : 95.218976 \n"
     ]
    },
    {
     "name": "stderr",
     "output_type": "stream",
     "text": [
      "c:\\users\\kzaytseva\\appdata\\local\\continuum\\anaconda3_new\\envs\\textclass\\lib\\site-packages\\ipykernel_launcher.py:37: FutureWarning: elementwise comparison failed; returning scalar instead, but in the future will perform elementwise comparison\n",
      "c:\\users\\kzaytseva\\appdata\\local\\continuum\\anaconda3_new\\envs\\textclass\\lib\\site-packages\\sklearn\\calibration.py:435: RuntimeWarning: overflow encountered in exp\n",
      "  E = np.exp(AB[0] * F + AB[1])\n",
      "c:\\users\\kzaytseva\\appdata\\local\\continuum\\anaconda3_new\\envs\\textclass\\lib\\site-packages\\sklearn\\calibration.py:445: RuntimeWarning: overflow encountered in exp\n",
      "  E = np.exp(AB[0] * F + AB[1])\n",
      "c:\\users\\kzaytseva\\appdata\\local\\continuum\\anaconda3_new\\envs\\textclass\\lib\\site-packages\\sklearn\\calibration.py:447: RuntimeWarning: invalid value encountered in multiply\n",
      "  TEP_minus_T1P = P * (T * E - T1)\n",
      "c:\\users\\kzaytseva\\appdata\\local\\continuum\\anaconda3_new\\envs\\textclass\\lib\\site-packages\\sklearn\\calibration.py:435: RuntimeWarning: overflow encountered in exp\n",
      "  E = np.exp(AB[0] * F + AB[1])\n",
      "c:\\users\\kzaytseva\\appdata\\local\\continuum\\anaconda3_new\\envs\\textclass\\lib\\site-packages\\sklearn\\calibration.py:445: RuntimeWarning: overflow encountered in exp\n",
      "  E = np.exp(AB[0] * F + AB[1])\n",
      "c:\\users\\kzaytseva\\appdata\\local\\continuum\\anaconda3_new\\envs\\textclass\\lib\\site-packages\\sklearn\\calibration.py:447: RuntimeWarning: invalid value encountered in multiply\n",
      "  TEP_minus_T1P = P * (T * E - T1)\n",
      "c:\\users\\kzaytseva\\appdata\\local\\continuum\\anaconda3_new\\envs\\textclass\\lib\\site-packages\\sklearn\\calibration.py:510: RuntimeWarning: overflow encountered in exp\n",
      "  return 1. / (1. + np.exp(self.a_ * T + self.b_))\n"
     ]
    },
    {
     "name": "stdout",
     "output_type": "stream",
     "text": [
      "classif_rate for SVM : 95.290943 \n"
     ]
    },
    {
     "name": "stderr",
     "output_type": "stream",
     "text": [
      "c:\\users\\kzaytseva\\appdata\\local\\continuum\\anaconda3_new\\envs\\textclass\\lib\\site-packages\\ipykernel_launcher.py:37: FutureWarning: elementwise comparison failed; returning scalar instead, but in the future will perform elementwise comparison\n"
     ]
    },
    {
     "data": {
      "image/png": "[encoded data removed]",
      "text/plain": [
       "<matplotlib.figure.Figure at 0xe3394fba20>"
      ]
     },
     "metadata": {},
     "output_type": "display_data"
    }
   ],
   "source": [
    "from sklearn import model_selection\n",
    "import matplotlib.pyplot as plt\n",
    "\n",
    "classifiers = {}\n",
    "classifiers.update({'MNB': gs_clf_mnb})\n",
    "classifiers.update({'SVM': gs_clf_svm})\n",
    "#classifiers.update({'LR': gs_clf_logreg})\n",
    "\n",
    "#n of classifiers\n",
    "n_classifiers = len(classifiers)\n",
    "\n",
    "plt.figure(figsize=(3 * 2, n_classifiers * 2))\n",
    "plt.subplots_adjust(bottom=.2, top=.95)\n",
    "\n",
    "xx = np.linspace(3, 9, 100)\n",
    "yy = np.linspace(1, 5, 100).T\n",
    "xx, yy = np.meshgrid(xx, yy)\n",
    "Xfull = np.c_[xx.ravel(), yy.ravel()]\n",
    "\n",
    "for index, (name, classifier) in enumerate(classifiers.items()):\n",
    "    classifier.fit(X_train, y_train)\n",
    "\n",
    "    y_pred = classifier.predict(X_test)\n",
    "    classif_rate = np.mean(y_pred.ravel() == y_test.ravel()) * 100\n",
    "    print(\"classif_rate for %s : %f \" % (name, classif_rate))\n",
    "\n",
    "    probas = classifier.predict_proba(y_pred)\n",
    "    n_classes = np.unique(y_pred).size\n",
    "    for k in range(n_classes):\n",
    "        plt.subplot(n_classifiers, n_classes, index * n_classes + k + 1)\n",
    "        plt.title(\"Class %d\" % k)\n",
    "        if k == 0:\n",
    "            plt.ylabel(name)\n",
    "        imshow_handle = plt.imshow(probas)\n",
    "        plt.xticks(())\n",
    "        plt.yticks(())\n",
    "        idx = (y_pred == k)\n",
    "        if idx:\n",
    "            plt.scatter(X[idx, 0], X[idx, 1], marker='o', c='k')\n",
    "\n",
    "ax = plt.axes([0.15, 0.04, 0.7, 0.05])\n",
    "plt.title(\"Probability\")\n",
    "plt.colorbar(imshow_handle, cax=ax, orientation='horizontal')\n",
    "\n",
    "plt.show()"
   ]
  },
  {
   "cell_type": "code",
   "execution_count": 77,
   "metadata": {},
   "outputs": [],
   "source": [
    "from sklearn.model_selection import cross_val_predict\n",
    "from sklearn import linear_model"
   ]
  },
  {
   "cell_type": "code",
   "execution_count": 78,
   "metadata": {},
   "outputs": [
    {
     "name": "stderr",
     "output_type": "stream",
     "text": [
      "c:\\users\\kzaytseva\\appdata\\local\\continuum\\anaconda3_new\\envs\\textclass\\lib\\site-packages\\sklearn\\calibration.py:435: RuntimeWarning: overflow encountered in exp\n",
      "  E = np.exp(AB[0] * F + AB[1])\n",
      "c:\\users\\kzaytseva\\appdata\\local\\continuum\\anaconda3_new\\envs\\textclass\\lib\\site-packages\\sklearn\\calibration.py:445: RuntimeWarning: overflow encountered in exp\n",
      "  E = np.exp(AB[0] * F + AB[1])\n",
      "c:\\users\\kzaytseva\\appdata\\local\\continuum\\anaconda3_new\\envs\\textclass\\lib\\site-packages\\sklearn\\calibration.py:447: RuntimeWarning: invalid value encountered in multiply\n",
      "  TEP_minus_T1P = P * (T * E - T1)\n",
      "c:\\users\\kzaytseva\\appdata\\local\\continuum\\anaconda3_new\\envs\\textclass\\lib\\site-packages\\sklearn\\calibration.py:435: RuntimeWarning: overflow encountered in exp\n",
      "  E = np.exp(AB[0] * F + AB[1])\n",
      "c:\\users\\kzaytseva\\appdata\\local\\continuum\\anaconda3_new\\envs\\textclass\\lib\\site-packages\\sklearn\\calibration.py:445: RuntimeWarning: overflow encountered in exp\n",
      "  E = np.exp(AB[0] * F + AB[1])\n",
      "c:\\users\\kzaytseva\\appdata\\local\\continuum\\anaconda3_new\\envs\\textclass\\lib\\site-packages\\sklearn\\calibration.py:447: RuntimeWarning: invalid value encountered in multiply\n",
      "  TEP_minus_T1P = P * (T * E - T1)\n",
      "c:\\users\\kzaytseva\\appdata\\local\\continuum\\anaconda3_new\\envs\\textclass\\lib\\site-packages\\sklearn\\calibration.py:435: RuntimeWarning: overflow encountered in exp\n",
      "  E = np.exp(AB[0] * F + AB[1])\n",
      "c:\\users\\kzaytseva\\appdata\\local\\continuum\\anaconda3_new\\envs\\textclass\\lib\\site-packages\\sklearn\\calibration.py:445: RuntimeWarning: overflow encountered in exp\n",
      "  E = np.exp(AB[0] * F + AB[1])\n",
      "c:\\users\\kzaytseva\\appdata\\local\\continuum\\anaconda3_new\\envs\\textclass\\lib\\site-packages\\sklearn\\calibration.py:447: RuntimeWarning: invalid value encountered in multiply\n",
      "  TEP_minus_T1P = P * (T * E - T1)\n",
      "c:\\users\\kzaytseva\\appdata\\local\\continuum\\anaconda3_new\\envs\\textclass\\lib\\site-packages\\sklearn\\calibration.py:435: RuntimeWarning: overflow encountered in exp\n",
      "  E = np.exp(AB[0] * F + AB[1])\n",
      "c:\\users\\kzaytseva\\appdata\\local\\continuum\\anaconda3_new\\envs\\textclass\\lib\\site-packages\\sklearn\\calibration.py:445: RuntimeWarning: overflow encountered in exp\n",
      "  E = np.exp(AB[0] * F + AB[1])\n",
      "c:\\users\\kzaytseva\\appdata\\local\\continuum\\anaconda3_new\\envs\\textclass\\lib\\site-packages\\sklearn\\calibration.py:447: RuntimeWarning: invalid value encountered in multiply\n",
      "  TEP_minus_T1P = P * (T * E - T1)\n",
      "c:\\users\\kzaytseva\\appdata\\local\\continuum\\anaconda3_new\\envs\\textclass\\lib\\site-packages\\sklearn\\calibration.py:435: RuntimeWarning: overflow encountered in exp\n",
      "  E = np.exp(AB[0] * F + AB[1])\n",
      "c:\\users\\kzaytseva\\appdata\\local\\continuum\\anaconda3_new\\envs\\textclass\\lib\\site-packages\\sklearn\\calibration.py:445: RuntimeWarning: overflow encountered in exp\n",
      "  E = np.exp(AB[0] * F + AB[1])\n",
      "c:\\users\\kzaytseva\\appdata\\local\\continuum\\anaconda3_new\\envs\\textclass\\lib\\site-packages\\sklearn\\calibration.py:447: RuntimeWarning: invalid value encountered in multiply\n",
      "  TEP_minus_T1P = P * (T * E - T1)\n",
      "c:\\users\\kzaytseva\\appdata\\local\\continuum\\anaconda3_new\\envs\\textclass\\lib\\site-packages\\sklearn\\calibration.py:435: RuntimeWarning: overflow encountered in exp\n",
      "  E = np.exp(AB[0] * F + AB[1])\n",
      "c:\\users\\kzaytseva\\appdata\\local\\continuum\\anaconda3_new\\envs\\textclass\\lib\\site-packages\\sklearn\\calibration.py:445: RuntimeWarning: overflow encountered in exp\n",
      "  E = np.exp(AB[0] * F + AB[1])\n",
      "c:\\users\\kzaytseva\\appdata\\local\\continuum\\anaconda3_new\\envs\\textclass\\lib\\site-packages\\sklearn\\calibration.py:447: RuntimeWarning: invalid value encountered in multiply\n",
      "  TEP_minus_T1P = P * (T * E - T1)\n",
      "c:\\users\\kzaytseva\\appdata\\local\\continuum\\anaconda3_new\\envs\\textclass\\lib\\site-packages\\sklearn\\calibration.py:435: RuntimeWarning: overflow encountered in exp\n",
      "  E = np.exp(AB[0] * F + AB[1])\n",
      "c:\\users\\kzaytseva\\appdata\\local\\continuum\\anaconda3_new\\envs\\textclass\\lib\\site-packages\\sklearn\\calibration.py:445: RuntimeWarning: overflow encountered in exp\n",
      "  E = np.exp(AB[0] * F + AB[1])\n",
      "c:\\users\\kzaytseva\\appdata\\local\\continuum\\anaconda3_new\\envs\\textclass\\lib\\site-packages\\sklearn\\calibration.py:447: RuntimeWarning: invalid value encountered in multiply\n",
      "  TEP_minus_T1P = P * (T * E - T1)\n",
      "c:\\users\\kzaytseva\\appdata\\local\\continuum\\anaconda3_new\\envs\\textclass\\lib\\site-packages\\sklearn\\calibration.py:435: RuntimeWarning: overflow encountered in exp\n",
      "  E = np.exp(AB[0] * F + AB[1])\n",
      "c:\\users\\kzaytseva\\appdata\\local\\continuum\\anaconda3_new\\envs\\textclass\\lib\\site-packages\\sklearn\\calibration.py:445: RuntimeWarning: overflow encountered in exp\n",
      "  E = np.exp(AB[0] * F + AB[1])\n",
      "c:\\users\\kzaytseva\\appdata\\local\\continuum\\anaconda3_new\\envs\\textclass\\lib\\site-packages\\sklearn\\calibration.py:447: RuntimeWarning: invalid value encountered in multiply\n",
      "  TEP_minus_T1P = P * (T * E - T1)\n",
      "c:\\users\\kzaytseva\\appdata\\local\\continuum\\anaconda3_new\\envs\\textclass\\lib\\site-packages\\sklearn\\calibration.py:435: RuntimeWarning: overflow encountered in exp\n",
      "  E = np.exp(AB[0] * F + AB[1])\n",
      "c:\\users\\kzaytseva\\appdata\\local\\continuum\\anaconda3_new\\envs\\textclass\\lib\\site-packages\\sklearn\\calibration.py:445: RuntimeWarning: overflow encountered in exp\n",
      "  E = np.exp(AB[0] * F + AB[1])\n",
      "c:\\users\\kzaytseva\\appdata\\local\\continuum\\anaconda3_new\\envs\\textclass\\lib\\site-packages\\sklearn\\calibration.py:447: RuntimeWarning: invalid value encountered in multiply\n",
      "  TEP_minus_T1P = P * (T * E - T1)\n",
      "c:\\users\\kzaytseva\\appdata\\local\\continuum\\anaconda3_new\\envs\\textclass\\lib\\site-packages\\sklearn\\calibration.py:435: RuntimeWarning: overflow encountered in exp\n",
      "  E = np.exp(AB[0] * F + AB[1])\n",
      "c:\\users\\kzaytseva\\appdata\\local\\continuum\\anaconda3_new\\envs\\textclass\\lib\\site-packages\\sklearn\\calibration.py:445: RuntimeWarning: overflow encountered in exp\n",
      "  E = np.exp(AB[0] * F + AB[1])\n",
      "c:\\users\\kzaytseva\\appdata\\local\\continuum\\anaconda3_new\\envs\\textclass\\lib\\site-packages\\sklearn\\calibration.py:447: RuntimeWarning: invalid value encountered in multiply\n",
      "  TEP_minus_T1P = P * (T * E - T1)\n",
      "c:\\users\\kzaytseva\\appdata\\local\\continuum\\anaconda3_new\\envs\\textclass\\lib\\site-packages\\sklearn\\calibration.py:435: RuntimeWarning: overflow encountered in exp\n",
      "  E = np.exp(AB[0] * F + AB[1])\n",
      "c:\\users\\kzaytseva\\appdata\\local\\continuum\\anaconda3_new\\envs\\textclass\\lib\\site-packages\\sklearn\\calibration.py:445: RuntimeWarning: overflow encountered in exp\n",
      "  E = np.exp(AB[0] * F + AB[1])\n",
      "c:\\users\\kzaytseva\\appdata\\local\\continuum\\anaconda3_new\\envs\\textclass\\lib\\site-packages\\sklearn\\calibration.py:447: RuntimeWarning: invalid value encountered in multiply\n",
      "  TEP_minus_T1P = P * (T * E - T1)\n",
      "c:\\users\\kzaytseva\\appdata\\local\\continuum\\anaconda3_new\\envs\\textclass\\lib\\site-packages\\sklearn\\calibration.py:435: RuntimeWarning: overflow encountered in exp\n",
      "  E = np.exp(AB[0] * F + AB[1])\n",
      "c:\\users\\kzaytseva\\appdata\\local\\continuum\\anaconda3_new\\envs\\textclass\\lib\\site-packages\\sklearn\\calibration.py:445: RuntimeWarning: overflow encountered in exp\n",
      "  E = np.exp(AB[0] * F + AB[1])\n",
      "c:\\users\\kzaytseva\\appdata\\local\\continuum\\anaconda3_new\\envs\\textclass\\lib\\site-packages\\sklearn\\calibration.py:447: RuntimeWarning: invalid value encountered in multiply\n",
      "  TEP_minus_T1P = P * (T * E - T1)\n",
      "c:\\users\\kzaytseva\\appdata\\local\\continuum\\anaconda3_new\\envs\\textclass\\lib\\site-packages\\sklearn\\calibration.py:510: RuntimeWarning: overflow encountered in exp\n",
      "  return 1. / (1. + np.exp(self.a_ * T + self.b_))\n",
      "c:\\users\\kzaytseva\\appdata\\local\\continuum\\anaconda3_new\\envs\\textclass\\lib\\site-packages\\sklearn\\calibration.py:435: RuntimeWarning: overflow encountered in exp\n",
      "  E = np.exp(AB[0] * F + AB[1])\n",
      "c:\\users\\kzaytseva\\appdata\\local\\continuum\\anaconda3_new\\envs\\textclass\\lib\\site-packages\\sklearn\\calibration.py:445: RuntimeWarning: overflow encountered in exp\n",
      "  E = np.exp(AB[0] * F + AB[1])\n",
      "c:\\users\\kzaytseva\\appdata\\local\\continuum\\anaconda3_new\\envs\\textclass\\lib\\site-packages\\sklearn\\calibration.py:447: RuntimeWarning: invalid value encountered in multiply\n",
      "  TEP_minus_T1P = P * (T * E - T1)\n",
      "c:\\users\\kzaytseva\\appdata\\local\\continuum\\anaconda3_new\\envs\\textclass\\lib\\site-packages\\sklearn\\calibration.py:435: RuntimeWarning: overflow encountered in exp\n",
      "  E = np.exp(AB[0] * F + AB[1])\n",
      "c:\\users\\kzaytseva\\appdata\\local\\continuum\\anaconda3_new\\envs\\textclass\\lib\\site-packages\\sklearn\\calibration.py:445: RuntimeWarning: overflow encountered in exp\n",
      "  E = np.exp(AB[0] * F + AB[1])\n",
      "c:\\users\\kzaytseva\\appdata\\local\\continuum\\anaconda3_new\\envs\\textclass\\lib\\site-packages\\sklearn\\calibration.py:447: RuntimeWarning: invalid value encountered in multiply\n",
      "  TEP_minus_T1P = P * (T * E - T1)\n"
     ]
    },
    {
     "name": "stderr",
     "output_type": "stream",
     "text": [
      "c:\\users\\kzaytseva\\appdata\\local\\continuum\\anaconda3_new\\envs\\textclass\\lib\\site-packages\\sklearn\\calibration.py:435: RuntimeWarning: overflow encountered in exp\n",
      "  E = np.exp(AB[0] * F + AB[1])\n",
      "c:\\users\\kzaytseva\\appdata\\local\\continuum\\anaconda3_new\\envs\\textclass\\lib\\site-packages\\sklearn\\calibration.py:445: RuntimeWarning: overflow encountered in exp\n",
      "  E = np.exp(AB[0] * F + AB[1])\n",
      "c:\\users\\kzaytseva\\appdata\\local\\continuum\\anaconda3_new\\envs\\textclass\\lib\\site-packages\\sklearn\\calibration.py:447: RuntimeWarning: invalid value encountered in multiply\n",
      "  TEP_minus_T1P = P * (T * E - T1)\n",
      "c:\\users\\kzaytseva\\appdata\\local\\continuum\\anaconda3_new\\envs\\textclass\\lib\\site-packages\\sklearn\\calibration.py:435: RuntimeWarning: overflow encountered in exp\n",
      "  E = np.exp(AB[0] * F + AB[1])\n",
      "c:\\users\\kzaytseva\\appdata\\local\\continuum\\anaconda3_new\\envs\\textclass\\lib\\site-packages\\sklearn\\calibration.py:445: RuntimeWarning: overflow encountered in exp\n",
      "  E = np.exp(AB[0] * F + AB[1])\n",
      "c:\\users\\kzaytseva\\appdata\\local\\continuum\\anaconda3_new\\envs\\textclass\\lib\\site-packages\\sklearn\\calibration.py:447: RuntimeWarning: invalid value encountered in multiply\n",
      "  TEP_minus_T1P = P * (T * E - T1)\n",
      "c:\\users\\kzaytseva\\appdata\\local\\continuum\\anaconda3_new\\envs\\textclass\\lib\\site-packages\\sklearn\\calibration.py:435: RuntimeWarning: overflow encountered in exp\n",
      "  E = np.exp(AB[0] * F + AB[1])\n",
      "c:\\users\\kzaytseva\\appdata\\local\\continuum\\anaconda3_new\\envs\\textclass\\lib\\site-packages\\sklearn\\calibration.py:445: RuntimeWarning: overflow encountered in exp\n",
      "  E = np.exp(AB[0] * F + AB[1])\n",
      "c:\\users\\kzaytseva\\appdata\\local\\continuum\\anaconda3_new\\envs\\textclass\\lib\\site-packages\\sklearn\\calibration.py:447: RuntimeWarning: invalid value encountered in multiply\n",
      "  TEP_minus_T1P = P * (T * E - T1)\n",
      "c:\\users\\kzaytseva\\appdata\\local\\continuum\\anaconda3_new\\envs\\textclass\\lib\\site-packages\\sklearn\\calibration.py:435: RuntimeWarning: overflow encountered in exp\n",
      "  E = np.exp(AB[0] * F + AB[1])\n",
      "c:\\users\\kzaytseva\\appdata\\local\\continuum\\anaconda3_new\\envs\\textclass\\lib\\site-packages\\sklearn\\calibration.py:445: RuntimeWarning: overflow encountered in exp\n",
      "  E = np.exp(AB[0] * F + AB[1])\n",
      "c:\\users\\kzaytseva\\appdata\\local\\continuum\\anaconda3_new\\envs\\textclass\\lib\\site-packages\\sklearn\\calibration.py:447: RuntimeWarning: invalid value encountered in multiply\n",
      "  TEP_minus_T1P = P * (T * E - T1)\n"
     ]
    },
    {
     "ename": "NameError",
     "evalue": "name 'y' is not defined",
     "output_type": "error",
     "traceback": [
      "\u001b[1;31m---------------------------------------------------------------------------\u001b[0m",
      "\u001b[1;31mNameError\u001b[0m                                 Traceback (most recent call last)",
      "\u001b[1;32m<ipython-input-78-59dba47b1407>\u001b[0m in \u001b[0;36m<module>\u001b[1;34m()\u001b[0m\n\u001b[0;32m      3\u001b[0m \u001b[1;33m\u001b[0m\u001b[0m\n\u001b[0;32m      4\u001b[0m \u001b[0mfig\u001b[0m\u001b[1;33m,\u001b[0m \u001b[0max\u001b[0m \u001b[1;33m=\u001b[0m \u001b[0mplt\u001b[0m\u001b[1;33m.\u001b[0m\u001b[0msubplots\u001b[0m\u001b[1;33m(\u001b[0m\u001b[1;33m)\u001b[0m\u001b[1;33m\u001b[0m\u001b[0m\n\u001b[1;32m----> 5\u001b[1;33m \u001b[0max\u001b[0m\u001b[1;33m.\u001b[0m\u001b[0mscatter\u001b[0m\u001b[1;33m(\u001b[0m\u001b[0my\u001b[0m\u001b[1;33m,\u001b[0m \u001b[0mpredicted_cv\u001b[0m\u001b[1;33m,\u001b[0m \u001b[0medgecolors\u001b[0m\u001b[1;33m=\u001b[0m\u001b[1;33m(\u001b[0m\u001b[1;36m0\u001b[0m\u001b[1;33m,\u001b[0m \u001b[1;36m0\u001b[0m\u001b[1;33m,\u001b[0m \u001b[1;36m0\u001b[0m\u001b[1;33m)\u001b[0m\u001b[1;33m)\u001b[0m\u001b[1;33m\u001b[0m\u001b[0m\n\u001b[0m\u001b[0;32m      6\u001b[0m \u001b[0max\u001b[0m\u001b[1;33m.\u001b[0m\u001b[0mplot\u001b[0m\u001b[1;33m(\u001b[0m\u001b[1;33m[\u001b[0m\u001b[0my\u001b[0m\u001b[1;33m.\u001b[0m\u001b[0mmin\u001b[0m\u001b[1;33m(\u001b[0m\u001b[1;33m)\u001b[0m\u001b[1;33m,\u001b[0m \u001b[0my\u001b[0m\u001b[1;33m.\u001b[0m\u001b[0mmax\u001b[0m\u001b[1;33m(\u001b[0m\u001b[1;33m)\u001b[0m\u001b[1;33m]\u001b[0m\u001b[1;33m,\u001b[0m \u001b[1;33m[\u001b[0m\u001b[0my\u001b[0m\u001b[1;33m.\u001b[0m\u001b[0mmin\u001b[0m\u001b[1;33m(\u001b[0m\u001b[1;33m)\u001b[0m\u001b[1;33m,\u001b[0m \u001b[0my\u001b[0m\u001b[1;33m.\u001b[0m\u001b[0mmax\u001b[0m\u001b[1;33m(\u001b[0m\u001b[1;33m)\u001b[0m\u001b[1;33m]\u001b[0m\u001b[1;33m,\u001b[0m \u001b[1;34m'k--'\u001b[0m\u001b[1;33m,\u001b[0m \u001b[0mlw\u001b[0m\u001b[1;33m=\u001b[0m\u001b[1;36m4\u001b[0m\u001b[1;33m)\u001b[0m\u001b[1;33m\u001b[0m\u001b[0m\n\u001b[0;32m      7\u001b[0m \u001b[0max\u001b[0m\u001b[1;33m.\u001b[0m\u001b[0mset_xlabel\u001b[0m\u001b[1;33m(\u001b[0m\u001b[1;34m'Measured'\u001b[0m\u001b[1;33m)\u001b[0m\u001b[1;33m\u001b[0m\u001b[0m\n",
      "\u001b[1;31mNameError\u001b[0m: name 'y' is not defined"
     ]
    },
    {
     "data": {
      "image/png": "[encoded data removed]",
      "text/plain": [
       "<matplotlib.figure.Figure at 0xe32ca93cc0>"
      ]
     },
     "metadata": {},
     "output_type": "display_data"
    }
   ],
   "source": [
    "\n",
    "predicted_cv = cross_val_predict(gs_clf_svm, X_train, y_train, cv=10)\n",
    "\n",
    "fig, ax = plt.subplots()\n",
    "ax.scatter(y, predicted_cv, edgecolors=(0, 0, 0))\n",
    "ax.plot([y.min(), y.max()], [y.min(), y.max()], 'k--', lw=4)\n",
    "ax.set_xlabel('Measured')\n",
    "ax.set_ylabel('Predicted')\n",
    "plt.show()"
   ]
  }
 ],
 "metadata": {
  "kernelspec": {
   "display_name": "Python 3",
   "language": "python",
   "name": "python3"
  },
  "language_info": {
   "codemirror_mode": {
    "name": "ipython",
    "version": 3
   },
   "file_extension": ".py",
   "mimetype": "text/x-python",
   "name": "python",
   "nbconvert_exporter": "python",
   "pygments_lexer": "ipython3",
   "version": "3.5.4"
  }
 },
 "nbformat": 4,
 "nbformat_minor": 2
}
