{
 "cells": [
  {
   "cell_type": "code",
   "execution_count": 38,
   "metadata": {},
   "outputs": [],
   "source": [
    "import numpy as np\n",
    "import pandas as pd\n",
    "import matplotlib\n",
    "import matplotlib.pyplot as plt\n",
    "import scikitplot as skplt\n",
    "from keras.models import Sequential\n",
    "from keras.layers import Dense\n",
    "from sklearn.model_selection import train_test_split\n",
    "import string\n",
    "from keras.preprocessing.text import Tokenizer"
   ]
  },
  {
   "cell_type": "code",
   "execution_count": 94,
   "metadata": {},
   "outputs": [
    {
     "data": {
      "text/plain": [
       "(10000, 8)"
      ]
     },
     "execution_count": 94,
     "metadata": {},
     "output_type": "execute_result"
    }
   ],
   "source": [
    "#import data and add header row\n",
    "\n",
    "toxic = pd.read_csv(\"toxic/train.csv\")\n",
    "\n",
    "#let's work with just 5000 examples\n",
    "\n",
    "toxic = toxic[0:10000]\n",
    "toxic.shape\n"
   ]
  },
  {
   "cell_type": "code",
   "execution_count": 95,
   "metadata": {},
   "outputs": [],
   "source": [
    "#lowercase text and removing punctuation in title to have smaller size of model in future\n",
    "\n",
    "def normalize(s):\n",
    "    s = s.lower()\n",
    "    s = s.translate(str.maketrans('','', string.punctuation))\n",
    "    s = s.replace('\\n', ' ')\n",
    "    return s\n",
    "\n",
    "toxic['comment_text'] = [normalize(s) for s in toxic['comment_text']]\n",
    "\n",
    "X = toxic[\"comment_text\"].values \n",
    "y = toxic[[\"toxic\", \"severe_toxic\", \"obscene\", \"threat\", \"insult\", \"identity_hate\"]].values\n"
   ]
  },
  {
   "cell_type": "code",
   "execution_count": 96,
   "metadata": {},
   "outputs": [],
   "source": [
    "#https://keras.io/preprocessing/text/\n",
    "#need to tokenize text first\n",
    "max_words = 20000\n",
    "tokenizer = Tokenizer(num_words=max_words, char_level=True, filters='!\"#$%&()*+,-./:;<=>?@[\\\\]^_`{|}~\\t\\n',)\n",
    "tokenizer.fit_on_texts(X) \n",
    "tokenized_X = tokenizer.texts_to_matrix(X, mode='freq')"
   ]
  },
  {
   "cell_type": "code",
   "execution_count": 97,
   "metadata": {},
   "outputs": [
    {
     "name": "stdout",
     "output_type": "stream",
     "text": [
      "(7500, 20000)\n",
      "(2500, 20000)\n"
     ]
    }
   ],
   "source": [
    "X_train, X_test, y_train, y_test = train_test_split(tokenized_X, y, random_state=42)\n",
    "print(X_train.shape)\n",
    "print(X_test.shape)"
   ]
  },
  {
   "cell_type": "code",
   "execution_count": 103,
   "metadata": {},
   "outputs": [],
   "source": [
    "# building a model\n",
    "from keras.layers import Dense, Dropout, Activation\n",
    "from keras.optimizers import SGD\n",
    "\n",
    "\n",
    "model = Sequential()\n",
    "model.add(Dense(1000, input_shape=(max_words,), activation='relu'))\n",
    "model.add(Dropout(0.1))\n",
    "model.add(Dense(500, input_shape=(max_words,), activation='relu'))\n",
    "model.add(Dropout(0.1))\n",
    "model.add(Dense(6, activation='sigmoid'))\n"
   ]
  },
  {
   "cell_type": "code",
   "execution_count": 68,
   "metadata": {},
   "outputs": [],
   "source": [
    "# sgd = SGD(lr=0.01, decay=1e-6, momentum=0.9, nesterov=True)"
   ]
  },
  {
   "cell_type": "code",
   "execution_count": 104,
   "metadata": {},
   "outputs": [],
   "source": [
    "model.compile(loss='binary_crossentropy',\n",
    "              optimizer='adam', metrics=['accuracy'])"
   ]
  },
  {
   "cell_type": "code",
   "execution_count": 105,
   "metadata": {},
   "outputs": [
    {
     "name": "stdout",
     "output_type": "stream",
     "text": [
      "Train on 7500 samples, validate on 2500 samples\n",
      "Epoch 1/10\n",
      "7500/7500 [==============================] - 16s 2ms/step - loss: 0.3761 - acc: 0.9504 - val_loss: 0.1537 - val_acc: 0.9659\n",
      "Epoch 2/10\n",
      "7500/7500 [==============================] - 15s 2ms/step - loss: 0.1552 - acc: 0.9623 - val_loss: 0.1347 - val_acc: 0.9659\n",
      "Epoch 3/10\n",
      "7500/7500 [==============================] - 15s 2ms/step - loss: 0.1434 - acc: 0.9623 - val_loss: 0.1293 - val_acc: 0.9659\n",
      "Epoch 4/10\n",
      "7500/7500 [==============================] - 15s 2ms/step - loss: 0.1409 - acc: 0.9623 - val_loss: 0.1272 - val_acc: 0.9659\n",
      "Epoch 5/10\n",
      "7500/7500 [==============================] - 15s 2ms/step - loss: 0.1376 - acc: 0.9623 - val_loss: 0.1244 - val_acc: 0.9659\n",
      "Epoch 6/10\n",
      "7500/7500 [==============================] - 15s 2ms/step - loss: 0.1342 - acc: 0.9623 - val_loss: 0.1211 - val_acc: 0.9659\n",
      "Epoch 7/10\n",
      "7500/7500 [==============================] - 15s 2ms/step - loss: 0.1285 - acc: 0.9623 - val_loss: 0.1171 - val_acc: 0.9663\n",
      "Epoch 8/10\n",
      "7500/7500 [==============================] - 15s 2ms/step - loss: 0.1233 - acc: 0.9631 - val_loss: 0.1126 - val_acc: 0.9669\n",
      "Epoch 9/10\n",
      "7500/7500 [==============================] - 15s 2ms/step - loss: 0.1199 - acc: 0.9637 - val_loss: 0.1101 - val_acc: 0.9681\n",
      "Epoch 10/10\n",
      "7500/7500 [==============================] - 15s 2ms/step - loss: 0.1164 - acc: 0.9646 - val_loss: 0.1085 - val_acc: 0.9683\n"
     ]
    }
   ],
   "source": [
    "history = model.fit(X_train, y_train, epochs=10, batch_size=300, validation_data=(X_test, y_test))"
   ]
  },
  {
   "cell_type": "code",
   "execution_count": 106,
   "metadata": {},
   "outputs": [
    {
     "name": "stdout",
     "output_type": "stream",
     "text": [
      "2500/2500 [==============================] - 2s 831us/step\n",
      "[0.10849300267696381, 0.9682666625976563]\n"
     ]
    }
   ],
   "source": [
    "# evaluate model\n",
    "\n",
    "scores = model.evaluate(X_test, y_test)\n",
    "print(scores)"
   ]
  },
  {
   "cell_type": "code",
   "execution_count": 107,
   "metadata": {},
   "outputs": [
    {
     "name": "stdout",
     "output_type": "stream",
     "text": [
      "2500/2500 [==============================] - 2s 832us/step\n",
      "\n",
      "acc: 96.83%\n"
     ]
    }
   ],
   "source": [
    "scores = model.evaluate(X_test, y_test)\n",
    "print(\"\\n%s: %.2f%%\" % (model.metrics_names[1], scores[1]*100))"
   ]
  },
  {
   "cell_type": "code",
   "execution_count": 108,
   "metadata": {},
   "outputs": [
    {
     "data": {
      "image/png": "[encoded data removed]",
      "text/plain": [
       "<matplotlib.figure.Figure at 0x9700926b38>"
      ]
     },
     "metadata": {},
     "output_type": "display_data"
    }
   ],
   "source": [
    "# plot accuracy\n",
    "from keras.callbacks import ModelCheckpoint\n",
    "\n",
    "import matplotlib.pyplot as plt\n",
    "%matplotlib inline\n",
    "plt.plot(history.history['acc'])\n",
    "plt.plot(history.history['val_acc'])\n",
    "plt.title('Model Accuracy')\n",
    "plt.ylabel('accuracy')\n",
    "plt.xlabel('epoch')\n",
    "plt.legend(['train', 'test'])\n",
    "plt.show()"
   ]
  },
  {
   "cell_type": "code",
   "execution_count": 109,
   "metadata": {},
   "outputs": [
    {
     "data": {
      "image/png": "[encoded data removed]",
      "text/plain": [
       "<matplotlib.figure.Figure at 0x976b6ac0b8>"
      ]
     },
     "metadata": {},
     "output_type": "display_data"
    }
   ],
   "source": [
    "# plot loss\n",
    "plt.plot(history.history['loss'])\n",
    "plt.plot(history.history['val_loss'])\n",
    "plt.title('Model Loss')\n",
    "plt.ylabel('loss')\n",
    "plt.xlabel('epoch')\n",
    "plt.legend(['train', 'test'])\n",
    "plt.show()"
   ]
  },
  {
   "cell_type": "code",
   "execution_count": 59,
   "metadata": {},
   "outputs": [
    {
     "name": "stdout",
     "output_type": "stream",
     "text": [
      "[[0.09604979 0.01288417 0.0468954  0.01082372 0.04987172 0.01316669]\n",
      " [0.09696156 0.01316931 0.04767552 0.01108106 0.05056494 0.01343228]\n",
      " [0.09480182 0.01244546 0.04588728 0.01044234 0.04895165 0.01271247]\n",
      " ...\n",
      " [0.09540381 0.01272108 0.04657019 0.0106778  0.04952941 0.01298003]\n",
      " [0.09596185 0.01286475 0.04689379 0.01080645 0.04985707 0.01314283]\n",
      " [0.09576818 0.01281248 0.04678234 0.01076717 0.04975319 0.01309581]]\n"
     ]
    }
   ],
   "source": [
    "\n",
    "preds = model.predict(X_test)\n",
    "#preds[preds>=0.5] = 1\n",
    "#preds[preds<0.5] = 0\n",
    "print(preds)"
   ]
  }
 ],
 "metadata": {
  "kernelspec": {
   "display_name": "Python 3",
   "language": "python",
   "name": "python3"
  },
  "language_info": {
   "codemirror_mode": {
    "name": "ipython",
    "version": 3
   },
   "file_extension": ".py",
   "mimetype": "text/x-python",
   "name": "python",
   "nbconvert_exporter": "python",
   "pygments_lexer": "ipython3",
   "version": "3.5.4"
  }
 },
 "nbformat": 4,
 "nbformat_minor": 2
}
