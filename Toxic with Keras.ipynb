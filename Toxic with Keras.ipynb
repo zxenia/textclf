{
 "cells": [
  {
   "cell_type": "code",
   "execution_count": 169,
   "metadata": {},
   "outputs": [],
   "source": [
    "import numpy as np\n",
    "import pandas as pd\n",
    "import matplotlib\n",
    "import matplotlib.pyplot as plt\n",
    "import scikitplot as skplt\n",
    "from keras.models import Sequential\n",
    "from keras.layers import Dense\n",
    "from sklearn.model_selection import train_test_split\n",
    "import string\n",
    "from keras.preprocessing.text import Tokenizer"
   ]
  },
  {
   "cell_type": "code",
   "execution_count": 170,
   "metadata": {},
   "outputs": [
    {
     "data": {
      "text/plain": [
       "(10000, 8)"
      ]
     },
     "execution_count": 170,
     "metadata": {},
     "output_type": "execute_result"
    }
   ],
   "source": [
    "#import data and add header row\n",
    "\n",
    "toxic = pd.read_csv(\"toxic/train.csv\")\n",
    "\n",
    "#let's work with just 5000 examples\n",
    "\n",
    "toxic = toxic[0:10000]\n",
    "toxic.shape\n"
   ]
  },
  {
   "cell_type": "code",
   "execution_count": 214,
   "metadata": {},
   "outputs": [
    {
     "name": "stdout",
     "output_type": "stream",
     "text": [
      "youre a real problem radiopathy you would do well to let the others jump to their own illinformed conclusions and we can sit back and watch hilarity ensue instead you interpret lexi’s explanation for these idiots and cut off what would have provided a mild form of entertainment for weeks to come a plague and pox on you and your farm animals and a double plague on lexi for failing to make sure in advance that you would play along or if he did contact you and get your agreement in advance a triple plague and pox upon him for believing you when you have so quickly shown instead that are intelligence and intuitivelexvacpac3\n",
      "[0 0 0 0 0 0]\n"
     ]
    }
   ],
   "source": [
    "#lowercase text and removing punctuation in title to have smaller size of model in future\n",
    "\n",
    "def normalize(s):\n",
    "    s = s.lower()\n",
    "    s = s.translate(str.maketrans('','', string.punctuation))\n",
    "    s = s.replace('\\n', ' ')\n",
    "    return s\n",
    "\n",
    "toxic['comment_text'] = [normalize(s) for s in toxic['comment_text']]\n",
    "\n",
    "X = toxic[\"comment_text\"].values \n",
    "y = toxic[[\"toxic\", \"severe_toxic\", \"obscene\", \"threat\", \"insult\", \"identity_hate\"]].values\n",
    "print(X[2986])\n",
    "print(y[2986])\n"
   ]
  },
  {
   "cell_type": "code",
   "execution_count": 50,
   "metadata": {},
   "outputs": [],
   "source": [
    "#https://keras.io/preprocessing/text/\n",
    "#need to tokenize text first\n",
    "max_words = 20000\n",
    "tokenizer = Tokenizer(num_words=max_words, char_level=True, filters='!\"#$%&()*+,-./:;<=>?@[\\\\]^_`{|}~\\t\\n',)\n",
    "tokenizer.fit_on_texts(X) \n",
    "tokenized_X = tokenizer.texts_to_matrix(X, mode='freq')"
   ]
  },
  {
   "cell_type": "code",
   "execution_count": 172,
   "metadata": {},
   "outputs": [],
   "source": [
    "from sklearn.feature_extraction.text import TfidfVectorizer\n",
    "tfidf_vect = TfidfVectorizer(stop_words='english', max_features=20000)\n",
    "#term frequency count(word)/total words\n",
    "tokenized_X = tfidf_vect.fit_transform(X)"
   ]
  },
  {
   "cell_type": "code",
   "execution_count": 173,
   "metadata": {},
   "outputs": [
    {
     "name": "stdout",
     "output_type": "stream",
     "text": [
      "(7000, 20000)\n",
      "(3000, 20000)\n"
     ]
    }
   ],
   "source": [
    "X_train, X_test, y_train, y_test = train_test_split(tokenized_X, y, test_size=0.3, random_state=42)\n",
    "print(X_train.shape)\n",
    "print(X_test.shape)"
   ]
  },
  {
   "cell_type": "code",
   "execution_count": 91,
   "metadata": {},
   "outputs": [
    {
     "name": "stderr",
     "output_type": "stream",
     "text": [
      "c:\\users\\kzaytseva\\appdata\\local\\continuum\\anaconda3_new\\envs\\textclass\\lib\\site-packages\\ipykernel_launcher.py:8: DeprecationWarning: Call to deprecated `__getitem__` (Method will be removed in 4.0.0, use self.wv.__getitem__() instead).\n",
      "  \n"
     ]
    },
    {
     "name": "stdout",
     "output_type": "stream",
     "text": [
      "ï\n"
     ]
    },
    {
     "data": {
      "image/png": "[encoded data removed]",
      "text/plain": [
       "<matplotlib.figure.Figure at 0x444cb8c588>"
      ]
     },
     "metadata": {},
     "output_type": "display_data"
    }
   ],
   "source": [
    "from gensim.models import Word2Vec\n",
    "from sklearn.decomposition import PCA\n",
    "from matplotlib import pyplot\n",
    "\n",
    "\n",
    "\n",
    "model = Word2Vec(X, min_count=5)\n",
    "X_text = model[model.wv.vocab]\n",
    "pca = PCA(n_components=2)\n",
    "result = pca.fit_transform(X_text)\n",
    "\n",
    "#create a scatter plot of the projection\n",
    "pyplot.scatter(result[:, 0], result[:, 1])\n",
    "words = list(model.wv.vocab)\n",
    "print(words[5])\n",
    "for i, word in enumerate(words):\n",
    "    pyplot.annotate(word, xy=(result[i, 0], result[i, 1]))\n",
    "pyplot.show()"
   ]
  },
  {
   "cell_type": "code",
   "execution_count": 174,
   "metadata": {},
   "outputs": [],
   "source": [
    "# building a model\n",
    "from keras.layers import Dense, Dropout, Activation\n",
    "from keras.optimizers import SGD\n",
    "\n",
    "\n",
    "model = Sequential()\n",
    "model.add(Dense(1000, input_shape=(max_words,), activation='relu'))\n",
    "model.add(Dropout(0.1))\n",
    "model.add(Dense(500, input_shape=(max_words,), activation='relu'))\n",
    "model.add(Dropout(0.1))\n",
    "model.add(Dense(6, activation='sigmoid'))\n"
   ]
  },
  {
   "cell_type": "code",
   "execution_count": 175,
   "metadata": {},
   "outputs": [],
   "source": [
    "# tune optimizer, increase/decrease learning rate depending on the loss in prev.tests (e.g. to make model train faster)\n",
    "from keras.optimizers import Adam\n",
    "#lr increased from the default value\n",
    "adam = Adam(lr=0.01, beta_1=0.9, beta_2=0.999, epsilon=None, decay=0.0, amsgrad=False)"
   ]
  },
  {
   "cell_type": "code",
   "execution_count": 176,
   "metadata": {},
   "outputs": [],
   "source": [
    "model.compile(loss='binary_crossentropy',\n",
    "              optimizer=adam, metrics=['accuracy'])"
   ]
  },
  {
   "cell_type": "code",
   "execution_count": 177,
   "metadata": {},
   "outputs": [
    {
     "name": "stdout",
     "output_type": "stream",
     "text": [
      "Train on 7000 samples, validate on 3000 samples\n",
      "Epoch 1/3\n",
      "7000/7000 [==============================] - 16s 2ms/step - loss: 0.1615 - acc: 0.9469 - val_loss: 0.0877 - val_acc: 0.9643\n",
      "Epoch 2/3\n",
      "7000/7000 [==============================] - 14s 2ms/step - loss: 0.0653 - acc: 0.9671 - val_loss: 0.0852 - val_acc: 0.9736\n",
      "Epoch 3/3\n",
      "7000/7000 [==============================] - 14s 2ms/step - loss: 0.0404 - acc: 0.9852 - val_loss: 0.0996 - val_acc: 0.9756\n"
     ]
    }
   ],
   "source": [
    "history = model.fit(X_train, y_train, epochs=3, batch_size=300, validation_data=(X_test, y_test))"
   ]
  },
  {
   "cell_type": "code",
   "execution_count": 178,
   "metadata": {},
   "outputs": [
    {
     "name": "stdout",
     "output_type": "stream",
     "text": [
      "3000/3000 [==============================] - 3s 865us/step\n",
      "[0.09955102541049321, 0.9756110967000325]\n"
     ]
    }
   ],
   "source": [
    "# evaluate model\n",
    "\n",
    "scores = model.evaluate(X_test, y_test)\n",
    "print(scores)"
   ]
  },
  {
   "cell_type": "code",
   "execution_count": 179,
   "metadata": {},
   "outputs": [
    {
     "name": "stdout",
     "output_type": "stream",
     "text": [
      "3000/3000 [==============================] - 3s 902us/step\n",
      "\n",
      "acc: 97.56%\n"
     ]
    }
   ],
   "source": [
    "scores = model.evaluate(X_test, y_test)\n",
    "print(\"\\n%s: %.2f%%\" % (model.metrics_names[1], scores[1]*100))"
   ]
  },
  {
   "cell_type": "code",
   "execution_count": 244,
   "metadata": {},
   "outputs": [
    {
     "name": "stdout",
     "output_type": "stream",
     "text": [
      "(array([0, 2, 4], dtype=int64),)\n",
      "(array([0, 2, 4], dtype=int64),)\n",
      "(array([0, 2, 4], dtype=int64),)\n",
      "(array([0], dtype=int64),)\n",
      "(array([0], dtype=int64),)\n",
      "(array([0, 2, 4], dtype=int64),)\n",
      "(array([0, 2, 4], dtype=int64),)\n",
      "(array([0], dtype=int64),)\n",
      "(array([0], dtype=int64),)\n",
      "[array([1., 0., 1., 0., 1., 0.], dtype=float32), array([1., 0., 1., 0., 1., 0.], dtype=float32), array([1., 0., 1., 0., 1., 0.], dtype=float32), array([1., 0., 0., 0., 0., 0.], dtype=float32), array([1., 0., 0., 0., 0., 0.], dtype=float32), array([1., 0., 1., 0., 1., 0.], dtype=float32), array([1., 0., 1., 0., 1., 0.], dtype=float32), array([1., 0., 0., 0., 0., 0.], dtype=float32), array([1., 0., 0., 0., 0., 0.], dtype=float32)]\n",
      "[]\n"
     ]
    }
   ],
   "source": [
    "# check prediction on individual examples\n",
    "\n",
    "# k = np.array(X_test)\n",
    "# true_label = np.array(y_test)\n",
    "#prediction = model.predict_classes(X_test)\n",
    "#print(true_label)\n",
    "#print(prediction[5:12])\n",
    "\n",
    "predictions = model.predict(X_test)\n",
    "predictions[predictions>=0.5] = 1\n",
    "predictions[predictions<0.5] = 0\n",
    "value = 1\n",
    "x_one = []\n",
    "\n",
    "for x in predictions[0:100]:\n",
    "    if value in x:\n",
    "        x_one.append(x)\n",
    "        print(np.where(x == 1))\n",
    "print(x_one)\n",
    "\n",
    "\n",
    "        #print(\"text message: {} ,\\n true labels: {},\\n pred labels: {}\".format(X, y, predictions))\n"
   ]
  },
  {
   "cell_type": "code",
   "execution_count": 126,
   "metadata": {},
   "outputs": [
    {
     "data": {
      "image/png": "[encoded data removed]",
      "text/plain": [
       "<matplotlib.figure.Figure at 0x440021af60>"
      ]
     },
     "metadata": {},
     "output_type": "display_data"
    }
   ],
   "source": [
    "# plot accuracy\n",
    "from keras.callbacks import ModelCheckpoint\n",
    "\n",
    "import matplotlib.pyplot as plt\n",
    "%matplotlib inline\n",
    "plt.plot(history.history['acc'])\n",
    "plt.plot(history.history['val_acc'])\n",
    "plt.title('Model Accuracy')\n",
    "plt.ylabel('accuracy')\n",
    "plt.xlabel('epoch')\n",
    "plt.legend(['train', 'test'])\n",
    "plt.show()"
   ]
  },
  {
   "cell_type": "code",
   "execution_count": 127,
   "metadata": {},
   "outputs": [
    {
     "data": {
      "image/png": "[encoded data removed]",
      "text/plain": [
       "<matplotlib.figure.Figure at 0x440772bb00>"
      ]
     },
     "metadata": {},
     "output_type": "display_data"
    }
   ],
   "source": [
    "# plot loss\n",
    "plt.plot(history.history['loss'])\n",
    "plt.plot(history.history['val_loss'])\n",
    "plt.title('Model Loss')\n",
    "plt.ylabel('loss')\n",
    "plt.xlabel('epoch')\n",
    "plt.legend(['train', 'test'])\n",
    "plt.show()"
   ]
  },
  {
   "cell_type": "code",
   "execution_count": null,
   "metadata": {},
   "outputs": [],
   "source": []
  }
 ],
 "metadata": {
  "kernelspec": {
   "display_name": "Python 3",
   "language": "python",
   "name": "python3"
  },
  "language_info": {
   "codemirror_mode": {
    "name": "ipython",
    "version": 3
   },
   "file_extension": ".py",
   "mimetype": "text/x-python",
   "name": "python",
   "nbconvert_exporter": "python",
   "pygments_lexer": "ipython3",
   "version": "3.5.4"
  }
 },
 "nbformat": 4,
 "nbformat_minor": 2
}
