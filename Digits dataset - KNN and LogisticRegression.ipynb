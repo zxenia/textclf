{
 "cells": [
  {
   "cell_type": "code",
   "execution_count": 14,
   "metadata": {},
   "outputs": [],
   "source": [
    "from sklearn import datasets"
   ]
  },
  {
   "cell_type": "code",
   "execution_count": 15,
   "metadata": {},
   "outputs": [
    {
     "data": {
      "text/plain": [
       "(1797, 8, 8)"
      ]
     },
     "execution_count": 15,
     "metadata": {},
     "output_type": "execute_result"
    }
   ],
   "source": [
    "digits = datasets.load_digits()\n",
    "digits.images.shape"
   ]
  },
  {
   "cell_type": "code",
   "execution_count": 16,
   "metadata": {},
   "outputs": [],
   "source": [
    "X = digits.data\n",
    "y = digits.target"
   ]
  },
  {
   "cell_type": "code",
   "execution_count": 17,
   "metadata": {},
   "outputs": [],
   "source": [
    "#digits dataset has 1797 8x8 images, to use in in scikit we have to reshape it to 2D array\n",
    "#transform each 8x8 image into a feature vector of length 64\n",
    "\n",
    "digits = digits.images.reshape((digits.images.shape[0], -1))"
   ]
  },
  {
   "cell_type": "code",
   "execution_count": 18,
   "metadata": {},
   "outputs": [
    {
     "data": {
      "text/plain": [
       "(1797, 64)"
      ]
     },
     "execution_count": 18,
     "metadata": {},
     "output_type": "execute_result"
    }
   ],
   "source": [
    "digits.shape"
   ]
  },
  {
   "cell_type": "code",
   "execution_count": 20,
   "metadata": {},
   "outputs": [
    {
     "data": {
      "text/plain": [
       "(1797, 64)"
      ]
     },
     "execution_count": 20,
     "metadata": {},
     "output_type": "execute_result"
    }
   ],
   "source": [
    "X.shape"
   ]
  },
  {
   "cell_type": "code",
   "execution_count": 21,
   "metadata": {},
   "outputs": [
    {
     "data": {
      "text/plain": [
       "(1797,)"
      ]
     },
     "execution_count": 21,
     "metadata": {},
     "output_type": "execute_result"
    }
   ],
   "source": [
    "y.shape"
   ]
  },
  {
   "cell_type": "code",
   "execution_count": 22,
   "metadata": {},
   "outputs": [
    {
     "data": {
      "text/plain": [
       "((1617, 64), (1617,))"
      ]
     },
     "execution_count": 22,
     "metadata": {},
     "output_type": "execute_result"
    }
   ],
   "source": [
    "from sklearn.neighbors import KNeighborsClassifier\n",
    "from sklearn.model_selection import train_test_split\n",
    "\n",
    "X_train, X_test, y_train, y_test = train_test_split(\n",
    "    X, y, test_size=0.1, random_state=42)\n",
    "\n",
    "X_train.shape, y_train.shape"
   ]
  },
  {
   "cell_type": "code",
   "execution_count": 23,
   "metadata": {},
   "outputs": [
    {
     "data": {
      "text/plain": [
       "((180, 64), (180,))"
      ]
     },
     "execution_count": 23,
     "metadata": {},
     "output_type": "execute_result"
    }
   ],
   "source": [
    "X_test.shape, y_test.shape"
   ]
  },
  {
   "cell_type": "code",
   "execution_count": 25,
   "metadata": {},
   "outputs": [
    {
     "data": {
      "text/plain": [
       "0.9907235621521335"
      ]
     },
     "execution_count": 25,
     "metadata": {},
     "output_type": "execute_result"
    }
   ],
   "source": [
    "knn = KNeighborsClassifier().fit(X_train, y_train) \n",
    "knn.score(X_train, y_train)"
   ]
  },
  {
   "cell_type": "code",
   "execution_count": 28,
   "metadata": {},
   "outputs": [
    {
     "data": {
      "text/plain": [
       "0.9888888888888889"
      ]
     },
     "execution_count": 28,
     "metadata": {},
     "output_type": "execute_result"
    }
   ],
   "source": [
    "knn.score(X_test, y_test)"
   ]
  },
  {
   "cell_type": "code",
   "execution_count": 27,
   "metadata": {},
   "outputs": [
    {
     "data": {
      "text/plain": [
       "0.9888888888888889"
      ]
     },
     "execution_count": 27,
     "metadata": {},
     "output_type": "execute_result"
    }
   ],
   "source": [
    "import numpy as np\n",
    "predicted = knn.predict(X_test)\n",
    "np.mean(predicted == y_test)"
   ]
  },
  {
   "cell_type": "code",
   "execution_count": 29,
   "metadata": {},
   "outputs": [
    {
     "data": {
      "text/plain": [
       "array([0.99390244, 0.9876161 , 0.97826087, 0.99378882, 0.98136646])"
      ]
     },
     "execution_count": 29,
     "metadata": {},
     "output_type": "execute_result"
    }
   ],
   "source": [
    "#computing cross validation metrics\n",
    "from sklearn.model_selection import cross_val_score\n",
    "from sklearn import metrics\n",
    "scores = cross_val_score(knn, X_train, y_train, cv=5)\n",
    "scores"
   ]
  },
  {
   "cell_type": "code",
   "execution_count": 30,
   "metadata": {},
   "outputs": [
    {
     "name": "stdout",
     "output_type": "stream",
     "text": [
      "Accuracy: 0.99 (+/- 0.01)\n"
     ]
    }
   ],
   "source": [
    "print(\"Accuracy: %0.2f (+/- %0.2f)\" % (scores.mean(), scores.std() * 2))"
   ]
  },
  {
   "cell_type": "code",
   "execution_count": 32,
   "metadata": {},
   "outputs": [
    {
     "data": {
      "text/plain": [
       "array([0.875     , 0.94871795, 0.91428571, 0.88235294, 0.875     ])"
      ]
     },
     "execution_count": 32,
     "metadata": {},
     "output_type": "execute_result"
    }
   ],
   "source": [
    "scores_test = cross_val_score(knn, X_test, y_test, cv=5)\n",
    "scores_test"
   ]
  },
  {
   "cell_type": "code",
   "execution_count": 33,
   "metadata": {},
   "outputs": [
    {
     "name": "stdout",
     "output_type": "stream",
     "text": [
      "Accuracy: 0.90 (+/- 0.06)\n"
     ]
    }
   ],
   "source": [
    "print(\"Accuracy: %0.2f (+/- %0.2f)\" % (scores_test.mean(), scores_test.std() * 2))"
   ]
  },
  {
   "cell_type": "code",
   "execution_count": 36,
   "metadata": {},
   "outputs": [
    {
     "data": {
      "image/png": "[encoded data removed]",
      "text/plain": [
       "<matplotlib.figure.Figure at 0xf3c88289b0>"
      ]
     },
     "metadata": {},
     "output_type": "display_data"
    }
   ],
   "source": [
    "import matplotlib.pyplot as plt\n",
    "from sklearn.model_selection import cross_val_predict\n",
    "\n",
    "X = X_train\n",
    "y = y_train\n",
    "\n",
    "predicted = cross_val_predict(knn, X, y, cv=10)\n",
    "\n",
    "fig, ax = plt.subplots()\n",
    "ax.scatter(y, predicted, edgecolors=(0, 0, 0))\n",
    "ax.plot([y.min(), y.max()], [y.min(), y.max()], 'k--', lw=4)\n",
    "ax.set_xlabel('Measured')\n",
    "ax.set_ylabel('Predicted')\n",
    "plt.show()"
   ]
  },
  {
   "cell_type": "code",
   "execution_count": 42,
   "metadata": {},
   "outputs": [
    {
     "data": {
      "text/plain": [
       "0.9944341372912802"
      ]
     },
     "execution_count": 42,
     "metadata": {},
     "output_type": "execute_result"
    }
   ],
   "source": [
    "from sklearn import linear_model\n",
    "regr = linear_model.LogisticRegression().fit(X_train, y_train)\n",
    "regr.score(X_train, y_train)"
   ]
  },
  {
   "cell_type": "code",
   "execution_count": 43,
   "metadata": {},
   "outputs": [
    {
     "name": "stdout",
     "output_type": "stream",
     "text": [
      "[[ 0.00000000e+00 -4.66425776e-02 -3.30389125e-02  2.44893449e-02\n",
      "  -8.60166214e-02 -3.16212774e-01 -1.95689006e-01 -2.89604050e-02\n",
      "  -1.89933359e-05 -1.42094765e-01  2.12004881e-02  1.49404444e-01\n",
      "   2.07389744e-01  1.81037369e-01 -9.94526664e-04 -2.80278514e-02\n",
      "  -6.02361730e-03  1.88266708e-02  1.51555644e-01 -2.96013925e-02\n",
      "  -3.41507660e-01  2.47481038e-01 -2.84456487e-02 -5.25993730e-03\n",
      "  -3.00959381e-03  3.94862997e-02 -1.78230859e-02 -1.55727881e-01\n",
      "  -6.50391802e-01  1.21963159e-01 -5.29130609e-02 -2.43648189e-04\n",
      "   0.00000000e+00  1.83941701e-01  1.18364460e-01 -1.22859857e-01\n",
      "  -6.04223633e-01 -5.99409657e-02  1.68007504e-02  0.00000000e+00\n",
      "  -1.20378218e-03 -4.48360799e-02  2.84723550e-01 -3.06313056e-01\n",
      "  -3.43885889e-01 -8.20705034e-02  6.75813386e-02 -1.99085912e-04\n",
      "  -1.89142094e-03 -1.77910132e-01  9.37097856e-02 -1.80165431e-01\n",
      "   1.01669502e-01 -5.98571377e-02 -1.43813801e-01 -6.49385996e-02\n",
      "  -4.95034579e-06 -5.63910910e-02 -2.24103177e-01  1.43683836e-01\n",
      "  -1.93648299e-01 -1.06343371e-01 -1.67546324e-01 -5.66385073e-02]\n",
      " [ 0.00000000e+00  3.85854622e-02  9.07112047e-02  1.75591749e-01\n",
      "  -6.22828491e-01  4.38854201e-01 -2.33365656e-01 -3.04971555e-01\n",
      "  -2.39617078e-05 -1.28315417e+00 -3.70511947e-01 -4.30445581e-01\n",
      "   6.57622911e-02  7.33153301e-02 -4.28595617e-01 -5.99814162e-02\n",
      "   2.14124175e-01  6.38727560e-01  1.01562353e-01  6.27997494e-01\n",
      "   3.09559676e-01 -2.38405265e-01  3.31993778e-01 -1.81397613e-01\n",
      "  -6.26821526e-01 -2.43384935e-01 -4.29458655e-02  1.73165573e-01\n",
      "  -2.04060927e-02  1.02178517e-01 -3.97756904e-01 -3.34858958e-06\n",
      "   0.00000000e+00 -8.36084575e-02  6.49034687e-02 -1.02044533e-01\n",
      "   1.57904343e-01 -7.90684561e-03 -3.03205627e-01  0.00000000e+00\n",
      "  -1.00614732e-03 -5.61078455e-01 -5.24439121e-02 -5.72527935e-02\n",
      "  -9.74550233e-02 -2.30537260e-01 -1.97448001e-01 -1.11136245e-01\n",
      "  -1.58092513e-02 -3.61673995e-02 -6.31947261e-02  2.27310677e-01\n",
      "   1.14983790e-01 -1.58172261e-02 -3.50000618e-01  5.49281606e-01\n",
      "  -5.26819735e-03 -2.72154597e-01 -1.98098333e-01 -1.12687026e-01\n",
      "   8.37133447e-02  5.26161165e-02 -9.05664689e-02  7.28617042e-02]\n",
      " [ 0.00000000e+00  7.37546982e-02 -3.01651223e-02  5.71900742e-03\n",
      "  -8.03063493e-02 -2.74792241e-01 -1.25626506e-01 -5.37812259e-03\n",
      "  -2.77547708e-04  1.51577929e-01  1.61743706e-01 -1.62918766e-01\n",
      "   2.02604881e-01 -2.13626347e-02 -5.52666033e-03 -3.09066292e-03\n",
      "  -2.17854003e-04 -2.28543162e-03  6.72692655e-02 -1.95855767e-01\n",
      "   1.77008402e-01  5.63332886e-02  7.17707253e-02 -6.64478999e-05\n",
      "  -2.58074928e-05 -2.47183189e-01 -5.91214603e-01 -5.37238847e-01\n",
      "  -3.24191461e-01  1.56056820e-01 -8.28610095e-02 -2.66272435e-06\n",
      "   0.00000000e+00 -3.38146341e-01 -5.36436948e-01 -1.35413861e-01\n",
      "  -2.19323067e-01 -3.20588042e-01 -4.78605927e-01  0.00000000e+00\n",
      "  -1.71341868e-05  1.75436422e-02  8.62703271e-02  4.55718641e-01\n",
      "  -4.50401404e-01 -4.13033687e-01 -3.34442492e-01  1.52857163e-02\n",
      "   1.29110393e-03  2.81210941e-01 -4.57226810e-02  4.76918452e-01\n",
      "   2.88523265e-01  2.35216193e-01  1.30646827e-01  4.12937037e-03\n",
      "   4.34096602e-04  1.17142191e-01 -5.56154633e-03 -5.02242781e-02\n",
      "  -6.07246341e-02  2.53408298e-01  3.73955516e-01  2.00017484e-02]\n",
      " [ 0.00000000e+00  2.67751043e-01 -9.18996815e-01  3.29280999e-01\n",
      "   4.63756425e-01 -5.33675315e-02 -3.23101708e-01  8.29903135e-02\n",
      "  -4.91254968e-02 -1.66206541e-01  3.13403668e-01 -8.33200203e-04\n",
      "   2.21526173e-01  4.99232537e-01  7.83332461e-01 -7.72745825e-02\n",
      "  -7.99806901e-04  1.29517969e-01 -7.92517703e-01 -4.98170254e-01\n",
      "   1.12704535e-01 -4.81243398e-01  1.45022715e-01 -2.94184627e-03\n",
      "  -4.14709501e-07 -8.07337775e-01 -3.74722194e-01 -9.66563556e-02\n",
      "   2.61488183e-01 -6.36918250e-01 -1.59232710e+00 -9.75815445e-07\n",
      "   0.00000000e+00 -8.09248892e-02 -4.49193962e-01  2.96400095e-02\n",
      "  -2.01263228e-01 -1.19668350e-02  1.67669473e-01  0.00000000e+00\n",
      "  -3.36468820e-06  6.05085529e-02 -2.83304016e-01 -9.21536466e-01\n",
      "   4.36511963e-01  5.93922006e-01  1.73417191e-01 -1.25312963e-03\n",
      "  -4.22421553e-06 -2.06348721e-01 -2.98982537e-02 -4.39701310e-01\n",
      "  -7.67887567e-02  1.82953015e-02  6.31540049e-01 -7.64055783e-01\n",
      "  -5.41555908e-07  2.82773424e-01  4.60207342e-01 -4.18766312e-01\n",
      "   2.51782652e-01 -2.58314729e-01  8.59540797e-02 -1.40426184e+00]\n",
      " [ 0.00000000e+00 -1.78184141e-02 -2.62241238e-01 -5.86591499e-01\n",
      "  -2.36722935e-01 -4.30048217e-01 -4.10105455e-01  5.12638513e-02\n",
      "  -3.38007793e-05 -9.81570786e-02 -6.18477190e-02 -3.08810047e-01\n",
      "  -5.22365856e-01 -2.63123736e-01 -3.24446010e-01  1.23917024e-01\n",
      "  -1.74757604e-02  1.98960939e-01  4.00184344e-01  1.88483537e-01\n",
      "  -6.43580464e-03  2.61796660e-01  7.36412068e-04  9.28814797e-02\n",
      "   5.24409970e-02 -3.81094870e-02  2.44170872e-01  5.57509856e-02\n",
      "  -9.17677504e-02 -1.81411875e-02  4.89932301e-01  1.90483840e-03\n",
      "   0.00000000e+00  1.20386412e-01  1.97445965e-01 -7.60809847e-02\n",
      "   2.85271987e-01  1.13034529e-01  3.26332526e-01  0.00000000e+00\n",
      "   9.79301437e-04  5.18549404e-01 -1.67978369e-01  5.13999908e-01\n",
      "   1.27743186e-01  1.77006357e-01 -6.06866966e-02 -6.17551669e-04\n",
      "   2.39976961e-03  3.91388730e-01 -3.00816875e-01  1.62898454e-02\n",
      "   8.00003300e-02 -3.07453407e-01 -5.35613104e-01 -2.80510110e-03\n",
      "  -1.63343801e-05 -8.11840587e-02 -1.52181995e-01 -2.60057943e-01\n",
      "  -1.67616705e-01 -3.40887916e-01 -7.81292219e-02 -2.03147016e-03]\n",
      " [ 0.00000000e+00  3.35876741e-02  7.57066857e-01 -4.47977866e-01\n",
      "   3.14287415e-03  3.25383678e-01  5.76252114e-01 -1.37730389e-01\n",
      "   2.83536886e-03  3.08195480e-02  3.37768766e-02  1.53844291e-01\n",
      "   8.24374666e-02 -1.63829213e-01 -3.35299200e-01 -7.01196448e-02\n",
      "  -5.27881758e-02 -2.93812742e-01  4.24882330e-01  1.12107040e-01\n",
      "  -5.15215390e-01 -6.58520030e-01 -1.14140421e+00 -9.30913805e-03\n",
      "  -3.23815869e-02  1.11417961e-01  4.22423890e-01 -1.35311703e-01\n",
      "   3.10659268e-01 -8.73930944e-02 -1.16852939e+00 -1.08916191e-05\n",
      "   0.00000000e+00 -3.74465825e-01  5.87776254e-02 -2.61755835e-01\n",
      "  -3.77541058e-01 -1.81765234e-01  4.05544643e-01  0.00000000e+00\n",
      "   1.60278682e-05 -3.14209650e-01 -2.99566244e-01 -3.22947456e-01\n",
      "  -2.59456119e-01  1.37702976e-01 -6.47290735e-02 -1.69707314e-03\n",
      "   1.78603131e-05  5.56735422e-02 -3.96051226e-01  5.49226070e-02\n",
      "   4.19471919e-02 -1.63741168e-01 -5.37734112e-01 -7.46531230e-03\n",
      "   2.41541431e-06  3.36194948e-02  1.00744787e-01  3.24519963e-01\n",
      "  -8.62732944e-02  7.81101352e-02 -6.72313018e-01 -5.45613850e-02]\n",
      " [ 0.00000000e+00 -3.08218443e-02 -2.61450656e-01 -1.47669150e-01\n",
      "  -3.16492273e-01 -1.35651060e-01 -2.68421092e-01 -1.99065883e-04\n",
      "  -2.62400307e-05 -3.64939301e-01 -6.75031509e-02 -3.79439276e-01\n",
      "  -3.71500550e-01  1.83336647e-01  1.38346288e-01 -3.50457088e-04\n",
      "  -2.87580225e-03 -2.05445064e-01  2.27629939e-01  2.17834203e-01\n",
      "  -5.43421898e-01 -1.00771387e+00 -2.69455939e-01 -4.76948610e-04\n",
      "  -1.43873439e-03  3.24116550e-01 -2.07371311e-02  2.78593000e-01\n",
      "  -8.71831227e-02 -4.21488528e-02 -5.75901029e-01 -2.37598631e-05\n",
      "   0.00000000e+00  2.43414722e-01  8.67732217e-02  1.78754443e-01\n",
      "  -3.57167600e-02 -7.96054468e-02 -8.87729227e-02  0.00000000e+00\n",
      "  -8.57611506e-04 -7.85372401e-01  5.87423012e-01 -9.29646654e-02\n",
      "   1.04819113e-01 -4.85471560e-02  5.78669685e-01  1.01993043e-01\n",
      "  -2.58709202e-04 -3.49537656e-01  4.26971331e-01  2.96187347e-01\n",
      "  -2.83346703e-01  3.26766986e-01 -3.76107185e-02 -4.89932382e-01\n",
      "  -8.58000040e-07 -2.42330656e-02 -3.95705150e-01 -3.36185726e-01\n",
      "  -1.72354449e-01  1.68395348e-01 -1.86665881e-01 -2.32478930e-01]\n",
      " [ 0.00000000e+00 -1.25513903e-01  4.51342135e-02  1.94108081e-01\n",
      "  -3.24955491e-02  2.71803556e-01  1.87091858e-01  2.56069037e-01\n",
      "  -1.34353316e-05  4.02799062e-02  3.09709241e-02 -1.90990433e-01\n",
      "   8.67937029e-01 -1.02614821e-01 -1.30436805e-01  2.42941887e-01\n",
      "  -7.99864813e-06 -4.00362759e-01 -3.38564383e-01 -4.19047575e-01\n",
      "  -2.75536082e-01  1.46373670e-01  2.18964512e-01 -1.32237272e-02\n",
      "  -4.63625270e-06 -6.43647070e-01 -4.47917804e-02 -3.62696307e-01\n",
      "   7.00409485e-04 -2.06018713e-02  2.42832094e-01 -1.19190224e-02\n",
      "   0.00000000e+00  5.24735513e-01 -1.69530170e-01  8.76671966e-02\n",
      "   4.15686494e-02  1.79700049e-01  3.41657925e-01  0.00000000e+00\n",
      "  -3.45507745e-04 -5.01448987e-01  4.46224644e-02  7.60479963e-02\n",
      "   2.02893456e-01  2.43904370e-01  2.23202836e-02 -4.95252177e-05\n",
      "  -1.16783803e-04 -1.11352928e-01  2.42055607e-01  6.76875945e-02\n",
      "  -7.26225829e-01 -8.85216921e-01 -1.40224878e-01 -6.10589864e-04\n",
      "  -5.46294582e-06 -2.77961270e-01 -2.55995093e-01 -8.86104497e-02\n",
      "  -2.88764218e-01 -6.11914956e-01 -1.51316351e-01 -9.08547623e-03]\n",
      " [ 0.00000000e+00 -4.03273845e-01  1.87426118e-01 -1.92944997e-01\n",
      "  -1.43482425e-02 -1.22536802e-02 -6.08654551e-01 -7.98599421e-02\n",
      "   8.64910512e-01  6.26435126e-02  1.43848310e-01  2.80101383e-02\n",
      "  -1.57104023e-01  1.38014804e-01  1.79182007e-01 -2.62199193e-01\n",
      "  -4.32081056e-01  8.80395983e-02  1.77724619e-01  5.26382313e-02\n",
      "   2.83717992e-02  1.10288551e-01  1.78753031e-01 -2.10240981e-01\n",
      "  -4.38978824e-01 -1.21586737e-01 -6.02051082e-02  1.48029106e-01\n",
      "  -1.03906683e-01  2.78165439e-03 -1.45841350e-01 -3.20150784e-03\n",
      "   0.00000000e+00 -4.16864311e-01 -1.00326182e-01  2.73821306e-01\n",
      "  -2.11054429e-02 -9.10058934e-02 -9.68809621e-01  0.00000000e+00\n",
      "  -9.06801810e-04  1.73997611e-01  1.36146740e-01  4.30751356e-02\n",
      "   5.07650302e-02  7.51978358e-02  1.31520685e-02 -1.02936180e-01\n",
      "  -2.67906033e-02 -5.60406023e-02  1.38747935e-01 -2.54550876e-01\n",
      "  -2.21298498e-01  7.81720291e-02  1.65401007e-03 -2.06665888e-01\n",
      "  -8.89597093e-03 -3.52040348e-03 -5.15370481e-01 -8.34893647e-03\n",
      "   3.68501097e-02 -1.88035018e-01 -1.51799406e-01  7.51133664e-02]\n",
      " [ 0.00000000e+00 -1.02057823e+00 -3.75104672e-02  3.04129985e-01\n",
      "  -1.01319762e-01 -1.65629788e-01 -2.94168765e-01 -1.39633875e-01\n",
      "  -8.12700243e-03  1.17291627e-02  1.92534608e-01  2.10021383e-01\n",
      "  -1.24672611e-01 -1.08528081e-01  3.65331785e-01 -6.98648556e-03\n",
      "  -2.04814192e-01  2.57713055e-01  1.49893026e-01  8.61252941e-02\n",
      "   2.39560217e-01  6.33350984e-01 -2.65115795e-01 -4.27268904e-01\n",
      "  -9.98708336e-02 -2.08497416e-01  2.75672452e-01  2.67558229e-01\n",
      "  -2.70503280e-01  2.87080816e-01 -9.66660392e-03 -5.75292255e-04\n",
      "   0.00000000e+00 -1.52719646e+00 -5.99349387e-02  3.84705789e-01\n",
      "  -3.08788784e-01 -7.47966625e-02  8.04627087e-02  0.00000000e+00\n",
      "  -8.29033476e-07  5.66000253e-02 -6.10732499e-01 -1.34427358e+00\n",
      "  -2.99323151e-01 -9.14370959e-02 -2.67669676e-01  1.77626171e-03\n",
      "  -9.70806107e-07  8.10855512e-02 -6.66993643e-02  6.94545645e-02\n",
      "  -3.96238131e-01 -4.59602441e-01 -1.11590823e-01  2.70989717e-01\n",
      "  -1.01825089e-07 -4.75573169e-01 -1.07033795e-01 -2.67845896e-01\n",
      "   1.95113913e-01 -1.87466056e-01 -1.19002884e-01 -6.64091978e-01]]\n"
     ]
    }
   ],
   "source": [
    "print(regr.coef_)"
   ]
  },
  {
   "cell_type": "code",
   "execution_count": 44,
   "metadata": {},
   "outputs": [
    {
     "data": {
      "text/plain": [
       "0.9666666666666667"
      ]
     },
     "execution_count": 44,
     "metadata": {},
     "output_type": "execute_result"
    }
   ],
   "source": [
    "regr.score(X_test, y_test)"
   ]
  },
  {
   "cell_type": "code",
   "execution_count": 45,
   "metadata": {},
   "outputs": [
    {
     "data": {
      "image/png": "[encoded data removed]",
      "text/plain": [
       "<matplotlib.figure.Figure at 0xf3cabc8278>"
      ]
     },
     "metadata": {},
     "output_type": "display_data"
    }
   ],
   "source": [
    "import matplotlib.pyplot as plt\n",
    "from sklearn.model_selection import cross_val_predict\n",
    "\n",
    "X = X_train\n",
    "y = y_train\n",
    "\n",
    "predicted = cross_val_predict(regr, X, y, cv=10)\n",
    "\n",
    "fig, ax = plt.subplots()\n",
    "ax.scatter(y, predicted, edgecolors=(0, 0, 0))\n",
    "ax.plot([y.min(), y.max()], [y.min(), y.max()], 'k--', lw=4)\n",
    "ax.set_xlabel('Measured')\n",
    "ax.set_ylabel('Predicted')\n",
    "plt.show()"
   ]
  },
  {
   "cell_type": "code",
   "execution_count": 1,
   "metadata": {},
   "outputs": [
    {
     "name": "stdout",
     "output_type": "stream",
     "text": [
      "KNN score: 0.988889\n",
      "LogisticRegression score: 0.966667\n"
     ]
    }
   ],
   "source": [
    "#all in one\n",
    "from sklearn import datasets, linear_model\n",
    "from sklearn.neighbors import KNeighborsClassifier\n",
    "from sklearn.model_selection import train_test_split\n",
    "\n",
    "#load dataset\n",
    "digits = datasets.load_digits()\n",
    "X = digits.data\n",
    "y = digits.target\n",
    "\n",
    "#reshape dataset\n",
    "digits = digits.images.reshape((digits.images.shape[0], -1))\n",
    "\n",
    "\n",
    "#split for train and test, leave out 10% for test\n",
    "X_train, X_test, y_train, y_test = train_test_split(\n",
    "    X, y, test_size=0.1, random_state=42)\n",
    "\n",
    "#build cllasifiers\n",
    "knn = KNeighborsClassifier().fit(X_train, y_train)\n",
    "regr = linear_model.LogisticRegression().fit(X_train, y_train)\n",
    "\n",
    "print('KNN score: %f' % knn.score(X_test, y_test))\n",
    "print('LogisticRegression score: %f' % regr.score(X_test, y_test))\n"
   ]
  },
  {
   "cell_type": "code",
   "execution_count": 11,
   "metadata": {},
   "outputs": [
    {
     "name": "stdout",
     "output_type": "stream",
     "text": [
      "score with C = 1e-10 is [0.1013289  0.10183639 0.26342282]\n",
      "score with C = 1.2915496650148826e-09 is [0.1013289  0.10183639 0.26342282]\n",
      "score with C = 1.6681005372000592e-08 is [0.1013289  0.10183639 0.26342282]\n",
      "score with C = 2.1544346900318867e-07 is [0.1013289  0.10183639 0.26342282]\n",
      "score with C = 2.782559402207126e-06 is [0.1013289  0.10183639 0.26342282]\n",
      "score with C = 3.5938136638046256e-05 is [0.90697674 0.9015025  0.89932886]\n",
      "score with C = 0.0004641588833612782 is [0.95348837 0.96160267 0.9295302 ]\n",
      "score with C = 0.005994842503189421 is [0.93853821 0.95826377 0.93791946]\n",
      "score with C = 0.07742636826811278 is [0.93521595 0.95826377 0.93791946]\n",
      "score with C = 1.0 is [0.93521595 0.95826377 0.93791946]\n"
     ]
    }
   ],
   "source": [
    "#Task: On the digits dataset, plot the cross-validation score of a SVC estimator with an linear kernel \n",
    "#as a function of parameter C (use a logarithmic grid of points, from 1 to 10).\n",
    "\n",
    "import numpy as np\n",
    "from sklearn.model_selection import cross_val_score\n",
    "from sklearn import svm\n",
    "\n",
    "svc = svm.SVC(kernel='linear')\n",
    "C_s = np.logspace(-10, 0, 10)\n",
    "\n",
    "scores = list()\n",
    "scores_std = list()\n",
    "\n",
    "\n",
    "for x in C_s:\n",
    "    clf = svm.SVC(kernel='linear', C=x)\n",
    "    clf.fit(X_train, y_train)\n",
    "    cv_score = cross_val_score(clf, X, y)\n",
    "    scores.append(np.mean(cv_score))\n",
    "    scores_std.append(np.std(cv_score))\n",
    "    print(\"score with C = {} is {}\".format(x, cv_score))\n",
    "\n",
    "\n"
   ]
  },
  {
   "cell_type": "code",
   "execution_count": 12,
   "metadata": {},
   "outputs": [
    {
     "data": {
      "text/plain": [
       "(0, 1.1)"
      ]
     },
     "execution_count": 12,
     "metadata": {},
     "output_type": "execute_result"
    },
    {
     "data": {
      "image/png": "[encoded data removed]",
      "text/plain": [
       "<matplotlib.figure.Figure at 0xb456e546a0>"
      ]
     },
     "metadata": {},
     "output_type": "display_data"
    }
   ],
   "source": [
    "#plotting\n",
    "import matplotlib.pyplot as plt\n",
    "plt.figure(1, figsize=(8, 6))\n",
    "plt.clf()\n",
    "plt.semilogx(C_s, scores)\n",
    "plt.semilogx(C_s, np.array(scores) + np.array(scores_std), 'b--')\n",
    "plt.semilogx(C_s, np.array(scores) - np.array(scores_std), 'b--')\n",
    "locs, labels = plt.yticks()\n",
    "plt.yticks(locs, list(map(lambda x: \"%g\" % x, locs)))\n",
    "plt.ylabel('CV score')\n",
    "plt.xlabel('Parameter C')\n",
    "plt.ylim(0, 1.1)\n"
   ]
  }
 ],
 "metadata": {
  "kernelspec": {
   "display_name": "Python 3",
   "language": "python",
   "name": "python3"
  },
  "language_info": {
   "codemirror_mode": {
    "name": "ipython",
    "version": 3
   },
   "file_extension": ".py",
   "mimetype": "text/x-python",
   "name": "python",
   "nbconvert_exporter": "python",
   "pygments_lexer": "ipython3",
   "version": "3.5.4"
  }
 },
 "nbformat": 4,
 "nbformat_minor": 2
}
